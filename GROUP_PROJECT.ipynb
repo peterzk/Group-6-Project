{
  "nbformat": 4,
  "nbformat_minor": 0,
  "metadata": {
    "colab": {
      "name": "GROUP PROJECT",
      "provenance": [],
      "collapsed_sections": [],
      "include_colab_link": true
    },
    "kernelspec": {
      "name": "python3",
      "display_name": "Python 3"
    }
  },
  "cells": [
    {
      "cell_type": "markdown",
      "metadata": {
        "id": "view-in-github",
        "colab_type": "text"
      },
      "source": [
        "<a href=\"https://colab.research.google.com/github/peterzk/Group-6-Project/blob/master/GROUP_PROJECT.ipynb\" target=\"_parent\"><img src=\"https://colab.research.google.com/assets/colab-badge.svg\" alt=\"Open In Colab\"/></a>"
      ]
    },
    {
      "cell_type": "markdown",
      "metadata": {
        "id": "TdaLhGE8QBGt",
        "colab_type": "text"
      },
      "source": [
        "# **GROUP 6 PYTHON PROJECT**"
      ]
    },
    {
      "cell_type": "markdown",
      "metadata": {
        "id": "x5oJH4JoQlP2",
        "colab_type": "text"
      },
      "source": [
        "# **1.0 Importing our Libraries**"
      ]
    },
    {
      "cell_type": "code",
      "metadata": {
        "id": "Jpi8UvYcQaWb",
        "colab_type": "code",
        "colab": {}
      },
      "source": [
        "# Importing the pandas library\n",
        "import pandas as pd\n",
        "# Importing the numpy library\n",
        "import numpy as np\n",
        "#import matplotlib\n",
        "import matplotlib.pyplot as plt \n",
        "#import seaborn\n",
        "import seaborn as sns"
      ],
      "execution_count": 0,
      "outputs": []
    },
    {
      "cell_type": "markdown",
      "metadata": {
        "id": "7p_mAwlLQ8l_",
        "colab_type": "text"
      },
      "source": [
        "# **1.1 Loading and previewing the Dataset from our CSV file**"
      ]
    },
    {
      "cell_type": "code",
      "metadata": {
        "id": "16nbQr0dfCCg",
        "colab_type": "code",
        "outputId": "cb9a00f4-bb89-447b-a005-ccae7ecc33eb",
        "colab": {
          "base_uri": "https://localhost:8080/",
          "height": 425
        }
      },
      "source": [
        "# LOADING OUR DATASETS\n",
        "# WE START WITH THE 2011_Traffic_Incidences_From_Desinventar\n",
        "# URL  {2011 Traffic Incidences From Desinventar]\n",
        "with open('2011_Traffic_Incidences_From_Desinventar.csv','r')as f:\n",
        "   traffic = pd.read_csv(f,encoding='utf',index_col='OBJECTID')\n",
        "\n",
        "traffic.head()"
      ],
      "execution_count": 0,
      "outputs": [
        {
          "output_type": "execute_result",
          "data": {
            "text/html": [
              "<div>\n",
              "<style scoped>\n",
              "    .dataframe tbody tr th:only-of-type {\n",
              "        vertical-align: middle;\n",
              "    }\n",
              "\n",
              "    .dataframe tbody tr th {\n",
              "        vertical-align: top;\n",
              "    }\n",
              "\n",
              "    .dataframe thead th {\n",
              "        text-align: right;\n",
              "    }\n",
              "</style>\n",
              "<table border=\"1\" class=\"dataframe\">\n",
              "  <thead>\n",
              "    <tr style=\"text-align: right;\">\n",
              "      <th></th>\n",
              "      <th>Serial</th>\n",
              "      <th>Event</th>\n",
              "      <th>Code_County</th>\n",
              "      <th>County</th>\n",
              "      <th>Code_District</th>\n",
              "      <th>District</th>\n",
              "      <th>Code_Division</th>\n",
              "      <th>Division</th>\n",
              "      <th>Date_YMD</th>\n",
              "      <th>Comments</th>\n",
              "      <th>Cause</th>\n",
              "      <th>Description_of_Cause</th>\n",
              "      <th>Source</th>\n",
              "      <th>Magnitude</th>\n",
              "      <th>GLIDEnumber</th>\n",
              "      <th>Other_sectors</th>\n",
              "      <th>DataCards</th>\n",
              "      <th>Deaths</th>\n",
              "      <th>Injured</th>\n",
              "      <th>Missing</th>\n",
              "      <th>Houses_Destroyed</th>\n",
              "      <th>Houses_Damaged</th>\n",
              "      <th>Victims</th>\n",
              "      <th>Affected</th>\n",
              "      <th>Relocated</th>\n",
              "      <th>Evacuated</th>\n",
              "      <th>Losses_$USD</th>\n",
              "      <th>Losses_$Local</th>\n",
              "      <th>Education_centers</th>\n",
              "      <th>Hospitals</th>\n",
              "      <th>Damages_in_crops_Ha</th>\n",
              "      <th>Lost_Cattle</th>\n",
              "    </tr>\n",
              "    <tr>\n",
              "      <th>OBJECTID</th>\n",
              "      <th></th>\n",
              "      <th></th>\n",
              "      <th></th>\n",
              "      <th></th>\n",
              "      <th></th>\n",
              "      <th></th>\n",
              "      <th></th>\n",
              "      <th></th>\n",
              "      <th></th>\n",
              "      <th></th>\n",
              "      <th></th>\n",
              "      <th></th>\n",
              "      <th></th>\n",
              "      <th></th>\n",
              "      <th></th>\n",
              "      <th></th>\n",
              "      <th></th>\n",
              "      <th></th>\n",
              "      <th></th>\n",
              "      <th></th>\n",
              "      <th></th>\n",
              "      <th></th>\n",
              "      <th></th>\n",
              "      <th></th>\n",
              "      <th></th>\n",
              "      <th></th>\n",
              "      <th></th>\n",
              "      <th></th>\n",
              "      <th></th>\n",
              "      <th></th>\n",
              "      <th></th>\n",
              "      <th></th>\n",
              "    </tr>\n",
              "  </thead>\n",
              "  <tbody>\n",
              "    <tr>\n",
              "      <th>0</th>\n",
              "      <td>Serial</td>\n",
              "      <td>Event</td>\n",
              "      <td>Code County</td>\n",
              "      <td>County</td>\n",
              "      <td>Code District</td>\n",
              "      <td>District</td>\n",
              "      <td>Code Division</td>\n",
              "      <td>Division</td>\n",
              "      <td>Date (YMD)</td>\n",
              "      <td>Comments</td>\n",
              "      <td>Cause</td>\n",
              "      <td>Description of Cause</td>\n",
              "      <td>Source</td>\n",
              "      <td>Magnitude</td>\n",
              "      <td>GLIDEnumber</td>\n",
              "      <td>Other sectors</td>\n",
              "      <td>DataCards</td>\n",
              "      <td>Deaths</td>\n",
              "      <td>Injured</td>\n",
              "      <td>Missing</td>\n",
              "      <td>Houses Destroyed</td>\n",
              "      <td>Houses Damaged</td>\n",
              "      <td>Victims</td>\n",
              "      <td>Affected</td>\n",
              "      <td>Relocated</td>\n",
              "      <td>Evacuated</td>\n",
              "      <td>Losses $USD</td>\n",
              "      <td>Losses $Local</td>\n",
              "      <td>Education centers</td>\n",
              "      <td>Hospitals</td>\n",
              "      <td>Damages in crops Ha.</td>\n",
              "      <td>Lost Cattle</td>\n",
              "    </tr>\n",
              "    <tr>\n",
              "      <th>1</th>\n",
              "      <td>11</td>\n",
              "      <td>TRAFFIC ACCIDENT</td>\n",
              "      <td>13</td>\n",
              "      <td>KIAMBU</td>\n",
              "      <td>1301</td>\n",
              "      <td>KIAMBU</td>\n",
              "      <td>130104</td>\n",
              "      <td>LARI</td>\n",
              "      <td>11/09/2011 08:00:00 AM +0000</td>\n",
              "      <td>NaN</td>\n",
              "      <td>Error</td>\n",
              "      <td>Pedestrian crossing road</td>\n",
              "      <td>KPR</td>\n",
              "      <td>NaN</td>\n",
              "      <td>NaN</td>\n",
              "      <td>car damaged</td>\n",
              "      <td>1</td>\n",
              "      <td>1</td>\n",
              "      <td>0</td>\n",
              "      <td>0</td>\n",
              "      <td>0</td>\n",
              "      <td>0</td>\n",
              "      <td>0</td>\n",
              "      <td>0</td>\n",
              "      <td>0</td>\n",
              "      <td>0</td>\n",
              "      <td>0</td>\n",
              "      <td>0</td>\n",
              "      <td>0</td>\n",
              "      <td>0</td>\n",
              "      <td>0</td>\n",
              "      <td>0</td>\n",
              "    </tr>\n",
              "    <tr>\n",
              "      <th>2</th>\n",
              "      <td>29</td>\n",
              "      <td>TRAFFIC ACCIDENT</td>\n",
              "      <td>30</td>\n",
              "      <td>NAIROBI</td>\n",
              "      <td>3001</td>\n",
              "      <td>NAIROBI</td>\n",
              "      <td>300106</td>\n",
              "      <td>MAKADARA</td>\n",
              "      <td>01/01/2011 08:00:00 AM +0000</td>\n",
              "      <td>NaN</td>\n",
              "      <td>NaN</td>\n",
              "      <td>Hit and run</td>\n",
              "      <td>KPR</td>\n",
              "      <td>NaN</td>\n",
              "      <td>NaN</td>\n",
              "      <td>NaN</td>\n",
              "      <td>1</td>\n",
              "      <td>1</td>\n",
              "      <td>0</td>\n",
              "      <td>0</td>\n",
              "      <td>0</td>\n",
              "      <td>0</td>\n",
              "      <td>0</td>\n",
              "      <td>0</td>\n",
              "      <td>0</td>\n",
              "      <td>0</td>\n",
              "      <td>0</td>\n",
              "      <td>0</td>\n",
              "      <td>0</td>\n",
              "      <td>0</td>\n",
              "      <td>0</td>\n",
              "      <td>0</td>\n",
              "    </tr>\n",
              "    <tr>\n",
              "      <th>3</th>\n",
              "      <td>35</td>\n",
              "      <td>TRAFFIC ACCIDENT</td>\n",
              "      <td>12</td>\n",
              "      <td>KERICHO</td>\n",
              "      <td>1203</td>\n",
              "      <td>BURET</td>\n",
              "      <td>120303</td>\n",
              "      <td>KONOIN</td>\n",
              "      <td>01/01/2011 08:00:00 AM +0000</td>\n",
              "      <td>NaN</td>\n",
              "      <td>Other cause</td>\n",
              "      <td>Driver lost control of the vehicle.</td>\n",
              "      <td>KPR</td>\n",
              "      <td>NaN</td>\n",
              "      <td>NaN</td>\n",
              "      <td>The motor vehicle front bumper and windscreen ...</td>\n",
              "      <td>1</td>\n",
              "      <td>0</td>\n",
              "      <td>14</td>\n",
              "      <td>0</td>\n",
              "      <td>0</td>\n",
              "      <td>0</td>\n",
              "      <td>0</td>\n",
              "      <td>0</td>\n",
              "      <td>0</td>\n",
              "      <td>0</td>\n",
              "      <td>0</td>\n",
              "      <td>0</td>\n",
              "      <td>0</td>\n",
              "      <td>0</td>\n",
              "      <td>0</td>\n",
              "      <td>0</td>\n",
              "    </tr>\n",
              "    <tr>\n",
              "      <th>4</th>\n",
              "      <td>20</td>\n",
              "      <td>TRAFFIC ACCIDENT</td>\n",
              "      <td>23</td>\n",
              "      <td>MAKUENI</td>\n",
              "      <td>2305</td>\n",
              "      <td>MAKUENI</td>\n",
              "      <td>230504</td>\n",
              "      <td>KASIKEU</td>\n",
              "      <td>01/30/2011 08:00:00 AM +0000</td>\n",
              "      <td>NaN</td>\n",
              "      <td>Negligence</td>\n",
              "      <td>Recklessness</td>\n",
              "      <td>NaN</td>\n",
              "      <td>NaN</td>\n",
              "      <td>NaN</td>\n",
              "      <td>Minivan and Leyland lorry damaged</td>\n",
              "      <td>1</td>\n",
              "      <td>0</td>\n",
              "      <td>1</td>\n",
              "      <td>0</td>\n",
              "      <td>0</td>\n",
              "      <td>0</td>\n",
              "      <td>0</td>\n",
              "      <td>0</td>\n",
              "      <td>0</td>\n",
              "      <td>0</td>\n",
              "      <td>0</td>\n",
              "      <td>0</td>\n",
              "      <td>0</td>\n",
              "      <td>0</td>\n",
              "      <td>0</td>\n",
              "      <td>0</td>\n",
              "    </tr>\n",
              "  </tbody>\n",
              "</table>\n",
              "</div>"
            ],
            "text/plain": [
              "          Serial             Event  ...   Damages_in_crops_Ha  Lost_Cattle\n",
              "OBJECTID                            ...                                   \n",
              "0         Serial             Event  ...  Damages in crops Ha.  Lost Cattle\n",
              "1             11  TRAFFIC ACCIDENT  ...                     0            0\n",
              "2             29  TRAFFIC ACCIDENT  ...                     0            0\n",
              "3             35  TRAFFIC ACCIDENT  ...                     0            0\n",
              "4             20  TRAFFIC ACCIDENT  ...                     0            0\n",
              "\n",
              "[5 rows x 32 columns]"
            ]
          },
          "metadata": {
            "tags": []
          },
          "execution_count": 56
        }
      ]
    },
    {
      "cell_type": "code",
      "metadata": {
        "id": "6lvxOgCyi7yO",
        "colab_type": "code",
        "outputId": "6ded4ed9-afed-4972-bfca-93f2a336e92f",
        "colab": {
          "base_uri": "https://localhost:8080/",
          "height": 153
        }
      },
      "source": [
        "# We preview our columns\n",
        "traffic.columns"
      ],
      "execution_count": 0,
      "outputs": [
        {
          "output_type": "execute_result",
          "data": {
            "text/plain": [
              "Index(['Serial', 'Event', 'Code_County', 'County', 'Code_District', 'District',\n",
              "       'Code_Division', 'Division', 'Date_YMD', 'Comments', 'Cause',\n",
              "       'Description_of_Cause', 'Source', 'Magnitude', 'GLIDEnumber',\n",
              "       'Other_sectors', 'DataCards', 'Deaths', 'Injured', 'Missing',\n",
              "       'Houses_Destroyed', 'Houses_Damaged', 'Victims', 'Affected',\n",
              "       'Relocated', 'Evacuated', 'Losses_$USD', 'Losses_$Local',\n",
              "       'Education_centers', 'Hospitals', 'Damages_in_crops_Ha', 'Lost_Cattle'],\n",
              "      dtype='object')"
            ]
          },
          "metadata": {
            "tags": []
          },
          "execution_count": 57
        }
      ]
    },
    {
      "cell_type": "markdown",
      "metadata": {
        "id": "Kj8YHC_aP8Ty",
        "colab_type": "text"
      },
      "source": [
        "# **1.2 Accessing Information about our Dataset**"
      ]
    },
    {
      "cell_type": "code",
      "metadata": {
        "id": "pDqiYVhOR9dG",
        "colab_type": "code",
        "outputId": "d13d0072-a45a-4bf6-d90b-e23732d2617a",
        "colab": {
          "base_uri": "https://localhost:8080/",
          "height": 799
        }
      },
      "source": [
        "# Accessing Information about our Dataset\n",
        "\n",
        "print(traffic.describe())\n",
        "traffic.info()"
      ],
      "execution_count": 0,
      "outputs": [
        {
          "output_type": "stream",
          "text": [
            "       Serial             Event  ... Damages_in_crops_Ha Lost_Cattle\n",
            "count    1355              1355  ...                1355        1355\n",
            "unique   1354                 2  ...                   2           2\n",
            "top       675  TRAFFIC ACCIDENT  ...                   0           0\n",
            "freq        2              1354  ...                1354        1354\n",
            "\n",
            "[4 rows x 32 columns]\n",
            "<class 'pandas.core.frame.DataFrame'>\n",
            "Int64Index: 1355 entries, 0 to 1354\n",
            "Data columns (total 32 columns):\n",
            " #   Column                Non-Null Count  Dtype \n",
            "---  ------                --------------  ----- \n",
            " 0   Serial                1355 non-null   object\n",
            " 1   Event                 1355 non-null   object\n",
            " 2   Code_County           1355 non-null   object\n",
            " 3   County                1355 non-null   object\n",
            " 4   Code_District         1347 non-null   object\n",
            " 5   District              1347 non-null   object\n",
            " 6   Code_Division         1189 non-null   object\n",
            " 7   Division              1189 non-null   object\n",
            " 8   Date_YMD              1355 non-null   object\n",
            " 9   Comments              132 non-null    object\n",
            " 10  Cause                 1334 non-null   object\n",
            " 11  Description_of_Cause  1250 non-null   object\n",
            " 12  Source                1310 non-null   object\n",
            " 13  Magnitude             1 non-null      object\n",
            " 14  GLIDEnumber           1 non-null      object\n",
            " 15  Other_sectors         324 non-null    object\n",
            " 16  DataCards             1355 non-null   object\n",
            " 17  Deaths                1355 non-null   object\n",
            " 18  Injured               1355 non-null   object\n",
            " 19  Missing               1355 non-null   object\n",
            " 20  Houses_Destroyed      1355 non-null   object\n",
            " 21  Houses_Damaged        1355 non-null   object\n",
            " 22  Victims               1355 non-null   object\n",
            " 23  Affected              1355 non-null   object\n",
            " 24  Relocated             1355 non-null   object\n",
            " 25  Evacuated             1355 non-null   object\n",
            " 26  Losses_$USD           1355 non-null   object\n",
            " 27  Losses_$Local         1355 non-null   object\n",
            " 28  Education_centers     1355 non-null   object\n",
            " 29  Hospitals             1355 non-null   object\n",
            " 30  Damages_in_crops_Ha   1355 non-null   object\n",
            " 31  Lost_Cattle           1355 non-null   object\n",
            "dtypes: object(32)\n",
            "memory usage: 349.3+ KB\n"
          ],
          "name": "stdout"
        }
      ]
    },
    {
      "cell_type": "markdown",
      "metadata": {
        "id": "GB6cOoVvSzuX",
        "colab_type": "text"
      },
      "source": [
        "# **1.3 CLEANING OUR DATASET**"
      ]
    },
    {
      "cell_type": "markdown",
      "metadata": {
        "id": "Doantn9pTCzD",
        "colab_type": "text"
      },
      "source": [
        "## **1.31 Checking for Validity and uniformity**"
      ]
    },
    {
      "cell_type": "code",
      "metadata": {
        "id": "XAWh6sKBmpZA",
        "colab_type": "code",
        "outputId": "8efe1c1f-2cee-4a4c-ebe2-4451519757f9",
        "colab": {
          "base_uri": "https://localhost:8080/",
          "height": 230
        }
      },
      "source": [
        "# We drop the first row since it is a duplication of column names\n",
        "\n",
        "traffic.drop(0, axis=0, inplace= True)\n",
        "traffic.head(2)"
      ],
      "execution_count": 0,
      "outputs": [
        {
          "output_type": "execute_result",
          "data": {
            "text/html": [
              "<div>\n",
              "<style scoped>\n",
              "    .dataframe tbody tr th:only-of-type {\n",
              "        vertical-align: middle;\n",
              "    }\n",
              "\n",
              "    .dataframe tbody tr th {\n",
              "        vertical-align: top;\n",
              "    }\n",
              "\n",
              "    .dataframe thead th {\n",
              "        text-align: right;\n",
              "    }\n",
              "</style>\n",
              "<table border=\"1\" class=\"dataframe\">\n",
              "  <thead>\n",
              "    <tr style=\"text-align: right;\">\n",
              "      <th></th>\n",
              "      <th>Serial</th>\n",
              "      <th>Event</th>\n",
              "      <th>Code_County</th>\n",
              "      <th>County</th>\n",
              "      <th>Code_District</th>\n",
              "      <th>District</th>\n",
              "      <th>Code_Division</th>\n",
              "      <th>Division</th>\n",
              "      <th>Date_YMD</th>\n",
              "      <th>Comments</th>\n",
              "      <th>Cause</th>\n",
              "      <th>Description_of_Cause</th>\n",
              "      <th>Source</th>\n",
              "      <th>Magnitude</th>\n",
              "      <th>GLIDEnumber</th>\n",
              "      <th>Other_sectors</th>\n",
              "      <th>DataCards</th>\n",
              "      <th>Deaths</th>\n",
              "      <th>Injured</th>\n",
              "      <th>Missing</th>\n",
              "      <th>Houses_Destroyed</th>\n",
              "      <th>Houses_Damaged</th>\n",
              "      <th>Victims</th>\n",
              "      <th>Affected</th>\n",
              "      <th>Relocated</th>\n",
              "      <th>Evacuated</th>\n",
              "      <th>Losses_$USD</th>\n",
              "      <th>Losses_$Local</th>\n",
              "      <th>Education_centers</th>\n",
              "      <th>Hospitals</th>\n",
              "      <th>Damages_in_crops_Ha</th>\n",
              "      <th>Lost_Cattle</th>\n",
              "    </tr>\n",
              "    <tr>\n",
              "      <th>OBJECTID</th>\n",
              "      <th></th>\n",
              "      <th></th>\n",
              "      <th></th>\n",
              "      <th></th>\n",
              "      <th></th>\n",
              "      <th></th>\n",
              "      <th></th>\n",
              "      <th></th>\n",
              "      <th></th>\n",
              "      <th></th>\n",
              "      <th></th>\n",
              "      <th></th>\n",
              "      <th></th>\n",
              "      <th></th>\n",
              "      <th></th>\n",
              "      <th></th>\n",
              "      <th></th>\n",
              "      <th></th>\n",
              "      <th></th>\n",
              "      <th></th>\n",
              "      <th></th>\n",
              "      <th></th>\n",
              "      <th></th>\n",
              "      <th></th>\n",
              "      <th></th>\n",
              "      <th></th>\n",
              "      <th></th>\n",
              "      <th></th>\n",
              "      <th></th>\n",
              "      <th></th>\n",
              "      <th></th>\n",
              "      <th></th>\n",
              "    </tr>\n",
              "  </thead>\n",
              "  <tbody>\n",
              "    <tr>\n",
              "      <th>1</th>\n",
              "      <td>11</td>\n",
              "      <td>TRAFFIC ACCIDENT</td>\n",
              "      <td>13</td>\n",
              "      <td>KIAMBU</td>\n",
              "      <td>1301</td>\n",
              "      <td>KIAMBU</td>\n",
              "      <td>130104</td>\n",
              "      <td>LARI</td>\n",
              "      <td>11/09/2011 08:00:00 AM +0000</td>\n",
              "      <td>NaN</td>\n",
              "      <td>Error</td>\n",
              "      <td>Pedestrian crossing road</td>\n",
              "      <td>KPR</td>\n",
              "      <td>NaN</td>\n",
              "      <td>NaN</td>\n",
              "      <td>car damaged</td>\n",
              "      <td>1</td>\n",
              "      <td>1</td>\n",
              "      <td>0</td>\n",
              "      <td>0</td>\n",
              "      <td>0</td>\n",
              "      <td>0</td>\n",
              "      <td>0</td>\n",
              "      <td>0</td>\n",
              "      <td>0</td>\n",
              "      <td>0</td>\n",
              "      <td>0</td>\n",
              "      <td>0</td>\n",
              "      <td>0</td>\n",
              "      <td>0</td>\n",
              "      <td>0</td>\n",
              "      <td>0</td>\n",
              "    </tr>\n",
              "    <tr>\n",
              "      <th>2</th>\n",
              "      <td>29</td>\n",
              "      <td>TRAFFIC ACCIDENT</td>\n",
              "      <td>30</td>\n",
              "      <td>NAIROBI</td>\n",
              "      <td>3001</td>\n",
              "      <td>NAIROBI</td>\n",
              "      <td>300106</td>\n",
              "      <td>MAKADARA</td>\n",
              "      <td>01/01/2011 08:00:00 AM +0000</td>\n",
              "      <td>NaN</td>\n",
              "      <td>NaN</td>\n",
              "      <td>Hit and run</td>\n",
              "      <td>KPR</td>\n",
              "      <td>NaN</td>\n",
              "      <td>NaN</td>\n",
              "      <td>NaN</td>\n",
              "      <td>1</td>\n",
              "      <td>1</td>\n",
              "      <td>0</td>\n",
              "      <td>0</td>\n",
              "      <td>0</td>\n",
              "      <td>0</td>\n",
              "      <td>0</td>\n",
              "      <td>0</td>\n",
              "      <td>0</td>\n",
              "      <td>0</td>\n",
              "      <td>0</td>\n",
              "      <td>0</td>\n",
              "      <td>0</td>\n",
              "      <td>0</td>\n",
              "      <td>0</td>\n",
              "      <td>0</td>\n",
              "    </tr>\n",
              "  </tbody>\n",
              "</table>\n",
              "</div>"
            ],
            "text/plain": [
              "         Serial             Event  ... Damages_in_crops_Ha Lost_Cattle\n",
              "OBJECTID                           ...                                \n",
              "1            11  TRAFFIC ACCIDENT  ...                   0           0\n",
              "2            29  TRAFFIC ACCIDENT  ...                   0           0\n",
              "\n",
              "[2 rows x 32 columns]"
            ]
          },
          "metadata": {
            "tags": []
          },
          "execution_count": 59
        }
      ]
    },
    {
      "cell_type": "code",
      "metadata": {
        "id": "CMLbUqALjAcj",
        "colab_type": "code",
        "outputId": "8fd3f146-eee9-4666-d640-cca175b5bb16",
        "colab": {
          "base_uri": "https://localhost:8080/",
          "height": 153
        }
      },
      "source": [
        "# We remove whitespaces in our columns\n",
        "# We also ensure that our columns are of the same case\n",
        "\n",
        "traffic.columns= traffic.columns.str.replace(\" \",\" \").str.upper()\n",
        "traffic.columns"
      ],
      "execution_count": 0,
      "outputs": [
        {
          "output_type": "execute_result",
          "data": {
            "text/plain": [
              "Index(['SERIAL', 'EVENT', 'CODE_COUNTY', 'COUNTY', 'CODE_DISTRICT', 'DISTRICT',\n",
              "       'CODE_DIVISION', 'DIVISION', 'DATE_YMD', 'COMMENTS', 'CAUSE',\n",
              "       'DESCRIPTION_OF_CAUSE', 'SOURCE', 'MAGNITUDE', 'GLIDENUMBER',\n",
              "       'OTHER_SECTORS', 'DATACARDS', 'DEATHS', 'INJURED', 'MISSING',\n",
              "       'HOUSES_DESTROYED', 'HOUSES_DAMAGED', 'VICTIMS', 'AFFECTED',\n",
              "       'RELOCATED', 'EVACUATED', 'LOSSES_$USD', 'LOSSES_$LOCAL',\n",
              "       'EDUCATION_CENTERS', 'HOSPITALS', 'DAMAGES_IN_CROPS_HA', 'LOST_CATTLE'],\n",
              "      dtype='object')"
            ]
          },
          "metadata": {
            "tags": []
          },
          "execution_count": 60
        }
      ]
    },
    {
      "cell_type": "code",
      "metadata": {
        "id": "oDlx9VP6FeYz",
        "colab_type": "code",
        "outputId": "fdaacc74-019b-4b78-9b35-217252871c9a",
        "colab": {
          "base_uri": "https://localhost:8080/",
          "height": 165
        }
      },
      "source": [
        "# We drop columns that w do not need for our analysis\n",
        "# EXPLANATION: We will drop 'MISSING','HOUSES_DESTROYED', 'HOUSES_DAMAGED', 'VICTIMS', 'AFFECTED','RELOCATED', 'EVACUATED', 'LOSSES_$USD', 'LOSSES_$LOCAL','EDUCATION_CENTERS', 'HOSPITALS', 'DAMAGES_IN_CROPS_HA', 'LOST_CATTLE','COMMENTS','SOURCE','MAGNITUDE', 'GLIDENUMBER','OTHER_SECTORS' Columns\n",
        "\n",
        "traffic = traffic.drop( ['MISSING','HOUSES_DESTROYED', 'HOUSES_DAMAGED', 'VICTIMS', 'AFFECTED','RELOCATED', 'EVACUATED', 'LOSSES_$USD', 'LOSSES_$LOCAL','EDUCATION_CENTERS', 'HOSPITALS', 'DAMAGES_IN_CROPS_HA', 'LOST_CATTLE','COMMENTS','SOURCE','MAGNITUDE', 'GLIDENUMBER','OTHER_SECTORS'],axis=1)\n",
        "traffic.head(1)"
      ],
      "execution_count": 0,
      "outputs": [
        {
          "output_type": "execute_result",
          "data": {
            "text/html": [
              "<div>\n",
              "<style scoped>\n",
              "    .dataframe tbody tr th:only-of-type {\n",
              "        vertical-align: middle;\n",
              "    }\n",
              "\n",
              "    .dataframe tbody tr th {\n",
              "        vertical-align: top;\n",
              "    }\n",
              "\n",
              "    .dataframe thead th {\n",
              "        text-align: right;\n",
              "    }\n",
              "</style>\n",
              "<table border=\"1\" class=\"dataframe\">\n",
              "  <thead>\n",
              "    <tr style=\"text-align: right;\">\n",
              "      <th></th>\n",
              "      <th>SERIAL</th>\n",
              "      <th>EVENT</th>\n",
              "      <th>CODE_COUNTY</th>\n",
              "      <th>COUNTY</th>\n",
              "      <th>CODE_DISTRICT</th>\n",
              "      <th>DISTRICT</th>\n",
              "      <th>CODE_DIVISION</th>\n",
              "      <th>DIVISION</th>\n",
              "      <th>DATE_YMD</th>\n",
              "      <th>CAUSE</th>\n",
              "      <th>DESCRIPTION_OF_CAUSE</th>\n",
              "      <th>DATACARDS</th>\n",
              "      <th>DEATHS</th>\n",
              "      <th>INJURED</th>\n",
              "    </tr>\n",
              "    <tr>\n",
              "      <th>OBJECTID</th>\n",
              "      <th></th>\n",
              "      <th></th>\n",
              "      <th></th>\n",
              "      <th></th>\n",
              "      <th></th>\n",
              "      <th></th>\n",
              "      <th></th>\n",
              "      <th></th>\n",
              "      <th></th>\n",
              "      <th></th>\n",
              "      <th></th>\n",
              "      <th></th>\n",
              "      <th></th>\n",
              "      <th></th>\n",
              "    </tr>\n",
              "  </thead>\n",
              "  <tbody>\n",
              "    <tr>\n",
              "      <th>1</th>\n",
              "      <td>11</td>\n",
              "      <td>TRAFFIC ACCIDENT</td>\n",
              "      <td>13</td>\n",
              "      <td>KIAMBU</td>\n",
              "      <td>1301</td>\n",
              "      <td>KIAMBU</td>\n",
              "      <td>130104</td>\n",
              "      <td>LARI</td>\n",
              "      <td>11/09/2011 08:00:00 AM +0000</td>\n",
              "      <td>Error</td>\n",
              "      <td>Pedestrian crossing road</td>\n",
              "      <td>1</td>\n",
              "      <td>1</td>\n",
              "      <td>0</td>\n",
              "    </tr>\n",
              "  </tbody>\n",
              "</table>\n",
              "</div>"
            ],
            "text/plain": [
              "         SERIAL             EVENT CODE_COUNTY  ... DATACARDS DEATHS INJURED\n",
              "OBJECTID                                       ...                         \n",
              "1            11  TRAFFIC ACCIDENT          13  ...         1      1       0\n",
              "\n",
              "[1 rows x 14 columns]"
            ]
          },
          "metadata": {
            "tags": []
          },
          "execution_count": 61
        }
      ]
    },
    {
      "cell_type": "code",
      "metadata": {
        "id": "geb_pK4bIXgA",
        "colab_type": "code",
        "outputId": "d388d04d-6468-4c8a-9733-c9a9d47f068a",
        "colab": {
          "base_uri": "https://localhost:8080/",
          "height": 85
        }
      },
      "source": [
        "# We preview our columns for the new table\n",
        "traffic.columns"
      ],
      "execution_count": 0,
      "outputs": [
        {
          "output_type": "execute_result",
          "data": {
            "text/plain": [
              "Index(['SERIAL', 'EVENT', 'CODE_COUNTY', 'COUNTY', 'CODE_DISTRICT', 'DISTRICT',\n",
              "       'CODE_DIVISION', 'DIVISION', 'DATE_YMD', 'CAUSE',\n",
              "       'DESCRIPTION_OF_CAUSE', 'DATACARDS', 'DEATHS', 'INJURED'],\n",
              "      dtype='object')"
            ]
          },
          "metadata": {
            "tags": []
          },
          "execution_count": 62
        }
      ]
    },
    {
      "cell_type": "code",
      "metadata": {
        "id": "M5_HzO3vI86_",
        "colab_type": "code",
        "outputId": "7ba57421-aa68-46d2-d72f-8216da516b5f",
        "colab": {
          "base_uri": "https://localhost:8080/",
          "height": 425
        }
      },
      "source": [
        "# We remove whtespaces from our rows\n",
        "# We also ensure that our rows are of the same case\n",
        "\n",
        "traffic['EVENT']=traffic['EVENT'].str.replace(\" \",\" \").str.upper()\n",
        "traffic['COUNTY']= traffic['COUNTY'].str.replace(\" \",\" \").str.upper()\n",
        "traffic['DISTRICT']=traffic['DISTRICT'].str.replace(\" \",\" \").str.upper()\n",
        "traffic['DIVISION']=traffic['DIVISION'].str.replace(\" \",\" \").str.upper()\n",
        "traffic['CAUSE']=traffic['CAUSE'].str.replace(\" \",\" \").str.upper()\n",
        "traffic['DESCRIPTION_OF_CAUSE']=traffic['DESCRIPTION_OF_CAUSE'].str.replace(\" \",\" \").str.upper()\n",
        "traffic['DATACARDS']=traffic['DATACARDS'].str.replace(\" \",\" \").str.upper()\n",
        "traffic['DEATHS']=traffic['DEATHS'].str.replace(\" \",\" \").str.upper()\n",
        "traffic['INJURED']=traffic['INJURED'].str.replace(\" \",\" \").str.upper()\n",
        "traffic.head(5)"
      ],
      "execution_count": 0,
      "outputs": [
        {
          "output_type": "execute_result",
          "data": {
            "text/html": [
              "<div>\n",
              "<style scoped>\n",
              "    .dataframe tbody tr th:only-of-type {\n",
              "        vertical-align: middle;\n",
              "    }\n",
              "\n",
              "    .dataframe tbody tr th {\n",
              "        vertical-align: top;\n",
              "    }\n",
              "\n",
              "    .dataframe thead th {\n",
              "        text-align: right;\n",
              "    }\n",
              "</style>\n",
              "<table border=\"1\" class=\"dataframe\">\n",
              "  <thead>\n",
              "    <tr style=\"text-align: right;\">\n",
              "      <th></th>\n",
              "      <th>SERIAL</th>\n",
              "      <th>EVENT</th>\n",
              "      <th>CODE_COUNTY</th>\n",
              "      <th>COUNTY</th>\n",
              "      <th>CODE_DISTRICT</th>\n",
              "      <th>DISTRICT</th>\n",
              "      <th>CODE_DIVISION</th>\n",
              "      <th>DIVISION</th>\n",
              "      <th>DATE_YMD</th>\n",
              "      <th>CAUSE</th>\n",
              "      <th>DESCRIPTION_OF_CAUSE</th>\n",
              "      <th>DATACARDS</th>\n",
              "      <th>DEATHS</th>\n",
              "      <th>INJURED</th>\n",
              "    </tr>\n",
              "    <tr>\n",
              "      <th>OBJECTID</th>\n",
              "      <th></th>\n",
              "      <th></th>\n",
              "      <th></th>\n",
              "      <th></th>\n",
              "      <th></th>\n",
              "      <th></th>\n",
              "      <th></th>\n",
              "      <th></th>\n",
              "      <th></th>\n",
              "      <th></th>\n",
              "      <th></th>\n",
              "      <th></th>\n",
              "      <th></th>\n",
              "      <th></th>\n",
              "    </tr>\n",
              "  </thead>\n",
              "  <tbody>\n",
              "    <tr>\n",
              "      <th>1</th>\n",
              "      <td>11</td>\n",
              "      <td>TRAFFIC ACCIDENT</td>\n",
              "      <td>13</td>\n",
              "      <td>KIAMBU</td>\n",
              "      <td>1301</td>\n",
              "      <td>KIAMBU</td>\n",
              "      <td>130104</td>\n",
              "      <td>LARI</td>\n",
              "      <td>11/09/2011 08:00:00 AM +0000</td>\n",
              "      <td>ERROR</td>\n",
              "      <td>PEDESTRIAN CROSSING ROAD</td>\n",
              "      <td>1</td>\n",
              "      <td>1</td>\n",
              "      <td>0</td>\n",
              "    </tr>\n",
              "    <tr>\n",
              "      <th>2</th>\n",
              "      <td>29</td>\n",
              "      <td>TRAFFIC ACCIDENT</td>\n",
              "      <td>30</td>\n",
              "      <td>NAIROBI</td>\n",
              "      <td>3001</td>\n",
              "      <td>NAIROBI</td>\n",
              "      <td>300106</td>\n",
              "      <td>MAKADARA</td>\n",
              "      <td>01/01/2011 08:00:00 AM +0000</td>\n",
              "      <td>NaN</td>\n",
              "      <td>HIT AND RUN</td>\n",
              "      <td>1</td>\n",
              "      <td>1</td>\n",
              "      <td>0</td>\n",
              "    </tr>\n",
              "    <tr>\n",
              "      <th>3</th>\n",
              "      <td>35</td>\n",
              "      <td>TRAFFIC ACCIDENT</td>\n",
              "      <td>12</td>\n",
              "      <td>KERICHO</td>\n",
              "      <td>1203</td>\n",
              "      <td>BURET</td>\n",
              "      <td>120303</td>\n",
              "      <td>KONOIN</td>\n",
              "      <td>01/01/2011 08:00:00 AM +0000</td>\n",
              "      <td>OTHER CAUSE</td>\n",
              "      <td>DRIVER LOST CONTROL OF THE VEHICLE.</td>\n",
              "      <td>1</td>\n",
              "      <td>0</td>\n",
              "      <td>14</td>\n",
              "    </tr>\n",
              "    <tr>\n",
              "      <th>4</th>\n",
              "      <td>20</td>\n",
              "      <td>TRAFFIC ACCIDENT</td>\n",
              "      <td>23</td>\n",
              "      <td>MAKUENI</td>\n",
              "      <td>2305</td>\n",
              "      <td>MAKUENI</td>\n",
              "      <td>230504</td>\n",
              "      <td>KASIKEU</td>\n",
              "      <td>01/30/2011 08:00:00 AM +0000</td>\n",
              "      <td>NEGLIGENCE</td>\n",
              "      <td>RECKLESSNESS</td>\n",
              "      <td>1</td>\n",
              "      <td>0</td>\n",
              "      <td>1</td>\n",
              "    </tr>\n",
              "    <tr>\n",
              "      <th>5</th>\n",
              "      <td>36</td>\n",
              "      <td>TRAFFIC ACCIDENT</td>\n",
              "      <td>20</td>\n",
              "      <td>LAIKIPIA</td>\n",
              "      <td>2008</td>\n",
              "      <td>LAIKIPIA WEST</td>\n",
              "      <td>200801</td>\n",
              "      <td>CENTRAL LAIKIPIA</td>\n",
              "      <td>01/01/2011 08:00:00 AM +0000</td>\n",
              "      <td>ERROR</td>\n",
              "      <td>PEDAL CYCLIST WAS KNOCKED DOWN.</td>\n",
              "      <td>1</td>\n",
              "      <td>1</td>\n",
              "      <td>0</td>\n",
              "    </tr>\n",
              "  </tbody>\n",
              "</table>\n",
              "</div>"
            ],
            "text/plain": [
              "         SERIAL             EVENT CODE_COUNTY  ... DATACARDS DEATHS INJURED\n",
              "OBJECTID                                       ...                         \n",
              "1            11  TRAFFIC ACCIDENT          13  ...         1      1       0\n",
              "2            29  TRAFFIC ACCIDENT          30  ...         1      1       0\n",
              "3            35  TRAFFIC ACCIDENT          12  ...         1      0      14\n",
              "4            20  TRAFFIC ACCIDENT          23  ...         1      0       1\n",
              "5            36  TRAFFIC ACCIDENT          20  ...         1      1       0\n",
              "\n",
              "[5 rows x 14 columns]"
            ]
          },
          "metadata": {
            "tags": []
          },
          "execution_count": 63
        }
      ]
    },
    {
      "cell_type": "markdown",
      "metadata": {
        "id": "M12WzjSZiM5V",
        "colab_type": "text"
      },
      "source": [
        "## **1.32 Accuracy**"
      ]
    },
    {
      "cell_type": "code",
      "metadata": {
        "id": "9716WgpFgQWl",
        "colab_type": "code",
        "outputId": "ac1a4215-4b27-44e5-9688-a98034cb388f",
        "colab": {
          "base_uri": "https://localhost:8080/",
          "height": 374
        }
      },
      "source": [
        "#  We convert our DEATH and INJURED columns datatypes from string to integer\n",
        "\n",
        "from sklearn.preprocessing import LabelEncoder\n",
        "encoder = LabelEncoder()\n",
        "\n",
        "encoder.fit(traffic['DEATHS'])\n",
        "traffic['DEATHS'] = encoder.transform(traffic['DEATHS'])\n",
        "\n",
        "encoder.fit(traffic['INJURED'])\n",
        "traffic['INJURED']=encoder.transform(traffic['INJURED'])\n",
        "\n",
        "traffic.info()\n",
        "\n"
      ],
      "execution_count": 0,
      "outputs": [
        {
          "output_type": "stream",
          "text": [
            "<class 'pandas.core.frame.DataFrame'>\n",
            "Int64Index: 1354 entries, 1 to 1354\n",
            "Data columns (total 14 columns):\n",
            " #   Column                Non-Null Count  Dtype \n",
            "---  ------                --------------  ----- \n",
            " 0   SERIAL                1354 non-null   object\n",
            " 1   EVENT                 1354 non-null   object\n",
            " 2   CODE_COUNTY           1354 non-null   object\n",
            " 3   COUNTY                1354 non-null   object\n",
            " 4   CODE_DISTRICT         1346 non-null   object\n",
            " 5   DISTRICT              1346 non-null   object\n",
            " 6   CODE_DIVISION         1188 non-null   object\n",
            " 7   DIVISION              1188 non-null   object\n",
            " 8   DATE_YMD              1354 non-null   object\n",
            " 9   CAUSE                 1333 non-null   object\n",
            " 10  DESCRIPTION_OF_CAUSE  1249 non-null   object\n",
            " 11  DATACARDS             1354 non-null   object\n",
            " 12  DEATHS                1354 non-null   int64 \n",
            " 13  INJURED               1354 non-null   int64 \n",
            "dtypes: int64(2), object(12)\n",
            "memory usage: 158.7+ KB\n"
          ],
          "name": "stdout"
        }
      ]
    },
    {
      "cell_type": "code",
      "metadata": {
        "id": "oul-duX5HcCr",
        "colab_type": "code",
        "outputId": "c1983778-8d00-4371-8cb9-9693203731fa",
        "colab": {
          "base_uri": "https://localhost:8080/",
          "height": 297
        }
      },
      "source": [
        "# We describe our dataset\n",
        "traffic.describe()"
      ],
      "execution_count": 0,
      "outputs": [
        {
          "output_type": "execute_result",
          "data": {
            "text/html": [
              "<div>\n",
              "<style scoped>\n",
              "    .dataframe tbody tr th:only-of-type {\n",
              "        vertical-align: middle;\n",
              "    }\n",
              "\n",
              "    .dataframe tbody tr th {\n",
              "        vertical-align: top;\n",
              "    }\n",
              "\n",
              "    .dataframe thead th {\n",
              "        text-align: right;\n",
              "    }\n",
              "</style>\n",
              "<table border=\"1\" class=\"dataframe\">\n",
              "  <thead>\n",
              "    <tr style=\"text-align: right;\">\n",
              "      <th></th>\n",
              "      <th>DEATHS</th>\n",
              "      <th>INJURED</th>\n",
              "    </tr>\n",
              "  </thead>\n",
              "  <tbody>\n",
              "    <tr>\n",
              "      <th>count</th>\n",
              "      <td>1354.000000</td>\n",
              "      <td>1354.000000</td>\n",
              "    </tr>\n",
              "    <tr>\n",
              "      <th>mean</th>\n",
              "      <td>1.270310</td>\n",
              "      <td>3.157312</td>\n",
              "    </tr>\n",
              "    <tr>\n",
              "      <th>std</th>\n",
              "      <td>1.470344</td>\n",
              "      <td>7.004565</td>\n",
              "    </tr>\n",
              "    <tr>\n",
              "      <th>min</th>\n",
              "      <td>0.000000</td>\n",
              "      <td>0.000000</td>\n",
              "    </tr>\n",
              "    <tr>\n",
              "      <th>25%</th>\n",
              "      <td>1.000000</td>\n",
              "      <td>0.000000</td>\n",
              "    </tr>\n",
              "    <tr>\n",
              "      <th>50%</th>\n",
              "      <td>1.000000</td>\n",
              "      <td>0.000000</td>\n",
              "    </tr>\n",
              "    <tr>\n",
              "      <th>75%</th>\n",
              "      <td>1.000000</td>\n",
              "      <td>1.000000</td>\n",
              "    </tr>\n",
              "    <tr>\n",
              "      <th>max</th>\n",
              "      <td>12.000000</td>\n",
              "      <td>31.000000</td>\n",
              "    </tr>\n",
              "  </tbody>\n",
              "</table>\n",
              "</div>"
            ],
            "text/plain": [
              "            DEATHS      INJURED\n",
              "count  1354.000000  1354.000000\n",
              "mean      1.270310     3.157312\n",
              "std       1.470344     7.004565\n",
              "min       0.000000     0.000000\n",
              "25%       1.000000     0.000000\n",
              "50%       1.000000     0.000000\n",
              "75%       1.000000     1.000000\n",
              "max      12.000000    31.000000"
            ]
          },
          "metadata": {
            "tags": []
          },
          "execution_count": 65
        }
      ]
    },
    {
      "cell_type": "markdown",
      "metadata": {
        "id": "I9jhCKWxi9Xz",
        "colab_type": "text"
      },
      "source": [
        "## **1.33 Completeness**"
      ]
    },
    {
      "cell_type": "code",
      "metadata": {
        "id": "f7_dCm6Fi2QQ",
        "colab_type": "code",
        "outputId": "bcf33ed8-741e-47af-cc87-6ce74c110760",
        "colab": {
          "base_uri": "https://localhost:8080/",
          "height": 374
        }
      },
      "source": [
        "# We fill empty cells in the CAUSE column randomly with cells that are above \n",
        "# We fill empty cells on the DESCRIPTION_OF_CAUSE column with those on a corresponding index in the CAUSE column since the fields are related \n",
        "# We fill empty cells on the 'CODE_DISTRICT' column with those on a corresponding index in the 'CODE_COUNTY' column since the fields are related \n",
        "# We fill empty cells on the 'DISTRICT' column with those on a corresponding index in the 'COUNTY' column since the fields are related \n",
        "# We fill empty cells on the 'CODE_DIVISION' column with those on a corresponding index in the 'CODE_DISTRICT' column since the fields are related \n",
        "# We fill empty cells on the 'DIVISION' column with those on a corresponding index in the 'DISTRICT' column since the fields are related \n",
        "\n",
        "traffic['CAUSE'].fillna(method='ffill', inplace =True)\n",
        "traffic['DESCRIPTION_OF_CAUSE'].fillna(traffic['CAUSE'], inplace = True)\n",
        "traffic['DISTRICT'].fillna(traffic['COUNTY'], inplace=True)\n",
        "traffic['CODE_DISTRICT'].fillna(traffic['CODE_COUNTY'],inplace = True)\n",
        "traffic['CODE_DIVISION'].fillna(traffic['CODE_DISTRICT'], inplace = True)\n",
        "traffic['DIVISION'].fillna(traffic['DISTRICT'],inplace = True) \n",
        "traffic.info()"
      ],
      "execution_count": 0,
      "outputs": [
        {
          "output_type": "stream",
          "text": [
            "<class 'pandas.core.frame.DataFrame'>\n",
            "Int64Index: 1354 entries, 1 to 1354\n",
            "Data columns (total 14 columns):\n",
            " #   Column                Non-Null Count  Dtype \n",
            "---  ------                --------------  ----- \n",
            " 0   SERIAL                1354 non-null   object\n",
            " 1   EVENT                 1354 non-null   object\n",
            " 2   CODE_COUNTY           1354 non-null   object\n",
            " 3   COUNTY                1354 non-null   object\n",
            " 4   CODE_DISTRICT         1354 non-null   object\n",
            " 5   DISTRICT              1354 non-null   object\n",
            " 6   CODE_DIVISION         1354 non-null   object\n",
            " 7   DIVISION              1354 non-null   object\n",
            " 8   DATE_YMD              1354 non-null   object\n",
            " 9   CAUSE                 1354 non-null   object\n",
            " 10  DESCRIPTION_OF_CAUSE  1354 non-null   object\n",
            " 11  DATACARDS             1354 non-null   object\n",
            " 12  DEATHS                1354 non-null   int64 \n",
            " 13  INJURED               1354 non-null   int64 \n",
            "dtypes: int64(2), object(12)\n",
            "memory usage: 158.7+ KB\n"
          ],
          "name": "stdout"
        }
      ]
    },
    {
      "cell_type": "markdown",
      "metadata": {
        "id": "Vix6KmaMlrHk",
        "colab_type": "text"
      },
      "source": [
        "## **1.34Consistency**"
      ]
    },
    {
      "cell_type": "code",
      "metadata": {
        "id": "6ZIfusgzIIGv",
        "colab_type": "code",
        "outputId": "c1804094-4960-4d17-a9f3-a87644efc7e1",
        "colab": {
          "base_uri": "https://localhost:8080/",
          "height": 442
        }
      },
      "source": [
        "# We check for duplicates in our data\n",
        "# We drop duplicates if any\n",
        "print(traffic.duplicated().sum())\n",
        "traffic = traffic.drop_duplicates()\n",
        "traffic.head()"
      ],
      "execution_count": 0,
      "outputs": [
        {
          "output_type": "stream",
          "text": [
            "0\n"
          ],
          "name": "stdout"
        },
        {
          "output_type": "execute_result",
          "data": {
            "text/html": [
              "<div>\n",
              "<style scoped>\n",
              "    .dataframe tbody tr th:only-of-type {\n",
              "        vertical-align: middle;\n",
              "    }\n",
              "\n",
              "    .dataframe tbody tr th {\n",
              "        vertical-align: top;\n",
              "    }\n",
              "\n",
              "    .dataframe thead th {\n",
              "        text-align: right;\n",
              "    }\n",
              "</style>\n",
              "<table border=\"1\" class=\"dataframe\">\n",
              "  <thead>\n",
              "    <tr style=\"text-align: right;\">\n",
              "      <th></th>\n",
              "      <th>SERIAL</th>\n",
              "      <th>EVENT</th>\n",
              "      <th>CODE_COUNTY</th>\n",
              "      <th>COUNTY</th>\n",
              "      <th>CODE_DISTRICT</th>\n",
              "      <th>DISTRICT</th>\n",
              "      <th>CODE_DIVISION</th>\n",
              "      <th>DIVISION</th>\n",
              "      <th>DATE_YMD</th>\n",
              "      <th>CAUSE</th>\n",
              "      <th>DESCRIPTION_OF_CAUSE</th>\n",
              "      <th>DATACARDS</th>\n",
              "      <th>DEATHS</th>\n",
              "      <th>INJURED</th>\n",
              "    </tr>\n",
              "    <tr>\n",
              "      <th>OBJECTID</th>\n",
              "      <th></th>\n",
              "      <th></th>\n",
              "      <th></th>\n",
              "      <th></th>\n",
              "      <th></th>\n",
              "      <th></th>\n",
              "      <th></th>\n",
              "      <th></th>\n",
              "      <th></th>\n",
              "      <th></th>\n",
              "      <th></th>\n",
              "      <th></th>\n",
              "      <th></th>\n",
              "      <th></th>\n",
              "    </tr>\n",
              "  </thead>\n",
              "  <tbody>\n",
              "    <tr>\n",
              "      <th>1</th>\n",
              "      <td>11</td>\n",
              "      <td>TRAFFIC ACCIDENT</td>\n",
              "      <td>13</td>\n",
              "      <td>KIAMBU</td>\n",
              "      <td>1301</td>\n",
              "      <td>KIAMBU</td>\n",
              "      <td>130104</td>\n",
              "      <td>LARI</td>\n",
              "      <td>11/09/2011 08:00:00 AM +0000</td>\n",
              "      <td>ERROR</td>\n",
              "      <td>PEDESTRIAN CROSSING ROAD</td>\n",
              "      <td>1</td>\n",
              "      <td>1</td>\n",
              "      <td>0</td>\n",
              "    </tr>\n",
              "    <tr>\n",
              "      <th>2</th>\n",
              "      <td>29</td>\n",
              "      <td>TRAFFIC ACCIDENT</td>\n",
              "      <td>30</td>\n",
              "      <td>NAIROBI</td>\n",
              "      <td>3001</td>\n",
              "      <td>NAIROBI</td>\n",
              "      <td>300106</td>\n",
              "      <td>MAKADARA</td>\n",
              "      <td>01/01/2011 08:00:00 AM +0000</td>\n",
              "      <td>ERROR</td>\n",
              "      <td>HIT AND RUN</td>\n",
              "      <td>1</td>\n",
              "      <td>1</td>\n",
              "      <td>0</td>\n",
              "    </tr>\n",
              "    <tr>\n",
              "      <th>3</th>\n",
              "      <td>35</td>\n",
              "      <td>TRAFFIC ACCIDENT</td>\n",
              "      <td>12</td>\n",
              "      <td>KERICHO</td>\n",
              "      <td>1203</td>\n",
              "      <td>BURET</td>\n",
              "      <td>120303</td>\n",
              "      <td>KONOIN</td>\n",
              "      <td>01/01/2011 08:00:00 AM +0000</td>\n",
              "      <td>OTHER CAUSE</td>\n",
              "      <td>DRIVER LOST CONTROL OF THE VEHICLE.</td>\n",
              "      <td>1</td>\n",
              "      <td>0</td>\n",
              "      <td>6</td>\n",
              "    </tr>\n",
              "    <tr>\n",
              "      <th>4</th>\n",
              "      <td>20</td>\n",
              "      <td>TRAFFIC ACCIDENT</td>\n",
              "      <td>23</td>\n",
              "      <td>MAKUENI</td>\n",
              "      <td>2305</td>\n",
              "      <td>MAKUENI</td>\n",
              "      <td>230504</td>\n",
              "      <td>KASIKEU</td>\n",
              "      <td>01/30/2011 08:00:00 AM +0000</td>\n",
              "      <td>NEGLIGENCE</td>\n",
              "      <td>RECKLESSNESS</td>\n",
              "      <td>1</td>\n",
              "      <td>0</td>\n",
              "      <td>1</td>\n",
              "    </tr>\n",
              "    <tr>\n",
              "      <th>5</th>\n",
              "      <td>36</td>\n",
              "      <td>TRAFFIC ACCIDENT</td>\n",
              "      <td>20</td>\n",
              "      <td>LAIKIPIA</td>\n",
              "      <td>2008</td>\n",
              "      <td>LAIKIPIA WEST</td>\n",
              "      <td>200801</td>\n",
              "      <td>CENTRAL LAIKIPIA</td>\n",
              "      <td>01/01/2011 08:00:00 AM +0000</td>\n",
              "      <td>ERROR</td>\n",
              "      <td>PEDAL CYCLIST WAS KNOCKED DOWN.</td>\n",
              "      <td>1</td>\n",
              "      <td>1</td>\n",
              "      <td>0</td>\n",
              "    </tr>\n",
              "  </tbody>\n",
              "</table>\n",
              "</div>"
            ],
            "text/plain": [
              "         SERIAL             EVENT CODE_COUNTY  ... DATACARDS DEATHS INJURED\n",
              "OBJECTID                                       ...                         \n",
              "1            11  TRAFFIC ACCIDENT          13  ...         1      1       0\n",
              "2            29  TRAFFIC ACCIDENT          30  ...         1      1       0\n",
              "3            35  TRAFFIC ACCIDENT          12  ...         1      0       6\n",
              "4            20  TRAFFIC ACCIDENT          23  ...         1      0       1\n",
              "5            36  TRAFFIC ACCIDENT          20  ...         1      1       0\n",
              "\n",
              "[5 rows x 14 columns]"
            ]
          },
          "metadata": {
            "tags": []
          },
          "execution_count": 67
        }
      ]
    },
    {
      "cell_type": "markdown",
      "metadata": {
        "id": "q_jhBdWgn4AC",
        "colab_type": "text"
      },
      "source": [
        "## **Check the for outliers**"
      ]
    },
    {
      "cell_type": "code",
      "metadata": {
        "id": "NSX40He1rlrN",
        "colab_type": "code",
        "outputId": "82191526-9ed6-4db1-dd1e-9b2d2d1aa0d7",
        "colab": {
          "base_uri": "https://localhost:8080/",
          "height": 519
        }
      },
      "source": [
        "#We check for the distribution of our data\n",
        "\n",
        "import seaborn as sns\n",
        "import matplotlib.pyplot as plt\n",
        "plt.figure(figsize=(15,8))\n",
        "sns.distplot(traffic.DEATHS)\n",
        "sns.distplot(traffic.INJURED)"
      ],
      "execution_count": 0,
      "outputs": [
        {
          "output_type": "execute_result",
          "data": {
            "text/plain": [
              "<matplotlib.axes._subplots.AxesSubplot at 0x7fbc9be6a550>"
            ]
          },
          "metadata": {
            "tags": []
          },
          "execution_count": 68
        },
        {
          "output_type": "display_data",
          "data": {
            "image/png": "[encoded data removed]",
            "text/plain": [
              "<Figure size 1080x576 with 1 Axes>"
            ]
          },
          "metadata": {
            "tags": []
          }
        }
      ]
    },
    {
      "cell_type": "code",
      "metadata": {
        "id": "-KzN2nXkzc1R",
        "colab_type": "code",
        "colab": {}
      },
      "source": [
        "traffic.to_csv('trafic_accidents.csv')"
      ],
      "execution_count": 0,
      "outputs": []
    },
    {
      "cell_type": "markdown",
      "metadata": {
        "id": "N30rZWOTeO9F",
        "colab_type": "text"
      },
      "source": [
        "# **ANALYSIS**"
      ]
    },
    {
      "cell_type": "code",
      "metadata": {
        "id": "VWeWfKo7AAAG",
        "colab_type": "code",
        "outputId": "a160b595-ce2e-4165-e32e-a7cedcb8b455",
        "colab": {
          "base_uri": "https://localhost:8080/",
          "height": 474
        }
      },
      "source": [
        "# Which counties that experienced the most accidents? \n",
        "county_max = traffic.groupby(['COUNTY'])['EVENT'].count().sort_values(ascending= False).head(10)\n",
        "print(county_max.head())\n",
        "plt.figure(figsize=(20,5))\n",
        "sns.barplot(county_max.index, county_max.values, alpha=0.8)\n",
        "plt.title('ACCIDENTS BY COUNTIES IN KENYA')\n",
        "plt.ylabel('Number of Occurrences', fontsize=12)\n",
        "plt.xlabel('COUNTY', fontsize=12)\n",
        "plt.show()"
      ],
      "execution_count": 0,
      "outputs": [
        {
          "output_type": "stream",
          "text": [
            "COUNTY\n",
            "NAIROBI     286\n",
            "KIAMBU      141\n",
            "NAKURU      124\n",
            "KAKAMEGA     54\n",
            "MERU         49\n",
            "Name: EVENT, dtype: int64\n"
          ],
          "name": "stdout"
        },
        {
          "output_type": "display_data",
          "data": {
            "image/png": "[encoded data removed]",
            "text/plain": [
              "<Figure size 1440x360 with 1 Axes>"
            ]
          },
          "metadata": {
            "tags": []
          }
        }
      ]
    },
    {
      "cell_type": "code",
      "metadata": {
        "id": "SJ47ENV_eg_p",
        "colab_type": "code",
        "outputId": "2cec8844-dcd7-4de5-981d-a0ac4dbb27a9",
        "colab": {
          "base_uri": "https://localhost:8080/",
          "height": 136
        }
      },
      "source": [
        "# Which county experienced the least accidents? \n",
        "\n",
        "county_min = traffic.groupby(['COUNTY'])['EVENT'].count().sort_values(ascending = True)\n",
        "county_min.head(5)"
      ],
      "execution_count": 0,
      "outputs": [
        {
          "output_type": "execute_result",
          "data": {
            "text/plain": [
              "COUNTY\n",
              "SAMBURU    1\n",
              "MANDERA    1\n",
              "LAMU       1\n",
              "TURKANA    2\n",
              "WAJIR      3\n",
              "Name: EVENT, dtype: int64"
            ]
          },
          "metadata": {
            "tags": []
          },
          "execution_count": 71
        }
      ]
    },
    {
      "cell_type": "code",
      "metadata": {
        "id": "ev6BasabfQ0J",
        "colab_type": "code",
        "outputId": "3261201c-392e-4379-9d5d-400d6d2b8d4e",
        "colab": {
          "base_uri": "https://localhost:8080/",
          "height": 355
        }
      },
      "source": [
        "# Which District experienced the most accidents?\n",
        "\n",
        "district_max = traffic.groupby(['DISTRICT'])['EVENT'].count().sort_values(ascending=False).head(10)\n",
        "district_max\n",
        "plt.figure(figsize=(20,5))\n",
        "sns.barplot(district_max.index, district_max.values, alpha=0.8)\n",
        "plt.title('ACCIDENTS BY DISTRICTS IN KENYA')\n",
        "plt.ylabel('NUMBER OF OCCURENCES', fontsize=12)\n",
        "plt.xlabel('DISTRICT', fontsize=12)\n",
        "plt.show()"
      ],
      "execution_count": 0,
      "outputs": [
        {
          "output_type": "display_data",
          "data": {
            "image/png": "[encoded data removed]",
            "text/plain": [
              "<Figure size 1440x360 with 1 Axes>"
            ]
          },
          "metadata": {
            "tags": []
          }
        }
      ]
    },
    {
      "cell_type": "code",
      "metadata": {
        "id": "KYKooAgshtli",
        "colab_type": "code",
        "outputId": "3416beff-148a-4591-c8c8-be7e430978af",
        "colab": {
          "base_uri": "https://localhost:8080/",
          "height": 221
        }
      },
      "source": [
        "# Which District experienced the least accidents?\n",
        "district_min = traffic.groupby(['DISTRICT'])['EVENT'].count().sort_values(ascending=True).head(10)\n",
        "district_min"
      ],
      "execution_count": 0,
      "outputs": [
        {
          "output_type": "execute_result",
          "data": {
            "text/plain": [
              "DISTRICT\n",
              "KISII            1\n",
              "LAMU             1\n",
              "SAMBURU NORTH    1\n",
              "MANDERA          1\n",
              "MARSABIT         1\n",
              "TURKANA          2\n",
              "TESO             2\n",
              "BUNGOMA          2\n",
              "SUBA             2\n",
              "MT ELGON         2\n",
              "Name: EVENT, dtype: int64"
            ]
          },
          "metadata": {
            "tags": []
          },
          "execution_count": 96
        }
      ]
    },
    {
      "cell_type": "code",
      "metadata": {
        "id": "T0K8tWAZmqX5",
        "colab_type": "code",
        "outputId": "d7f18266-cced-4dd9-c5a5-587a8e347ee6",
        "colab": {
          "base_uri": "https://localhost:8080/",
          "height": 136
        }
      },
      "source": [
        "# Which Division experienced the least accidents?\n",
        "division_max = traffic.groupby(['DIVISION'])['EVENT'].count().sort_values(ascending=False).head(5)\n",
        "division_max"
      ],
      "execution_count": 0,
      "outputs": [
        {
          "output_type": "execute_result",
          "data": {
            "text/plain": [
              "DIVISION\n",
              "EMBAKASI           87\n",
              "CENTRAL NAIROBI    58\n",
              "KASARANI           52\n",
              "NAIVASHA           36\n",
              "KIKUYU             36\n",
              "Name: EVENT, dtype: int64"
            ]
          },
          "metadata": {
            "tags": []
          },
          "execution_count": 74
        }
      ]
    },
    {
      "cell_type": "code",
      "metadata": {
        "id": "n7NIehPLiQOJ",
        "colab_type": "code",
        "outputId": "619564df-7175-4d0a-b92f-7825716b1d23",
        "colab": {
          "base_uri": "https://localhost:8080/",
          "height": 221
        }
      },
      "source": [
        "# Which Division experienced the least accidents?\n",
        "division_max = traffic.groupby(['DIVISION'])['EVENT'].count().sort_values(ascending=True).head()\n",
        "division_max"
      ],
      "execution_count": 0,
      "outputs": [
        {
          "output_type": "execute_result",
          "data": {
            "text/plain": [
              "DIVISION\n",
              "ABOGETA              1\n",
              "MODOGASHE            1\n",
              "MIWANI               1\n",
              "MIRIGA MIERU WEST    1\n",
              "MIGWANI              1\n",
              "MBOONI               1\n",
              "MBOGOINI             1\n",
              "MBITINI              1\n",
              "MBITA                1\n",
              "MAU NAROK            1\n",
              "Name: EVENT, dtype: int64"
            ]
          },
          "metadata": {
            "tags": []
          },
          "execution_count": 97
        }
      ]
    },
    {
      "cell_type": "code",
      "metadata": {
        "id": "YrIXei2xEml1",
        "colab_type": "code",
        "outputId": "fe44feec-dd31-4421-dbea-68f47b34523e",
        "colab": {
          "base_uri": "https://localhost:8080/",
          "height": 425
        }
      },
      "source": [
        "# We split the 'DATE_YMD' to 'MONTH','DAY','YEAR' and 'HOUR'.\n",
        "\n",
        "import datetime\n",
        "\n",
        "traffic['MONTH'] = pd.DatetimeIndex(traffic['DATE_YMD']).month\n",
        "traffic['DAY']= pd.DatetimeIndex(traffic['DATE_YMD']).day\n",
        "traffic['YEAR']= pd.DatetimeIndex(traffic['DATE_YMD']).year\n",
        "traffic['HOUR'] = pd.DatetimeIndex(traffic['DATE_YMD']).hour\n",
        "traffic.head()"
      ],
      "execution_count": 0,
      "outputs": [
        {
          "output_type": "execute_result",
          "data": {
            "text/html": [
              "<div>\n",
              "<style scoped>\n",
              "    .dataframe tbody tr th:only-of-type {\n",
              "        vertical-align: middle;\n",
              "    }\n",
              "\n",
              "    .dataframe tbody tr th {\n",
              "        vertical-align: top;\n",
              "    }\n",
              "\n",
              "    .dataframe thead th {\n",
              "        text-align: right;\n",
              "    }\n",
              "</style>\n",
              "<table border=\"1\" class=\"dataframe\">\n",
              "  <thead>\n",
              "    <tr style=\"text-align: right;\">\n",
              "      <th></th>\n",
              "      <th>SERIAL</th>\n",
              "      <th>EVENT</th>\n",
              "      <th>CODE_COUNTY</th>\n",
              "      <th>COUNTY</th>\n",
              "      <th>CODE_DISTRICT</th>\n",
              "      <th>DISTRICT</th>\n",
              "      <th>CODE_DIVISION</th>\n",
              "      <th>DIVISION</th>\n",
              "      <th>DATE_YMD</th>\n",
              "      <th>CAUSE</th>\n",
              "      <th>DESCRIPTION_OF_CAUSE</th>\n",
              "      <th>DATACARDS</th>\n",
              "      <th>DEATHS</th>\n",
              "      <th>INJURED</th>\n",
              "      <th>MONTH</th>\n",
              "      <th>DAY</th>\n",
              "      <th>YEAR</th>\n",
              "      <th>HOUR</th>\n",
              "    </tr>\n",
              "    <tr>\n",
              "      <th>OBJECTID</th>\n",
              "      <th></th>\n",
              "      <th></th>\n",
              "      <th></th>\n",
              "      <th></th>\n",
              "      <th></th>\n",
              "      <th></th>\n",
              "      <th></th>\n",
              "      <th></th>\n",
              "      <th></th>\n",
              "      <th></th>\n",
              "      <th></th>\n",
              "      <th></th>\n",
              "      <th></th>\n",
              "      <th></th>\n",
              "      <th></th>\n",
              "      <th></th>\n",
              "      <th></th>\n",
              "      <th></th>\n",
              "    </tr>\n",
              "  </thead>\n",
              "  <tbody>\n",
              "    <tr>\n",
              "      <th>1</th>\n",
              "      <td>11</td>\n",
              "      <td>TRAFFIC ACCIDENT</td>\n",
              "      <td>13</td>\n",
              "      <td>KIAMBU</td>\n",
              "      <td>1301</td>\n",
              "      <td>KIAMBU</td>\n",
              "      <td>130104</td>\n",
              "      <td>LARI</td>\n",
              "      <td>11/09/2011 08:00:00 AM +0000</td>\n",
              "      <td>ERROR</td>\n",
              "      <td>PEDESTRIAN CROSSING ROAD</td>\n",
              "      <td>1</td>\n",
              "      <td>1</td>\n",
              "      <td>0</td>\n",
              "      <td>11</td>\n",
              "      <td>9</td>\n",
              "      <td>2011</td>\n",
              "      <td>8</td>\n",
              "    </tr>\n",
              "    <tr>\n",
              "      <th>2</th>\n",
              "      <td>29</td>\n",
              "      <td>TRAFFIC ACCIDENT</td>\n",
              "      <td>30</td>\n",
              "      <td>NAIROBI</td>\n",
              "      <td>3001</td>\n",
              "      <td>NAIROBI</td>\n",
              "      <td>300106</td>\n",
              "      <td>MAKADARA</td>\n",
              "      <td>01/01/2011 08:00:00 AM +0000</td>\n",
              "      <td>ERROR</td>\n",
              "      <td>HIT AND RUN</td>\n",
              "      <td>1</td>\n",
              "      <td>1</td>\n",
              "      <td>0</td>\n",
              "      <td>1</td>\n",
              "      <td>1</td>\n",
              "      <td>2011</td>\n",
              "      <td>8</td>\n",
              "    </tr>\n",
              "    <tr>\n",
              "      <th>3</th>\n",
              "      <td>35</td>\n",
              "      <td>TRAFFIC ACCIDENT</td>\n",
              "      <td>12</td>\n",
              "      <td>KERICHO</td>\n",
              "      <td>1203</td>\n",
              "      <td>BURET</td>\n",
              "      <td>120303</td>\n",
              "      <td>KONOIN</td>\n",
              "      <td>01/01/2011 08:00:00 AM +0000</td>\n",
              "      <td>OTHER CAUSE</td>\n",
              "      <td>DRIVER LOST CONTROL OF THE VEHICLE.</td>\n",
              "      <td>1</td>\n",
              "      <td>0</td>\n",
              "      <td>6</td>\n",
              "      <td>1</td>\n",
              "      <td>1</td>\n",
              "      <td>2011</td>\n",
              "      <td>8</td>\n",
              "    </tr>\n",
              "    <tr>\n",
              "      <th>4</th>\n",
              "      <td>20</td>\n",
              "      <td>TRAFFIC ACCIDENT</td>\n",
              "      <td>23</td>\n",
              "      <td>MAKUENI</td>\n",
              "      <td>2305</td>\n",
              "      <td>MAKUENI</td>\n",
              "      <td>230504</td>\n",
              "      <td>KASIKEU</td>\n",
              "      <td>01/30/2011 08:00:00 AM +0000</td>\n",
              "      <td>NEGLIGENCE</td>\n",
              "      <td>RECKLESSNESS</td>\n",
              "      <td>1</td>\n",
              "      <td>0</td>\n",
              "      <td>1</td>\n",
              "      <td>1</td>\n",
              "      <td>30</td>\n",
              "      <td>2011</td>\n",
              "      <td>8</td>\n",
              "    </tr>\n",
              "    <tr>\n",
              "      <th>5</th>\n",
              "      <td>36</td>\n",
              "      <td>TRAFFIC ACCIDENT</td>\n",
              "      <td>20</td>\n",
              "      <td>LAIKIPIA</td>\n",
              "      <td>2008</td>\n",
              "      <td>LAIKIPIA WEST</td>\n",
              "      <td>200801</td>\n",
              "      <td>CENTRAL LAIKIPIA</td>\n",
              "      <td>01/01/2011 08:00:00 AM +0000</td>\n",
              "      <td>ERROR</td>\n",
              "      <td>PEDAL CYCLIST WAS KNOCKED DOWN.</td>\n",
              "      <td>1</td>\n",
              "      <td>1</td>\n",
              "      <td>0</td>\n",
              "      <td>1</td>\n",
              "      <td>1</td>\n",
              "      <td>2011</td>\n",
              "      <td>8</td>\n",
              "    </tr>\n",
              "  </tbody>\n",
              "</table>\n",
              "</div>"
            ],
            "text/plain": [
              "         SERIAL             EVENT CODE_COUNTY    COUNTY  ... MONTH DAY  YEAR HOUR\n",
              "OBJECTID                                                 ...                     \n",
              "1            11  TRAFFIC ACCIDENT          13    KIAMBU  ...    11   9  2011    8\n",
              "2            29  TRAFFIC ACCIDENT          30   NAIROBI  ...     1   1  2011    8\n",
              "3            35  TRAFFIC ACCIDENT          12   KERICHO  ...     1   1  2011    8\n",
              "4            20  TRAFFIC ACCIDENT          23   MAKUENI  ...     1  30  2011    8\n",
              "5            36  TRAFFIC ACCIDENT          20  LAIKIPIA  ...     1   1  2011    8\n",
              "\n",
              "[5 rows x 18 columns]"
            ]
          },
          "metadata": {
            "tags": []
          },
          "execution_count": 76
        }
      ]
    },
    {
      "cell_type": "code",
      "metadata": {
        "id": "y4k6PP-ydV2F",
        "colab_type": "code",
        "outputId": "d0eb7f3c-35e3-4339-b1d7-9a1f9b3eb0a3",
        "colab": {
          "base_uri": "https://localhost:8080/",
          "height": 504
        }
      },
      "source": [
        " # Which MONTH had the most accidents?\n",
        "\n",
        "month_max = traffic.groupby(['MONTH'])['EVENT'].count().sort_values(ascending = False)\n",
        "print(month_max)\n",
        "label = ['sep', 'jan', 'oct', 'june', 'july','feb','april','march','nov','may','dec','aug']\n",
        "plt.pie(month_max, labels = label ,radius=3,autopct='%1.1f%%',)\n",
        "\n",
        "\n",
        "plt.title('TRAFFIC ACCIDENTS BY MONTH')\n",
        "\n",
        "plt.axis('equal')\n",
        "\n",
        "plt.show()\n"
      ],
      "execution_count": 0,
      "outputs": [
        {
          "output_type": "stream",
          "text": [
            "MONTH\n",
            "9     202\n",
            "1     191\n",
            "10    173\n",
            "6     159\n",
            "7     139\n",
            "2     137\n",
            "4     133\n",
            "3     127\n",
            "11     36\n",
            "5      28\n",
            "12     23\n",
            "8       6\n",
            "Name: EVENT, dtype: int64\n"
          ],
          "name": "stdout"
        },
        {
          "output_type": "display_data",
          "data": {
            "image/png": "[encoded data removed]",
            "text/plain": [
              "<Figure size 432x288 with 1 Axes>"
            ]
          },
          "metadata": {
            "tags": []
          }
        }
      ]
    },
    {
      "cell_type": "code",
      "metadata": {
        "id": "9aYpqYXdqed6",
        "colab_type": "code",
        "outputId": "ca6be6d2-d2d0-416d-eb86-9bd41f209923",
        "colab": {
          "base_uri": "https://localhost:8080/",
          "height": 136
        }
      },
      "source": [
        " # Which MONTH had the least accidents?\n",
        "\n",
        "month_min = traffic.groupby(['MONTH'])['EVENT'].count().sort_values(ascending = True)\n",
        "month_min.head()\n"
      ],
      "execution_count": 0,
      "outputs": [
        {
          "output_type": "execute_result",
          "data": {
            "text/plain": [
              "MONTH\n",
              "8       6\n",
              "12     23\n",
              "5      28\n",
              "11     36\n",
              "3     127\n",
              "Name: EVENT, dtype: int64"
            ]
          },
          "metadata": {
            "tags": []
          },
          "execution_count": 78
        }
      ]
    },
    {
      "cell_type": "code",
      "metadata": {
        "id": "0qgjLdAiqsfH",
        "colab_type": "code",
        "outputId": "cd3bee23-0081-4181-edac-3228a6ce0610",
        "colab": {
          "base_uri": "https://localhost:8080/",
          "height": 355
        }
      },
      "source": [
        "# Which day of the month recods the most Accidents\n",
        "\n",
        "day_max = traffic.groupby(['DAY'])['EVENT'].count().sort_values(ascending = False)\n",
        "day_max.head()\n",
        "plt.figure(figsize=(20,5))\n",
        "sns.lineplot(day_max.index, day_max.values, alpha=0.8)\n",
        "plt.title('TRAFFIC ACCIDENTS BY DAY IN KENYA')\n",
        "plt.ylabel('NUMBER OF OCCURENCES', fontsize=12)\n",
        "plt.xlabel('DAYS', fontsize=12)\n",
        "plt.show()"
      ],
      "execution_count": 0,
      "outputs": [
        {
          "output_type": "display_data",
          "data": {
            "image/png": "[encoded data removed]",
            "text/plain": [
              "<Figure size 1440x360 with 1 Axes>"
            ]
          },
          "metadata": {
            "tags": []
          }
        }
      ]
    },
    {
      "cell_type": "code",
      "metadata": {
        "id": "BTnexPPXsOx7",
        "colab_type": "code",
        "outputId": "2e451f6d-5081-48c5-fb2a-497039926e01",
        "colab": {
          "base_uri": "https://localhost:8080/",
          "height": 434
        }
      },
      "source": [
        "# what is the cause of most accidents\n",
        "\n",
        "cause = traffic.groupby(['CAUSE'])['EVENT'].count().sort_values(ascending = False)\n",
        "print(cause)\n",
        "label = ['ERROR','NEGLIGENCE','HIT AND RUN','FAULT','OTHER CAUSE','UNKNOWN','RAIN','DROWNING']\n",
        "plt.pie(cause, labels = label ,radius=3,autopct='%1.1f%%',)\n",
        "\n",
        "plt.title('TRAFFIC ACCIDENTS BY DAY')\n",
        "\n",
        "plt.axis('equal')\n",
        "\n",
        "plt.show()"
      ],
      "execution_count": 0,
      "outputs": [
        {
          "output_type": "stream",
          "text": [
            "CAUSE\n",
            "ERROR          940\n",
            "NEGLIGENCE     257\n",
            "HIT AND RUN    119\n",
            "FAULT           23\n",
            "OTHER CAUSE      8\n",
            "UNKNOWN          5\n",
            "RAIN             1\n",
            "DROWNING         1\n",
            "Name: EVENT, dtype: int64\n"
          ],
          "name": "stdout"
        },
        {
          "output_type": "display_data",
          "data": {
            "image/png": "[encoded data removed]",
            "text/plain": [
              "<Figure size 432x288 with 1 Axes>"
            ]
          },
          "metadata": {
            "tags": []
          }
        }
      ]
    },
    {
      "cell_type": "code",
      "metadata": {
        "id": "iJFlYaxDsv8p",
        "colab_type": "code",
        "outputId": "e86ef30b-fa4a-4c4b-fd21-9e1b5860c107",
        "colab": {
          "base_uri": "https://localhost:8080/",
          "height": 136
        }
      },
      "source": [
        "# what Error causes most accidents\n",
        "\n",
        "Error_max = traffic[traffic['CAUSE']== 'ERROR']\n",
        "\n",
        "Error_max.groupby(['DESCRIPTION_OF_CAUSE'])['EVENT'].count().sort_values(ascending = False).head()"
      ],
      "execution_count": 0,
      "outputs": [
        {
          "output_type": "execute_result",
          "data": {
            "text/plain": [
              "DESCRIPTION_OF_CAUSE\n",
              "PEDESTRIAN CROSSING ROAD                89\n",
              "ERROR                                   79\n",
              "PEDESTRIAN WALKING ALONG THE ROAD       29\n",
              "PEDESTRIAN WAS KNOCKED DOWN BY A CAR    27\n",
              "PEDESTRIAN WAS KNOCKED DOWN.            16\n",
              "Name: EVENT, dtype: int64"
            ]
          },
          "metadata": {
            "tags": []
          },
          "execution_count": 81
        }
      ]
    },
    {
      "cell_type": "code",
      "metadata": {
        "id": "r0Me-JGot2kv",
        "colab_type": "code",
        "outputId": "6f063f08-7c63-429f-8e32-768c99560d6d",
        "colab": {
          "base_uri": "https://localhost:8080/",
          "height": 136
        }
      },
      "source": [
        "# What Negligence causes most accidents\n",
        "\n",
        "Error_min = traffic[traffic['CAUSE']=='NEGLIGENCE']\n",
        "Error_min.groupby(['DESCRIPTION_OF_CAUSE'])['EVENT'].count().sort_values(ascending = False).head()"
      ],
      "execution_count": 0,
      "outputs": [
        {
          "output_type": "execute_result",
          "data": {
            "text/plain": [
              "DESCRIPTION_OF_CAUSE\n",
              "PEDESTRIAN KNOCKED DOWN             90\n",
              "PEDAL CYCLIST KNOCKED DOWN          17\n",
              "LOST CONTROL                        16\n",
              "NEGLIGENCE                           6\n",
              "JUVENILE PEDESTRIAN KNOCKED DOWN     4\n",
              "Name: EVENT, dtype: int64"
            ]
          },
          "metadata": {
            "tags": []
          },
          "execution_count": 82
        }
      ]
    },
    {
      "cell_type": "code",
      "metadata": {
        "id": "Dr4N79S8vtGS",
        "colab_type": "code",
        "outputId": "692e31d8-94e9-4897-d2d5-d4318ffa8616",
        "colab": {
          "base_uri": "https://localhost:8080/",
          "height": 136
        }
      },
      "source": [
        "# What Fault cause most accidents\n",
        "\n",
        "Fault = traffic[traffic['CAUSE']=='FAULT']\n",
        "Fault.groupby(['DESCRIPTION_OF_CAUSE'])['EVENT'].count().sort_values(ascending = False).head()"
      ],
      "execution_count": 0,
      "outputs": [
        {
          "output_type": "execute_result",
          "data": {
            "text/plain": [
              "DESCRIPTION_OF_CAUSE\n",
              "TYRE BURST AND VEHICLE ROLLED SEVERAL TIMES              2\n",
              "TYRE BURST                                               2\n",
              "BRAKES FAILED, DRIVER LOST CONTROL AND HIT PEDESTRIAN    2\n",
              "VEHICLE DEVELOPED MECHANICAL PROBLEMS                    1\n",
              "M/CYCLE ACCIDENT                                         1\n",
              "Name: EVENT, dtype: int64"
            ]
          },
          "metadata": {
            "tags": []
          },
          "execution_count": 83
        }
      ]
    }
  ]
}