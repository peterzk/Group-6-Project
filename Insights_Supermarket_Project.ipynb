{
  "nbformat": 4,
  "nbformat_minor": 0,
  "metadata": {
    "colab": {
      "name": "Insights Supermarket Project.ipynb",
      "provenance": [],
      "collapsed_sections": [],
      "include_colab_link": true
    },
    "kernelspec": {
      "name": "python3",
      "display_name": "Python 3"
    }
  },
  "cells": [
    {
      "cell_type": "markdown",
      "metadata": {
        "id": "view-in-github",
        "colab_type": "text"
      },
      "source": [
        "<a href=\"https://colab.research.google.com/github/peterzk/Group-6-Project/blob/master/Insights_Supermarket_Project.ipynb\" target=\"_parent\"><img src=\"https://colab.research.google.com/assets/colab-badge.svg\" alt=\"Open In Colab\"/></a>"
      ]
    },
    {
      "cell_type": "markdown",
      "metadata": {
        "id": "IWPIsEW13mNg",
        "colab_type": "text"
      },
      "source": [
        "> # **CONSUMER SPENDING IN KENYAN SUPERMARKETS**"
      ]
    },
    {
      "cell_type": "markdown",
      "metadata": {
        "id": "nhnsORYw56D2",
        "colab_type": "text"
      },
      "source": [
        "> #### Project by **The Insights**\n",
        "\n",
        "\n"
      ]
    },
    {
      "cell_type": "markdown",
      "metadata": {
        "id": "2itPOQCevP1d",
        "colab_type": "text"
      },
      "source": [
        "# Defining the Question\n"
      ]
    },
    {
      "cell_type": "markdown",
      "metadata": {
        "id": "g4B9CH67rTtA",
        "colab_type": "text"
      },
      "source": [
        "### The analytical question"
      ]
    },
    {
      "cell_type": "markdown",
      "metadata": {
        "id": "UanElUrQrWrZ",
        "colab_type": "text"
      },
      "source": [
        "We will try toinvestigate a claim about customers spending on week days and during weekends using data collected across different supermarkets in Kenya"
      ]
    },
    {
      "cell_type": "markdown",
      "metadata": {
        "id": "8NBGsaoWr7Mq",
        "colab_type": "text"
      },
      "source": [
        "### Defining the metric for success"
      ]
    },
    {
      "cell_type": "markdown",
      "metadata": {
        "id": "9MqyBpEXoqDa",
        "colab_type": "text"
      },
      "source": [
        "> During the process of trying to prove our hypothesis true or false we will carry out the following procedure.\n",
        "As we try to prove whether our hypothesis is true or false,we will carry out the following procedures:\n",
        "\n",
        ">> a) We will carry out univariate analysis where will plot pie charts and bar graphs to understand the data more.\n",
        "\n",
        ">>  b)We will also plot pairplots to understand the relationship between variables during bivariate analysis.\n",
        "We will also perfom a correlation analysis of our numeric and categorical variables.\n",
        "\n",
        ">> c) We will carry out multivariate analysis using the discriminant analysis.  \n",
        "\n",
        ">> d) We will perform tests that will help us confirm our hypothesis.\n",
        "\n",
        ">> e) We will also perform a classification algorithm using the Bayes Theorem.\n",
        "\n"
      ]
    },
    {
      "cell_type": "markdown",
      "metadata": {
        "id": "ZXyoqv2Lsvl3",
        "colab_type": "text"
      },
      "source": [
        "### Understanding the context"
      ]
    },
    {
      "cell_type": "markdown",
      "metadata": {
        "id": "EZRA7sOgswsP",
        "colab_type": "text"
      },
      "source": [
        "The objective of this analysis is to investigate consumer spending patterns in selected Kenyan supermarkets. We are interested in understanding how much consumers spend across different times of the week and for different product categories. Our claim is that consumers spend more money in supermarkets on the weekends as opposed to weekdays. As such, our hypothesis will be testing whether the average spending in supermarkets during weekdays is similar to the average spending during the weekends.\n"
      ]
    },
    {
      "cell_type": "markdown",
      "metadata": {
        "id": "5bY0Ybg1tBV5",
        "colab_type": "text"
      },
      "source": [
        "### Data relevance."
      ]
    },
    {
      "cell_type": "markdown",
      "metadata": {
        "id": "wkKG53yStCzA",
        "colab_type": "text"
      },
      "source": [
        "The data available for this study is suitable to carry out the analysis and provide the information required"
      ]
    },
    {
      "cell_type": "markdown",
      "metadata": {
        "id": "tHpAsuGwu9jI",
        "colab_type": "text"
      },
      "source": [
        "# 1). Loading the Data"
      ]
    },
    {
      "cell_type": "code",
      "metadata": {
        "id": "768sah9glDNm",
        "colab_type": "code",
        "colab": {}
      },
      "source": [
        "# Importing the necessary Python libraries.\n",
        "#\n",
        "import pandas as pd\n",
        "import numpy as np\n",
        "import matplotlib.pyplot as plt\n",
        "import seaborn as sns\n",
        "\n",
        "plt.style.use('dark_background')"
      ],
      "execution_count": 0,
      "outputs": []
    },
    {
      "cell_type": "code",
      "metadata": {
        "id": "oISegybQkyj3",
        "colab_type": "code",
        "outputId": "80f28c36-5fd3-4f8f-f573-e1ca5f214acd",
        "colab": {
          "base_uri": "https://localhost:8080/",
          "height": 119
        }
      },
      "source": [
        "# Loading our dataset and creating a pandas dataframe.\n",
        "#\n",
        "url = \"Supermarket Data.xlsx\"\n",
        "df = pd.read_excel(url)\n",
        "df.columns"
      ],
      "execution_count": 0,
      "outputs": [
        {
          "output_type": "execute_result",
          "data": {
            "text/plain": [
              "Index(['supermarket', 'no_of_items', 'variation', 'total', 'paid', 'change',\n",
              "       'type', 'food', 'snack', 'beverage', 'consumables', 'high_end', 'asset',\n",
              "       'fixed_asset', 'date', 'mall', 'time', 'time_type', 'type_market',\n",
              "       'location', 'loc_category', 'day', 'day_type', '24hr', 'day.1', 'month',\n",
              "       'year'],\n",
              "      dtype='object')"
            ]
          },
          "metadata": {
            "tags": []
          },
          "execution_count": 133
        }
      ]
    },
    {
      "cell_type": "code",
      "metadata": {
        "id": "Z7Kj1frGlCVB",
        "colab_type": "code",
        "outputId": "8c5b17c1-56b1-43a1-9ab0-f7ad9e7a7438",
        "colab": {
          "base_uri": "https://localhost:8080/",
          "height": 595
        }
      },
      "source": [
        "# Getting the dataset information\n",
        "#\n",
        "df.info()"
      ],
      "execution_count": 0,
      "outputs": [
        {
          "output_type": "stream",
          "text": [
            "<class 'pandas.core.frame.DataFrame'>\n",
            "RangeIndex: 1464 entries, 0 to 1463\n",
            "Data columns (total 27 columns):\n",
            " #   Column        Non-Null Count  Dtype  \n",
            "---  ------        --------------  -----  \n",
            " 0   supermarket   1463 non-null   object \n",
            " 1   no_of_items   1464 non-null   int64  \n",
            " 2   variation     1464 non-null   int64  \n",
            " 3   total         1464 non-null   float64\n",
            " 4   paid          1464 non-null   float64\n",
            " 5   change        1464 non-null   float64\n",
            " 6   type          1464 non-null   object \n",
            " 7   food          1464 non-null   object \n",
            " 8   snack         1464 non-null   object \n",
            " 9   beverage      1464 non-null   object \n",
            " 10  consumables   1464 non-null   object \n",
            " 11  high_end      1464 non-null   object \n",
            " 12  asset         1464 non-null   object \n",
            " 13  fixed_asset   1464 non-null   object \n",
            " 14  date          1464 non-null   object \n",
            " 15  mall          1464 non-null   object \n",
            " 16  time          1464 non-null   object \n",
            " 17  time_type     1464 non-null   object \n",
            " 18  type_market   1464 non-null   object \n",
            " 19  location      1464 non-null   object \n",
            " 20  loc_category  1464 non-null   object \n",
            " 21  day           1464 non-null   object \n",
            " 22  day_type      1464 non-null   object \n",
            " 23  24hr          1464 non-null   object \n",
            " 24  day.1         1464 non-null   object \n",
            " 25  month         1464 non-null   int64  \n",
            " 26  year          1462 non-null   float64\n",
            "dtypes: float64(4), int64(3), object(20)\n",
            "memory usage: 308.9+ KB\n"
          ],
          "name": "stdout"
        }
      ]
    },
    {
      "cell_type": "markdown",
      "metadata": {
        "id": "EHDGEfMvu56o",
        "colab_type": "text"
      },
      "source": [
        "# 2). Checking the Data"
      ]
    },
    {
      "cell_type": "code",
      "metadata": {
        "id": "GAd0v1L7lJ6j",
        "colab_type": "code",
        "outputId": "11d1d8b9-2acb-4823-922f-23ed22e3017d",
        "colab": {
          "base_uri": "https://localhost:8080/",
          "height": 224
        }
      },
      "source": [
        "# Previewing the top of our dataset\n",
        "#\n",
        "df.head()"
      ],
      "execution_count": 0,
      "outputs": [
        {
          "output_type": "execute_result",
          "data": {
            "text/html": [
              "<div>\n",
              "<style scoped>\n",
              "    .dataframe tbody tr th:only-of-type {\n",
              "        vertical-align: middle;\n",
              "    }\n",
              "\n",
              "    .dataframe tbody tr th {\n",
              "        vertical-align: top;\n",
              "    }\n",
              "\n",
              "    .dataframe thead th {\n",
              "        text-align: right;\n",
              "    }\n",
              "</style>\n",
              "<table border=\"1\" class=\"dataframe\">\n",
              "  <thead>\n",
              "    <tr style=\"text-align: right;\">\n",
              "      <th></th>\n",
              "      <th>supermarket</th>\n",
              "      <th>no_of_items</th>\n",
              "      <th>variation</th>\n",
              "      <th>total</th>\n",
              "      <th>paid</th>\n",
              "      <th>change</th>\n",
              "      <th>type</th>\n",
              "      <th>food</th>\n",
              "      <th>snack</th>\n",
              "      <th>beverage</th>\n",
              "      <th>consumables</th>\n",
              "      <th>high_end</th>\n",
              "      <th>asset</th>\n",
              "      <th>fixed_asset</th>\n",
              "      <th>date</th>\n",
              "      <th>mall</th>\n",
              "      <th>time</th>\n",
              "      <th>time_type</th>\n",
              "      <th>type_market</th>\n",
              "      <th>location</th>\n",
              "      <th>loc_category</th>\n",
              "      <th>day</th>\n",
              "      <th>day_type</th>\n",
              "      <th>24hr</th>\n",
              "      <th>day.1</th>\n",
              "      <th>month</th>\n",
              "      <th>year</th>\n",
              "    </tr>\n",
              "  </thead>\n",
              "  <tbody>\n",
              "    <tr>\n",
              "      <th>0</th>\n",
              "      <td>acacia</td>\n",
              "      <td>1</td>\n",
              "      <td>1</td>\n",
              "      <td>90.0</td>\n",
              "      <td>100.0</td>\n",
              "      <td>10.0</td>\n",
              "      <td>cash</td>\n",
              "      <td>yes</td>\n",
              "      <td>no</td>\n",
              "      <td>no</td>\n",
              "      <td>no</td>\n",
              "      <td>no</td>\n",
              "      <td>no</td>\n",
              "      <td>no</td>\n",
              "      <td>20/05/2017</td>\n",
              "      <td>no</td>\n",
              "      <td>19:33:00</td>\n",
              "      <td>night</td>\n",
              "      <td>small</td>\n",
              "      <td>saika</td>\n",
              "      <td>mid</td>\n",
              "      <td>saturday</td>\n",
              "      <td>weekend</td>\n",
              "      <td>no</td>\n",
              "      <td>20</td>\n",
              "      <td>5</td>\n",
              "      <td>2017.0</td>\n",
              "    </tr>\n",
              "    <tr>\n",
              "      <th>1</th>\n",
              "      <td>acacia</td>\n",
              "      <td>1</td>\n",
              "      <td>1</td>\n",
              "      <td>90.0</td>\n",
              "      <td>500.0</td>\n",
              "      <td>410.0</td>\n",
              "      <td>cash</td>\n",
              "      <td>yes</td>\n",
              "      <td>no</td>\n",
              "      <td>no</td>\n",
              "      <td>no</td>\n",
              "      <td>no</td>\n",
              "      <td>no</td>\n",
              "      <td>no</td>\n",
              "      <td>20/05/2017</td>\n",
              "      <td>no</td>\n",
              "      <td>19:12:00</td>\n",
              "      <td>night</td>\n",
              "      <td>small</td>\n",
              "      <td>saika</td>\n",
              "      <td>mid</td>\n",
              "      <td>saturday</td>\n",
              "      <td>weekend</td>\n",
              "      <td>no</td>\n",
              "      <td>20</td>\n",
              "      <td>5</td>\n",
              "      <td>2017.0</td>\n",
              "    </tr>\n",
              "    <tr>\n",
              "      <th>2</th>\n",
              "      <td>acacia</td>\n",
              "      <td>3</td>\n",
              "      <td>1</td>\n",
              "      <td>270.0</td>\n",
              "      <td>300.0</td>\n",
              "      <td>30.0</td>\n",
              "      <td>cash</td>\n",
              "      <td>yes</td>\n",
              "      <td>no</td>\n",
              "      <td>no</td>\n",
              "      <td>no</td>\n",
              "      <td>no</td>\n",
              "      <td>no</td>\n",
              "      <td>no</td>\n",
              "      <td>20/05/2017</td>\n",
              "      <td>no</td>\n",
              "      <td>19:16:00</td>\n",
              "      <td>night</td>\n",
              "      <td>small</td>\n",
              "      <td>saika</td>\n",
              "      <td>mid</td>\n",
              "      <td>saturday</td>\n",
              "      <td>weekend</td>\n",
              "      <td>no</td>\n",
              "      <td>20</td>\n",
              "      <td>5</td>\n",
              "      <td>2017.0</td>\n",
              "    </tr>\n",
              "    <tr>\n",
              "      <th>3</th>\n",
              "      <td>acacia</td>\n",
              "      <td>3</td>\n",
              "      <td>1</td>\n",
              "      <td>137.0</td>\n",
              "      <td>200.0</td>\n",
              "      <td>63.0</td>\n",
              "      <td>cash</td>\n",
              "      <td>yes</td>\n",
              "      <td>no</td>\n",
              "      <td>no</td>\n",
              "      <td>no</td>\n",
              "      <td>no</td>\n",
              "      <td>no</td>\n",
              "      <td>no</td>\n",
              "      <td>20/05/2017</td>\n",
              "      <td>no</td>\n",
              "      <td>19:12:00</td>\n",
              "      <td>night</td>\n",
              "      <td>small</td>\n",
              "      <td>saika</td>\n",
              "      <td>mid</td>\n",
              "      <td>saturday</td>\n",
              "      <td>weekend</td>\n",
              "      <td>no</td>\n",
              "      <td>20</td>\n",
              "      <td>5</td>\n",
              "      <td>2017.0</td>\n",
              "    </tr>\n",
              "    <tr>\n",
              "      <th>4</th>\n",
              "      <td>acacia</td>\n",
              "      <td>1</td>\n",
              "      <td>1</td>\n",
              "      <td>75.0</td>\n",
              "      <td>80.0</td>\n",
              "      <td>5.0</td>\n",
              "      <td>cash</td>\n",
              "      <td>yes</td>\n",
              "      <td>no</td>\n",
              "      <td>no</td>\n",
              "      <td>no</td>\n",
              "      <td>no</td>\n",
              "      <td>no</td>\n",
              "      <td>no</td>\n",
              "      <td>20/05/2017</td>\n",
              "      <td>no</td>\n",
              "      <td>18:31:00</td>\n",
              "      <td>afternoon</td>\n",
              "      <td>small</td>\n",
              "      <td>saika</td>\n",
              "      <td>mid</td>\n",
              "      <td>saturday</td>\n",
              "      <td>weekend</td>\n",
              "      <td>no</td>\n",
              "      <td>20</td>\n",
              "      <td>5</td>\n",
              "      <td>2017.0</td>\n",
              "    </tr>\n",
              "  </tbody>\n",
              "</table>\n",
              "</div>"
            ],
            "text/plain": [
              "  supermarket  no_of_items  variation  total  ...  24hr  day.1 month    year\n",
              "0      acacia            1          1   90.0  ...    no     20     5  2017.0\n",
              "1      acacia            1          1   90.0  ...    no     20     5  2017.0\n",
              "2      acacia            3          1  270.0  ...    no     20     5  2017.0\n",
              "3      acacia            3          1  137.0  ...    no     20     5  2017.0\n",
              "4      acacia            1          1   75.0  ...    no     20     5  2017.0\n",
              "\n",
              "[5 rows x 27 columns]"
            ]
          },
          "metadata": {
            "tags": []
          },
          "execution_count": 135
        }
      ]
    },
    {
      "cell_type": "code",
      "metadata": {
        "id": "0iFpwb0xt_Bi",
        "colab_type": "code",
        "outputId": "c6a37452-bd60-4d15-8f2a-b39b6f14d299",
        "colab": {
          "base_uri": "https://localhost:8080/",
          "height": 394
        }
      },
      "source": [
        "# Previewing the bottom of our dataset\n",
        "#\n",
        "df.tail()"
      ],
      "execution_count": 0,
      "outputs": [
        {
          "output_type": "execute_result",
          "data": {
            "text/html": [
              "<div>\n",
              "<style scoped>\n",
              "    .dataframe tbody tr th:only-of-type {\n",
              "        vertical-align: middle;\n",
              "    }\n",
              "\n",
              "    .dataframe tbody tr th {\n",
              "        vertical-align: top;\n",
              "    }\n",
              "\n",
              "    .dataframe thead th {\n",
              "        text-align: right;\n",
              "    }\n",
              "</style>\n",
              "<table border=\"1\" class=\"dataframe\">\n",
              "  <thead>\n",
              "    <tr style=\"text-align: right;\">\n",
              "      <th></th>\n",
              "      <th>supermarket</th>\n",
              "      <th>no_of_items</th>\n",
              "      <th>variation</th>\n",
              "      <th>total</th>\n",
              "      <th>paid</th>\n",
              "      <th>change</th>\n",
              "      <th>type</th>\n",
              "      <th>food</th>\n",
              "      <th>snack</th>\n",
              "      <th>beverage</th>\n",
              "      <th>consumables</th>\n",
              "      <th>high_end</th>\n",
              "      <th>asset</th>\n",
              "      <th>fixed_asset</th>\n",
              "      <th>date</th>\n",
              "      <th>mall</th>\n",
              "      <th>time</th>\n",
              "      <th>time_type</th>\n",
              "      <th>type_market</th>\n",
              "      <th>location</th>\n",
              "      <th>loc_category</th>\n",
              "      <th>day</th>\n",
              "      <th>day_type</th>\n",
              "      <th>24hr</th>\n",
              "      <th>day.1</th>\n",
              "      <th>month</th>\n",
              "      <th>year</th>\n",
              "    </tr>\n",
              "  </thead>\n",
              "  <tbody>\n",
              "    <tr>\n",
              "      <th>1459</th>\n",
              "      <td>tuskys</td>\n",
              "      <td>4</td>\n",
              "      <td>3</td>\n",
              "      <td>1810.0</td>\n",
              "      <td>2000.0</td>\n",
              "      <td>190.0</td>\n",
              "      <td>cash</td>\n",
              "      <td>no</td>\n",
              "      <td>yes</td>\n",
              "      <td>no</td>\n",
              "      <td>yes</td>\n",
              "      <td>yes</td>\n",
              "      <td>no</td>\n",
              "      <td>no</td>\n",
              "      <td>2017-06-15 00:00:00</td>\n",
              "      <td>yes</td>\n",
              "      <td>11:28:00</td>\n",
              "      <td>morning</td>\n",
              "      <td>chain</td>\n",
              "      <td>greenspan</td>\n",
              "      <td>mid</td>\n",
              "      <td>Thursday</td>\n",
              "      <td>weekday</td>\n",
              "      <td>no</td>\n",
              "      <td>15</td>\n",
              "      <td>6</td>\n",
              "      <td>2017.0</td>\n",
              "    </tr>\n",
              "    <tr>\n",
              "      <th>1460</th>\n",
              "      <td>nakumatt</td>\n",
              "      <td>2</td>\n",
              "      <td>3</td>\n",
              "      <td>516.0</td>\n",
              "      <td>516.0</td>\n",
              "      <td>0.0</td>\n",
              "      <td>card</td>\n",
              "      <td>yes</td>\n",
              "      <td>no</td>\n",
              "      <td>yes</td>\n",
              "      <td>no</td>\n",
              "      <td>yes</td>\n",
              "      <td>no</td>\n",
              "      <td>no</td>\n",
              "      <td>2017-07-17 00:00:00</td>\n",
              "      <td>yes</td>\n",
              "      <td>21:00:00</td>\n",
              "      <td>night</td>\n",
              "      <td>chain</td>\n",
              "      <td>junction</td>\n",
              "      <td>mid</td>\n",
              "      <td>Monday</td>\n",
              "      <td>weekday</td>\n",
              "      <td>no</td>\n",
              "      <td>17</td>\n",
              "      <td>7</td>\n",
              "      <td>2017.0</td>\n",
              "    </tr>\n",
              "    <tr>\n",
              "      <th>1461</th>\n",
              "      <td>tuskys</td>\n",
              "      <td>2</td>\n",
              "      <td>1</td>\n",
              "      <td>290.0</td>\n",
              "      <td>500.0</td>\n",
              "      <td>210.0</td>\n",
              "      <td>cash</td>\n",
              "      <td>yes</td>\n",
              "      <td>no</td>\n",
              "      <td>no</td>\n",
              "      <td>no</td>\n",
              "      <td>no</td>\n",
              "      <td>no</td>\n",
              "      <td>no</td>\n",
              "      <td>2017-06-30 00:00:00</td>\n",
              "      <td>no</td>\n",
              "      <td>21:09:00</td>\n",
              "      <td>night</td>\n",
              "      <td>chain</td>\n",
              "      <td>cbd</td>\n",
              "      <td>mid</td>\n",
              "      <td>Sunday</td>\n",
              "      <td>weekend</td>\n",
              "      <td>no</td>\n",
              "      <td>30</td>\n",
              "      <td>6</td>\n",
              "      <td>2017.0</td>\n",
              "    </tr>\n",
              "    <tr>\n",
              "      <th>1462</th>\n",
              "      <td>tuskys</td>\n",
              "      <td>5</td>\n",
              "      <td>2</td>\n",
              "      <td>596.0</td>\n",
              "      <td>1000.0</td>\n",
              "      <td>404.0</td>\n",
              "      <td>cash</td>\n",
              "      <td>yes</td>\n",
              "      <td>no</td>\n",
              "      <td>no</td>\n",
              "      <td>yes</td>\n",
              "      <td>no</td>\n",
              "      <td>no</td>\n",
              "      <td>no</td>\n",
              "      <td>2017-05-08 00:00:00</td>\n",
              "      <td>yes</td>\n",
              "      <td>11:00:00</td>\n",
              "      <td>morning</td>\n",
              "      <td>chain</td>\n",
              "      <td>greenspan</td>\n",
              "      <td>mid</td>\n",
              "      <td>Monday</td>\n",
              "      <td>weekday</td>\n",
              "      <td>no</td>\n",
              "      <td>8</td>\n",
              "      <td>5</td>\n",
              "      <td>2017.0</td>\n",
              "    </tr>\n",
              "    <tr>\n",
              "      <th>1463</th>\n",
              "      <td>Eastmatt</td>\n",
              "      <td>2</td>\n",
              "      <td>2</td>\n",
              "      <td>120.0</td>\n",
              "      <td>2000.0</td>\n",
              "      <td>1880.0</td>\n",
              "      <td>cash</td>\n",
              "      <td>yes</td>\n",
              "      <td>yes</td>\n",
              "      <td>no</td>\n",
              "      <td>no</td>\n",
              "      <td>no</td>\n",
              "      <td>no</td>\n",
              "      <td>no</td>\n",
              "      <td>2017-06-23 00:00:00</td>\n",
              "      <td>no</td>\n",
              "      <td>16:51:00</td>\n",
              "      <td>evening</td>\n",
              "      <td>chain</td>\n",
              "      <td>cbd</td>\n",
              "      <td>mid</td>\n",
              "      <td>Friday</td>\n",
              "      <td>weekday</td>\n",
              "      <td>no</td>\n",
              "      <td>23</td>\n",
              "      <td>6</td>\n",
              "      <td>2017.0</td>\n",
              "    </tr>\n",
              "  </tbody>\n",
              "</table>\n",
              "</div>"
            ],
            "text/plain": [
              "     supermarket  no_of_items  variation   total  ...  24hr  day.1 month    year\n",
              "1459      tuskys            4          3  1810.0  ...    no     15     6  2017.0\n",
              "1460    nakumatt            2          3   516.0  ...    no     17     7  2017.0\n",
              "1461      tuskys            2          1   290.0  ...    no     30     6  2017.0\n",
              "1462      tuskys            5          2   596.0  ...    no      8     5  2017.0\n",
              "1463    Eastmatt            2          2   120.0  ...    no     23     6  2017.0\n",
              "\n",
              "[5 rows x 27 columns]"
            ]
          },
          "metadata": {
            "tags": []
          },
          "execution_count": 136
        }
      ]
    },
    {
      "cell_type": "code",
      "metadata": {
        "id": "jtp4LvEslMh2",
        "colab_type": "code",
        "outputId": "11ec99e4-d7bf-460e-8c02-66a4559ca7bc",
        "colab": {
          "base_uri": "https://localhost:8080/",
          "height": 297
        }
      },
      "source": [
        "# describing our data\n",
        "#\n",
        "df.describe()"
      ],
      "execution_count": 0,
      "outputs": [
        {
          "output_type": "execute_result",
          "data": {
            "text/html": [
              "<div>\n",
              "<style scoped>\n",
              "    .dataframe tbody tr th:only-of-type {\n",
              "        vertical-align: middle;\n",
              "    }\n",
              "\n",
              "    .dataframe tbody tr th {\n",
              "        vertical-align: top;\n",
              "    }\n",
              "\n",
              "    .dataframe thead th {\n",
              "        text-align: right;\n",
              "    }\n",
              "</style>\n",
              "<table border=\"1\" class=\"dataframe\">\n",
              "  <thead>\n",
              "    <tr style=\"text-align: right;\">\n",
              "      <th></th>\n",
              "      <th>no_of_items</th>\n",
              "      <th>variation</th>\n",
              "      <th>total</th>\n",
              "      <th>paid</th>\n",
              "      <th>change</th>\n",
              "      <th>month</th>\n",
              "      <th>year</th>\n",
              "    </tr>\n",
              "  </thead>\n",
              "  <tbody>\n",
              "    <tr>\n",
              "      <th>count</th>\n",
              "      <td>1464.000000</td>\n",
              "      <td>1464.000000</td>\n",
              "      <td>1464.000000</td>\n",
              "      <td>1464.000000</td>\n",
              "      <td>1464.000000</td>\n",
              "      <td>1464.000000</td>\n",
              "      <td>1462.000000</td>\n",
              "    </tr>\n",
              "    <tr>\n",
              "      <th>mean</th>\n",
              "      <td>2.308743</td>\n",
              "      <td>1.398224</td>\n",
              "      <td>311.780847</td>\n",
              "      <td>469.251851</td>\n",
              "      <td>164.037316</td>\n",
              "      <td>8.961749</td>\n",
              "      <td>2015.911081</td>\n",
              "    </tr>\n",
              "    <tr>\n",
              "      <th>std</th>\n",
              "      <td>2.647746</td>\n",
              "      <td>0.731498</td>\n",
              "      <td>924.075390</td>\n",
              "      <td>951.768164</td>\n",
              "      <td>257.261144</td>\n",
              "      <td>74.312772</td>\n",
              "      <td>47.618482</td>\n",
              "    </tr>\n",
              "    <tr>\n",
              "      <th>min</th>\n",
              "      <td>1.000000</td>\n",
              "      <td>1.000000</td>\n",
              "      <td>1.000000</td>\n",
              "      <td>1.000000</td>\n",
              "      <td>0.000000</td>\n",
              "      <td>1.000000</td>\n",
              "      <td>201.000000</td>\n",
              "    </tr>\n",
              "    <tr>\n",
              "      <th>25%</th>\n",
              "      <td>1.000000</td>\n",
              "      <td>1.000000</td>\n",
              "      <td>60.000000</td>\n",
              "      <td>100.000000</td>\n",
              "      <td>5.000000</td>\n",
              "      <td>5.000000</td>\n",
              "      <td>2017.000000</td>\n",
              "    </tr>\n",
              "    <tr>\n",
              "      <th>50%</th>\n",
              "      <td>1.000000</td>\n",
              "      <td>1.000000</td>\n",
              "      <td>110.000000</td>\n",
              "      <td>200.000000</td>\n",
              "      <td>40.000000</td>\n",
              "      <td>6.000000</td>\n",
              "      <td>2017.000000</td>\n",
              "    </tr>\n",
              "    <tr>\n",
              "      <th>75%</th>\n",
              "      <td>3.000000</td>\n",
              "      <td>2.000000</td>\n",
              "      <td>250.000000</td>\n",
              "      <td>500.000000</td>\n",
              "      <td>191.000000</td>\n",
              "      <td>8.000000</td>\n",
              "      <td>2017.000000</td>\n",
              "    </tr>\n",
              "    <tr>\n",
              "      <th>max</th>\n",
              "      <td>33.000000</td>\n",
              "      <td>6.000000</td>\n",
              "      <td>17350.000000</td>\n",
              "      <td>17350.000000</td>\n",
              "      <td>1880.000000</td>\n",
              "      <td>2017.000000</td>\n",
              "      <td>2107.000000</td>\n",
              "    </tr>\n",
              "  </tbody>\n",
              "</table>\n",
              "</div>"
            ],
            "text/plain": [
              "       no_of_items    variation  ...        month         year\n",
              "count  1464.000000  1464.000000  ...  1464.000000  1462.000000\n",
              "mean      2.308743     1.398224  ...     8.961749  2015.911081\n",
              "std       2.647746     0.731498  ...    74.312772    47.618482\n",
              "min       1.000000     1.000000  ...     1.000000   201.000000\n",
              "25%       1.000000     1.000000  ...     5.000000  2017.000000\n",
              "50%       1.000000     1.000000  ...     6.000000  2017.000000\n",
              "75%       3.000000     2.000000  ...     8.000000  2017.000000\n",
              "max      33.000000     6.000000  ...  2017.000000  2107.000000\n",
              "\n",
              "[8 rows x 7 columns]"
            ]
          },
          "metadata": {
            "tags": []
          },
          "execution_count": 137
        }
      ]
    },
    {
      "cell_type": "markdown",
      "metadata": {
        "id": "T1p8v2E7vG2c",
        "colab_type": "text"
      },
      "source": [
        "# 3). Data Cleaning\n"
      ]
    },
    {
      "cell_type": "code",
      "metadata": {
        "id": "AmHSHZ0RlX7K",
        "colab_type": "code",
        "outputId": "3f7d679f-c0ed-49a6-a58e-b3c82d567dca",
        "colab": {
          "base_uri": "https://localhost:8080/",
          "height": 34
        }
      },
      "source": [
        "# Determining the number of records in our dataset\n",
        "#\n",
        "df.shape"
      ],
      "execution_count": 0,
      "outputs": [
        {
          "output_type": "execute_result",
          "data": {
            "text/plain": [
              "(1464, 27)"
            ]
          },
          "metadata": {
            "tags": []
          },
          "execution_count": 138
        }
      ]
    },
    {
      "cell_type": "code",
      "metadata": {
        "id": "QZ_DYmYLuJHp",
        "colab_type": "code",
        "outputId": "e4bdf8e6-5b8c-480c-93cc-7c89b62af8b3",
        "colab": {
          "base_uri": "https://localhost:8080/",
          "height": 34
        }
      },
      "source": [
        "# Checking for duplicate values in the dataframe.\n",
        "#\n",
        "df.duplicated().values.any()"
      ],
      "execution_count": 0,
      "outputs": [
        {
          "output_type": "execute_result",
          "data": {
            "text/plain": [
              "True"
            ]
          },
          "metadata": {
            "tags": []
          },
          "execution_count": 139
        }
      ]
    },
    {
      "cell_type": "code",
      "metadata": {
        "id": "y91YeV1suOQJ",
        "colab_type": "code",
        "colab": {}
      },
      "source": [
        "# Dropping our duplicate rows\n",
        "#\n",
        "df.drop_duplicates(inplace=True)"
      ],
      "execution_count": 0,
      "outputs": []
    },
    {
      "cell_type": "code",
      "metadata": {
        "id": "6EksGnf7uWek",
        "colab_type": "code",
        "outputId": "a5b48ab4-845a-4074-a9fe-10b4a487ce43",
        "colab": {
          "base_uri": "https://localhost:8080/",
          "height": 34
        }
      },
      "source": [
        "# Confirming that we do not have duplicate values\n",
        "#\n",
        "df.duplicated().values.sum()"
      ],
      "execution_count": 0,
      "outputs": [
        {
          "output_type": "execute_result",
          "data": {
            "text/plain": [
              "0"
            ]
          },
          "metadata": {
            "tags": []
          },
          "execution_count": 141
        }
      ]
    },
    {
      "cell_type": "code",
      "metadata": {
        "id": "qSPk5EB9uaWw",
        "colab_type": "code",
        "outputId": "057b108c-b6f2-4fd2-930d-8cb26aa36d13",
        "colab": {
          "base_uri": "https://localhost:8080/",
          "height": 119
        }
      },
      "source": [
        "# Checking the column names\n",
        "#\n",
        "# ----\n",
        "df.columns"
      ],
      "execution_count": 0,
      "outputs": [
        {
          "output_type": "execute_result",
          "data": {
            "text/plain": [
              "Index(['supermarket', 'no_of_items', 'variation', 'total', 'paid', 'change',\n",
              "       'type', 'food', 'snack', 'beverage', 'consumables', 'high_end', 'asset',\n",
              "       'fixed_asset', 'date', 'mall', 'time', 'time_type', 'type_market',\n",
              "       'location', 'loc_category', 'day', 'day_type', '24hr', 'day.1', 'month',\n",
              "       'year'],\n",
              "      dtype='object')"
            ]
          },
          "metadata": {
            "tags": []
          },
          "execution_count": 142
        }
      ]
    },
    {
      "cell_type": "code",
      "metadata": {
        "id": "5Q6Wd6qyvee7",
        "colab_type": "code",
        "outputId": "f5b8b781-a536-473b-988e-c9d7ccf8f9ee",
        "colab": {
          "base_uri": "https://localhost:8080/",
          "height": 34
        }
      },
      "source": [
        "# Checking for null values\n",
        "#\n",
        "# ----\n",
        "df.isnull().values.any()"
      ],
      "execution_count": 0,
      "outputs": [
        {
          "output_type": "execute_result",
          "data": {
            "text/plain": [
              "True"
            ]
          },
          "metadata": {
            "tags": []
          },
          "execution_count": 143
        }
      ]
    },
    {
      "cell_type": "code",
      "metadata": {
        "id": "63Rj-W08vmz3",
        "colab_type": "code",
        "outputId": "96a805f9-d483-4ad6-df43-45295ae1c178",
        "colab": {
          "base_uri": "https://localhost:8080/",
          "height": 34
        }
      },
      "source": [
        "# Checking the total number of null values\n",
        "#\n",
        "# ----\n",
        "#\n",
        "df.columns\n",
        "df.isnull().values.sum()"
      ],
      "execution_count": 0,
      "outputs": [
        {
          "output_type": "execute_result",
          "data": {
            "text/plain": [
              "3"
            ]
          },
          "metadata": {
            "tags": []
          },
          "execution_count": 144
        }
      ]
    },
    {
      "cell_type": "code",
      "metadata": {
        "id": "6B2Gv6P-v1LX",
        "colab_type": "code",
        "colab": {}
      },
      "source": [
        "# Dropping the null values from our dataset\n",
        "#\n",
        "# -----\n",
        "df.dropna(inplace=True)"
      ],
      "execution_count": 0,
      "outputs": []
    },
    {
      "cell_type": "code",
      "metadata": {
        "id": "-QgGDIonv_SI",
        "colab_type": "code",
        "outputId": "622209f4-ee78-491e-bcc3-b40e86c45382",
        "colab": {
          "base_uri": "https://localhost:8080/",
          "height": 34
        }
      },
      "source": [
        "# Confirming that there are no null values in our dataset\n",
        "#\n",
        "# ---- \n",
        "#\n",
        "df.isnull().values.any()"
      ],
      "execution_count": 0,
      "outputs": [
        {
          "output_type": "execute_result",
          "data": {
            "text/plain": [
              "False"
            ]
          },
          "metadata": {
            "tags": []
          },
          "execution_count": 146
        }
      ]
    },
    {
      "cell_type": "markdown",
      "metadata": {
        "id": "5nQLyhD3uyuM",
        "colab_type": "text"
      },
      "source": [
        "## Checking for outliers"
      ]
    },
    {
      "cell_type": "code",
      "metadata": {
        "id": "FUihi4vzuvqH",
        "colab_type": "code",
        "outputId": "af3e8838-6f9f-42cf-cc29-ceb2542bd77e",
        "colab": {
          "base_uri": "https://localhost:8080/",
          "height": 317
        }
      },
      "source": [
        "# OUTLIERS : Checking for Outliers by plotting a visual for the taken cars only.\n",
        "# \n",
        "# ----\n",
        "#\n",
        "plt.style.use('bmh')\n",
        "\n",
        "numerical_df = df[['no_of_items', 'variation', 'total', 'paid', 'change']]\n",
        "_t, df_outliers = pd.DataFrame.boxplot(numerical_df, return_type=\"both\", widths=0.6)\n",
        "\n",
        "outliers = [flier.get_ydata() for flier in df_outliers[\"fliers\"]]\n",
        "out_liers = [i.tolist() for i in outliers]\n",
        "\n",
        "\n",
        "print(\"Outlier ranges for Taken Cars.\\n\", out_liers)\n"
      ],
      "execution_count": 0,
      "outputs": [
        {
          "output_type": "stream",
          "text": [
            "Outlier ranges for Taken Cars.\n",
            " [[22.0, 32.0, 33.0, 12.0, 9.0, 10.0, 7.0, 9.0, 7.0, 8.0, 14.0, 13.0, 8.0, 10.0, 10.0, 10.0, 7.0, 13.0, 8.0, 9.0, 12.0, 8.0, 7.0, 9.0, 16.0, 7.0, 7.0, 11.0, 7.0, 7.0, 13.0, 10.0, 12.0, 8.0, 11.0, 11.0, 8.0, 9.0, 15.0, 7.0, 10.0, 11.0, 16.0, 21.0, 8.0, 22.0, 7.0, 8.0, 13.0, 17.0, 14.0, 7.0, 7.0, 9.0, 21.0, 12.0, 9.0, 7.0, 10.0, 10.0, 9.0, 16.0, 18.0, 8.0, 11.0, 14.0], [6.0, 4.0, 4.0, 4.0, 4.0, 4.0, 4.0, 5.0, 4.0, 4.0, 4.0, 4.0, 4.0, 4.0, 4.0, 4.0, 4.0, 5.0, 4.0, 4.0, 5.0, 5.0, 5.0, 4.0, 4.0, 4.0, 5.0, 5.0, 5.0], [5611.0, 7955.0, 780.0, 13005.0, 1000.0, 2420.0, 4926.0, 5439.0, 8110.0, 584.0, 850.0, 680.0, 1245.0, 800.0, 736.0, 2903.0, 961.0, 907.0, 638.0, 720.0, 542.0, 1900.0, 580.0, 2183.0, 2657.0, 1724.0, 3585.0, 530.0, 600.0, 927.0, 1273.0, 835.0, 875.0, 3440.0, 780.0, 1141.0, 526.0, 750.0, 17350.0, 840.0, 590.0, 716.0, 1422.0, 590.0, 705.0, 785.0, 530.0, 658.0, 887.0, 692.0, 840.0, 557.0, 1876.0, 547.0, 612.0, 845.0, 566.0, 635.0, 1075.0, 823.0, 2304.0, 785.0, 718.0, 618.0, 1119.0, 680.0, 626.0, 682.0, 2079.0, 1200.0, 1128.0, 660.0, 1172.0, 694.0, 700.0, 1360.0, 541.0, 1287.0, 1233.0, 687.0, 753.0, 1990.0, 982.0, 1247.0, 562.0, 611.0, 547.0, 618.0, 1250.0, 800.0, 1842.0, 1385.0, 1937.0, 1779.0, 1712.0, 1380.0, 971.0, 3970.0, 1175.0, 6259.0, 1905.0, 960.0, 545.0, 1714.0, 1155.0, 895.0, 2745.0, 525.0, 1433.0, 1226.0, 2835.0, 760.0, 696.0, 12475.0, 1225.0, 3834.0, 1130.0, 1359.0, 1105.0, 2657.0, 2806.0, 777.0, 2183.0, 580.0, 720.0, 542.0, 680.0, 1245.0, 1245.0, 1000.0, 12475.0, 815.0, 1000.0, 2024.0, 1540.0, 869.0, 907.0, 961.0, 2903.0, 736.0, 1468.0, 614.0, 599.75, 790.0, 725.0, 530.0, 2654.71, 965.0, 3895.0, 2450.0, 858.0, 920.0, 848.0, 526.0, 1230.0, 1810.0, 596.0], [5611.0, 7955.0, 13001.0, 2460.0, 4926.0, 5439.0, 8110.0, 1670.0, 1500.0, 2903.0, 2000.0, 2183.0, 3000.0, 2000.0, 3585.0, 1300.0, 3440.0, 1141.0, 17350.0, 2000.0, 2000.0, 3000.0, 1119.0, 2079.0, 1200.0, 1128.0, 2000.0, 2000.0, 1300.0, 1500.0, 2000.0, 2000.0, 1250.0, 2000.0, 1842.0, 1385.0, 2000.0, 1779.0, 1712.0, 1380.0, 3970.0, 1175.0, 6259.0, 1905.0, 1714.0, 1205.0, 3000.0, 2000.0, 1226.0, 3000.0, 12475.0, 1250.0, 4000.0, 1130.0, 1359.0, 2000.0, 3000.0, 3000.0, 2183.0, 1650.0, 1500.0, 1500.0, 12475.0, 2024.0, 2000.0, 2903.0, 2000.0, 2654.71, 3895.0, 2450.0, 1230.0, 2000.0, 2000.0], [496.0, 970.0, 955.0, 640.0, 747.0, 940.0, 633.0, 458.0, 777.0, 755.0, 804.0, 812.0, 610.0, 901.0, 897.0, 905.0, 520.0, 900.0, 570.0, 940.0, 814.0, 610.0, 680.0, 839.0, 916.0, 891.0, 805.0, 860.0, 770.0, 680.0, 647.0, 922.0, 578.0, 740.0, 945.0, 722.0, 760.0, 808.0, 935.0, 726.0, 610.0, 500.0, 690.0, 912.0, 891.0, 775.0, 890.0, 885.0, 453.0, 935.0, 570.0, 755.0, 455.0, 526.0, 940.0, 930.0, 855.0, 653.0, 730.0, 881.0, 696.0, 478.0, 645.0, 722.0, 658.0, 820.0, 795.0, 933.0, 688.0, 880.0, 679.0, 765.0, 673.0, 708.0, 524.0, 828.0, 697.0, 905.0, 640.0, 459.0, 545.0, 652.0, 621.0, 845.0, 583.0, 900.0, 595.0, 532.0, 950.0, 753.0, 523.0, 820.0, 453.0, 745.0, 900.0, 877.0, 496.0, 485.0, 619.0, 1200.0, 690.0, 605.0, 823.0, 910.0, 810.0, 640.0, 475.0, 951.0, 850.0, 720.0, 720.0, 825.0, 838.0, 878.0, 450.0, 925.0, 570.0, 567.0, 865.0, 885.0, 970.0, 475.0, 566.0, 895.0, 871.0, 670.0, 660.0, 968.0, 730.0, 583.0, 790.0, 825.0, 676.25, 900.0, 729.75, 899.9, 455.0, 777.0, 458.0, 970.0, 955.0, 940.0, 747.0, 640.0, 633.0, 496.0, 900.0, 885.0, 770.0, 760.0, 880.0, 832.0, 860.0, 899.0, 870.0, 815.0, 807.0, 930.0, 710.0, 880.0, 940.0, 460.0, 925.0, 845.0, 770.0, 885.0, 532.0, 855.0, 950.0, 940.0, 895.0, 785.0, 850.0, 910.0, 920.0, 675.0, 1880.0]]\n"
          ],
          "name": "stdout"
        },
        {
          "output_type": "display_data",
          "data": {
            "image/png": "[encoded data removed]",
            "text/plain": [
              "<Figure size 432x288 with 1 Axes>"
            ]
          },
          "metadata": {
            "tags": []
          }
        }
      ]
    },
    {
      "cell_type": "code",
      "metadata": {
        "id": "J7QNZmtCwx0p",
        "colab_type": "code",
        "colab": {}
      },
      "source": [
        "# Fucntion for counting number of outliers in our data columns and cheking the percentage for each\n",
        "# ----\n",
        "#\n",
        "def detect_outlier(data):\n",
        "    outliers=[]\n",
        "    threshold=3\n",
        "    mean_1 = np.mean(data)\n",
        "    std_1 =np.std(data)\n",
        "    \n",
        "    for y in data:\n",
        "        z_score= (y - mean_1)/std_1 \n",
        "        if np.abs(z_score) > threshold:\n",
        "            outliers.append(y)\n",
        "    return outliers"
      ],
      "execution_count": 0,
      "outputs": []
    },
    {
      "cell_type": "code",
      "metadata": {
        "id": "rbHoddQBx7aU",
        "colab_type": "code",
        "outputId": "b44029e3-a6b0-4058-f9bf-410f403e823c",
        "colab": {
          "base_uri": "https://localhost:8080/",
          "height": 102
        }
      },
      "source": [
        "# Counting number of outliers in our data columns and cheking the percentage for each column using z-score\n",
        "#\n",
        "#\n",
        "for col in numerical_df:\n",
        "    rows, columns = numerical_df.shape\n",
        "    percent_coefficient = float(100 / rows)\n",
        "    outliers = detect_outlier(numerical_df[col])\n",
        "    outliers_count = len(outliers)\n",
        "    outliers_percentage = outliers_count * percent_coefficient\n",
        "    print(f\"{col} has {outliers_count} outliers in total, which is {outliers_percentage:.2}% of data\")"
      ],
      "execution_count": 0,
      "outputs": [
        {
          "output_type": "stream",
          "text": [
            "no_of_items has 28 outliers in total, which is 1.9% of data\n",
            "variation has 29 outliers in total, which is 2.0% of data\n",
            "total has 15 outliers in total, which is 1.0% of data\n",
            "paid has 15 outliers in total, which is 1.0% of data\n",
            "change has 18 outliers in total, which is 1.3% of data\n"
          ],
          "name": "stdout"
        }
      ]
    },
    {
      "cell_type": "markdown",
      "metadata": {
        "id": "VdbydGgJygIy",
        "colab_type": "text"
      },
      "source": [
        "* We determine that outliers do exist in our dataset.\n",
        "* no_of_items has 28 outliers in total, which is 1.9% of data\n",
        "* variation has 29 outliers in total, which is 2.0% of data\n",
        "* total has 15 outliers in total, which is 1.0% of data\n",
        "* paid has 15 outliers in total, which is 1.0% of data\n",
        "* change has 18 outliers in total, which is 1.3% of data"
      ]
    },
    {
      "cell_type": "code",
      "metadata": {
        "id": "_QlmvFR4yJTv",
        "colab_type": "code",
        "outputId": "2af54c3d-b278-4d29-846a-235c1bc9be26",
        "colab": {
          "base_uri": "https://localhost:8080/",
          "height": 136
        }
      },
      "source": [
        "# Droping ouliers from our dataframe using a z-test\n",
        "#\n",
        "from scipy import stats\n",
        "\n",
        "z = np.abs(stats.zscore(numerical_df))\n",
        "print(z)\n"
      ],
      "execution_count": 0,
      "outputs": [
        {
          "output_type": "stream",
          "text": [
            "[[0.49765968 0.54321072 0.23731897 0.38479417 0.59783479]\n",
            " [0.49765968 0.54321072 0.23731897 0.03465426 0.95690075]\n",
            " [0.268667   0.54321072 0.04294946 0.17506996 0.52009802]\n",
            " ...\n",
            " [0.11449634 0.54321072 0.02135285 0.03465426 0.17953298]\n",
            " [1.03499367 0.83298686 0.30907531 0.5589648  0.93357972]\n",
            " [0.11449634 0.83298686 0.20492405 1.60758588 6.67055387]]\n"
          ],
          "name": "stdout"
        }
      ]
    },
    {
      "cell_type": "code",
      "metadata": {
        "id": "tVlGGy-ry3a0",
        "colab_type": "code",
        "outputId": "c9f639ca-3462-4718-87a3-93da5abe1a0b",
        "colab": {
          "base_uri": "https://localhost:8080/",
          "height": 51
        }
      },
      "source": [
        "# Confirming that our outliers have been dropped from the dataset.\n",
        "#\n",
        "df_o = numerical_df[(z < 3).all(axis=1)]\n",
        "\n",
        "print(f\"Previous dataframe size : {numerical_df.shape[0]}\")\n",
        "print(f\"New dataframe size: {df_o.shape[0]}\")"
      ],
      "execution_count": 0,
      "outputs": [
        {
          "output_type": "stream",
          "text": [
            "Previous dataframe size : 1439\n",
            "New dataframe size: 1367\n"
          ],
          "name": "stdout"
        }
      ]
    },
    {
      "cell_type": "code",
      "metadata": {
        "id": "nEO2zybyzBL8",
        "colab_type": "code",
        "colab": {}
      },
      "source": [
        "# Saving our Data without outliers\n",
        "#\n",
        "numerical_df.to_csv(\"Outliers_removed.csv\")"
      ],
      "execution_count": 0,
      "outputs": []
    },
    {
      "cell_type": "markdown",
      "metadata": {
        "id": "dEIstddHzhCk",
        "colab_type": "text"
      },
      "source": [
        "# 4). Exploratory Data Analysis"
      ]
    },
    {
      "cell_type": "markdown",
      "metadata": {
        "id": "atl1CFqazkF1",
        "colab_type": "text"
      },
      "source": [
        "> ## i) Univariate Analysis"
      ]
    },
    {
      "cell_type": "code",
      "metadata": {
        "id": "nxuGmW2wzZoT",
        "colab_type": "code",
        "outputId": "8e6bfe5a-1cec-4f4a-9710-7ef366a9f5be",
        "colab": {
          "base_uri": "https://localhost:8080/",
          "height": 34
        }
      },
      "source": [
        "# Loading our dataset and creating a dataframe.\n",
        "# previewing our column names.\n",
        "#\n",
        "# ----\n",
        "#\n",
        "supermarket_df = pd.read_csv(\"Outliers_removed.csv\")\n",
        "supermarket_df.columns"
      ],
      "execution_count": 0,
      "outputs": [
        {
          "output_type": "execute_result",
          "data": {
            "text/plain": [
              "Index(['Unnamed: 0', 'no_of_items', 'variation', 'total', 'paid', 'change'], dtype='object')"
            ]
          },
          "metadata": {
            "tags": []
          },
          "execution_count": 153
        }
      ]
    },
    {
      "cell_type": "code",
      "metadata": {
        "id": "imCatpNTD2rj",
        "colab_type": "code",
        "outputId": "7759958b-b81c-4f6d-e729-ea1b5c12305f",
        "colab": {
          "base_uri": "https://localhost:8080/",
          "height": 34
        }
      },
      "source": [
        "supermarket_df.shape[0]"
      ],
      "execution_count": 0,
      "outputs": [
        {
          "output_type": "execute_result",
          "data": {
            "text/plain": [
              "1439"
            ]
          },
          "metadata": {
            "tags": []
          },
          "execution_count": 154
        }
      ]
    },
    {
      "cell_type": "code",
      "metadata": {
        "id": "8PjiJQlfz1hV",
        "colab_type": "code",
        "outputId": "dbd011c5-993e-4ec3-9675-da5fe9b87150",
        "colab": {
          "base_uri": "https://localhost:8080/",
          "height": 241
        }
      },
      "source": [
        "# Adding others variables to our clean dataframe\n",
        "#\n",
        "supermarket_df[['supermarket', 'type', 'food', 'snack', 'beverage','consumables','high_end', 'asset','fixed_asset','date','mall', 'time', 'time_type','type_market','location','loc_category', 'day', 'day_type', '24hr', 'day.1', 'month','year']]= df[['supermarket', 'type', 'food', 'snack', 'beverage','consumables','high_end', 'asset','fixed_asset','date','mall', 'time', 'time_type','type_market','location', 'loc_category', 'day', 'day_type', '24hr', 'day.1', 'month','year']]\n",
        "\n",
        "supermarket_df.head()"
      ],
      "execution_count": 0,
      "outputs": [
        {
          "output_type": "execute_result",
          "data": {
            "text/html": [
              "<div>\n",
              "<style scoped>\n",
              "    .dataframe tbody tr th:only-of-type {\n",
              "        vertical-align: middle;\n",
              "    }\n",
              "\n",
              "    .dataframe tbody tr th {\n",
              "        vertical-align: top;\n",
              "    }\n",
              "\n",
              "    .dataframe thead th {\n",
              "        text-align: right;\n",
              "    }\n",
              "</style>\n",
              "<table border=\"1\" class=\"dataframe\">\n",
              "  <thead>\n",
              "    <tr style=\"text-align: right;\">\n",
              "      <th></th>\n",
              "      <th>Unnamed: 0</th>\n",
              "      <th>no_of_items</th>\n",
              "      <th>variation</th>\n",
              "      <th>total</th>\n",
              "      <th>paid</th>\n",
              "      <th>change</th>\n",
              "      <th>supermarket</th>\n",
              "      <th>type</th>\n",
              "      <th>food</th>\n",
              "      <th>snack</th>\n",
              "      <th>beverage</th>\n",
              "      <th>consumables</th>\n",
              "      <th>high_end</th>\n",
              "      <th>asset</th>\n",
              "      <th>fixed_asset</th>\n",
              "      <th>date</th>\n",
              "      <th>mall</th>\n",
              "      <th>time</th>\n",
              "      <th>time_type</th>\n",
              "      <th>type_market</th>\n",
              "      <th>location</th>\n",
              "      <th>loc_category</th>\n",
              "      <th>day</th>\n",
              "      <th>day_type</th>\n",
              "      <th>24hr</th>\n",
              "      <th>day.1</th>\n",
              "      <th>month</th>\n",
              "      <th>year</th>\n",
              "    </tr>\n",
              "  </thead>\n",
              "  <tbody>\n",
              "    <tr>\n",
              "      <th>0</th>\n",
              "      <td>0</td>\n",
              "      <td>1</td>\n",
              "      <td>1</td>\n",
              "      <td>90.0</td>\n",
              "      <td>100.0</td>\n",
              "      <td>10.0</td>\n",
              "      <td>acacia</td>\n",
              "      <td>cash</td>\n",
              "      <td>yes</td>\n",
              "      <td>no</td>\n",
              "      <td>no</td>\n",
              "      <td>no</td>\n",
              "      <td>no</td>\n",
              "      <td>no</td>\n",
              "      <td>no</td>\n",
              "      <td>20/05/2017</td>\n",
              "      <td>no</td>\n",
              "      <td>19:33:00</td>\n",
              "      <td>night</td>\n",
              "      <td>small</td>\n",
              "      <td>saika</td>\n",
              "      <td>mid</td>\n",
              "      <td>saturday</td>\n",
              "      <td>weekend</td>\n",
              "      <td>no</td>\n",
              "      <td>20</td>\n",
              "      <td>5.0</td>\n",
              "      <td>2017.0</td>\n",
              "    </tr>\n",
              "    <tr>\n",
              "      <th>1</th>\n",
              "      <td>1</td>\n",
              "      <td>1</td>\n",
              "      <td>1</td>\n",
              "      <td>90.0</td>\n",
              "      <td>500.0</td>\n",
              "      <td>410.0</td>\n",
              "      <td>acacia</td>\n",
              "      <td>cash</td>\n",
              "      <td>yes</td>\n",
              "      <td>no</td>\n",
              "      <td>no</td>\n",
              "      <td>no</td>\n",
              "      <td>no</td>\n",
              "      <td>no</td>\n",
              "      <td>no</td>\n",
              "      <td>20/05/2017</td>\n",
              "      <td>no</td>\n",
              "      <td>19:12:00</td>\n",
              "      <td>night</td>\n",
              "      <td>small</td>\n",
              "      <td>saika</td>\n",
              "      <td>mid</td>\n",
              "      <td>saturday</td>\n",
              "      <td>weekend</td>\n",
              "      <td>no</td>\n",
              "      <td>20</td>\n",
              "      <td>5.0</td>\n",
              "      <td>2017.0</td>\n",
              "    </tr>\n",
              "    <tr>\n",
              "      <th>2</th>\n",
              "      <td>2</td>\n",
              "      <td>3</td>\n",
              "      <td>1</td>\n",
              "      <td>270.0</td>\n",
              "      <td>300.0</td>\n",
              "      <td>30.0</td>\n",
              "      <td>acacia</td>\n",
              "      <td>cash</td>\n",
              "      <td>yes</td>\n",
              "      <td>no</td>\n",
              "      <td>no</td>\n",
              "      <td>no</td>\n",
              "      <td>no</td>\n",
              "      <td>no</td>\n",
              "      <td>no</td>\n",
              "      <td>20/05/2017</td>\n",
              "      <td>no</td>\n",
              "      <td>19:16:00</td>\n",
              "      <td>night</td>\n",
              "      <td>small</td>\n",
              "      <td>saika</td>\n",
              "      <td>mid</td>\n",
              "      <td>saturday</td>\n",
              "      <td>weekend</td>\n",
              "      <td>no</td>\n",
              "      <td>20</td>\n",
              "      <td>5.0</td>\n",
              "      <td>2017.0</td>\n",
              "    </tr>\n",
              "    <tr>\n",
              "      <th>3</th>\n",
              "      <td>3</td>\n",
              "      <td>3</td>\n",
              "      <td>1</td>\n",
              "      <td>137.0</td>\n",
              "      <td>200.0</td>\n",
              "      <td>63.0</td>\n",
              "      <td>acacia</td>\n",
              "      <td>cash</td>\n",
              "      <td>yes</td>\n",
              "      <td>no</td>\n",
              "      <td>no</td>\n",
              "      <td>no</td>\n",
              "      <td>no</td>\n",
              "      <td>no</td>\n",
              "      <td>no</td>\n",
              "      <td>20/05/2017</td>\n",
              "      <td>no</td>\n",
              "      <td>19:12:00</td>\n",
              "      <td>night</td>\n",
              "      <td>small</td>\n",
              "      <td>saika</td>\n",
              "      <td>mid</td>\n",
              "      <td>saturday</td>\n",
              "      <td>weekend</td>\n",
              "      <td>no</td>\n",
              "      <td>20</td>\n",
              "      <td>5.0</td>\n",
              "      <td>2017.0</td>\n",
              "    </tr>\n",
              "    <tr>\n",
              "      <th>4</th>\n",
              "      <td>4</td>\n",
              "      <td>1</td>\n",
              "      <td>1</td>\n",
              "      <td>75.0</td>\n",
              "      <td>80.0</td>\n",
              "      <td>5.0</td>\n",
              "      <td>acacia</td>\n",
              "      <td>cash</td>\n",
              "      <td>yes</td>\n",
              "      <td>no</td>\n",
              "      <td>no</td>\n",
              "      <td>no</td>\n",
              "      <td>no</td>\n",
              "      <td>no</td>\n",
              "      <td>no</td>\n",
              "      <td>20/05/2017</td>\n",
              "      <td>no</td>\n",
              "      <td>18:31:00</td>\n",
              "      <td>afternoon</td>\n",
              "      <td>small</td>\n",
              "      <td>saika</td>\n",
              "      <td>mid</td>\n",
              "      <td>saturday</td>\n",
              "      <td>weekend</td>\n",
              "      <td>no</td>\n",
              "      <td>20</td>\n",
              "      <td>5.0</td>\n",
              "      <td>2017.0</td>\n",
              "    </tr>\n",
              "  </tbody>\n",
              "</table>\n",
              "</div>"
            ],
            "text/plain": [
              "   Unnamed: 0  no_of_items  variation  total  ...  24hr  day.1 month    year\n",
              "0           0            1          1   90.0  ...    no     20   5.0  2017.0\n",
              "1           1            1          1   90.0  ...    no     20   5.0  2017.0\n",
              "2           2            3          1  270.0  ...    no     20   5.0  2017.0\n",
              "3           3            3          1  137.0  ...    no     20   5.0  2017.0\n",
              "4           4            1          1   75.0  ...    no     20   5.0  2017.0\n",
              "\n",
              "[5 rows x 28 columns]"
            ]
          },
          "metadata": {
            "tags": []
          },
          "execution_count": 155
        }
      ]
    },
    {
      "cell_type": "code",
      "metadata": {
        "id": "2gbzSyGr11Uz",
        "colab_type": "code",
        "outputId": "e19ae22a-4c24-4c21-c8c4-6af2a4efca16",
        "colab": {
          "base_uri": "https://localhost:8080/",
          "height": 1000
        }
      },
      "source": [
        "# drawing frequency tables for our categorical data\n",
        "#\n",
        "categorical = supermarket_df[['supermarket','type', 'food', 'snack', 'beverage', 'consumables', 'high_end', 'asset',\\\n",
        "       'fixed_asset', 'date', 'mall', 'time', 'time_type', 'type_market','location', 'loc_category']]\n",
        "\n",
        "for col in categorical:\n",
        "    print(supermarket_df[col].value_counts())\n",
        "    print(\"\\n\")\n"
      ],
      "execution_count": 0,
      "outputs": [
        {
          "output_type": "stream",
          "text": [
            "karrymart      510\n",
            "tumaini        268\n",
            "nakumatt       167\n",
            "cleanshelf     124\n",
            "tuskys         115\n",
            "ukwala          52\n",
            "acacia          51\n",
            "naivas          29\n",
            "eastmatt        26\n",
            "Tuskys          16\n",
            "Naivas          15\n",
            "chandarana      12\n",
            "uchumi           9\n",
            "neema            4\n",
            "zucchini         4\n",
            "kamindi          3\n",
            "fairway          2\n",
            "Selfridges       2\n",
            "interstrat       1\n",
            "Eastmatt         1\n",
            "magna            1\n",
            "large neema      1\n",
            "kassmart         1\n",
            "Name: supermarket, dtype: int64\n",
            "\n",
            "\n",
            "cash               1332\n",
            "mpesa                50\n",
            "card                 25\n",
            "credit card           3\n",
            "voucher               2\n",
            "points                1\n",
            "redeemed points       1\n",
            "Name: type, dtype: int64\n",
            "\n",
            "\n",
            "no     718\n",
            "yes    696\n",
            "Name: food, dtype: int64\n",
            "\n",
            "\n",
            "no     951\n",
            "yes    463\n",
            "Name: snack, dtype: int64\n",
            "\n",
            "\n",
            "no     937\n",
            "yes    477\n",
            "Name: beverage, dtype: int64\n",
            "\n",
            "\n",
            "no     1108\n",
            "yes     306\n",
            "Name: consumables, dtype: int64\n",
            "\n",
            "\n",
            "no     1335\n",
            "yes      79\n",
            "Name: high_end, dtype: int64\n",
            "\n",
            "\n",
            "no     1278\n",
            "yes     136\n",
            "Name: asset, dtype: int64\n",
            "\n",
            "\n",
            "no     1411\n",
            "yes       3\n",
            "Name: fixed_asset, dtype: int64\n",
            "\n",
            "\n",
            "2017-05-23 00:00:00    459\n",
            "2017-08-22 00:00:00    146\n",
            "2017-09-08 00:00:00     85\n",
            "2017-08-26 00:00:00     83\n",
            "2017-09-03 00:00:00     74\n",
            "                      ... \n",
            "2017-09-05 00:00:00      1\n",
            "25/05/2017               1\n",
            "15/05/2017               1\n",
            "2017-11-01 00:00:00      1\n",
            "2017-07-25 00:00:00      1\n",
            "Name: date, Length: 132, dtype: int64\n",
            "\n",
            "\n",
            "no     1320\n",
            "yes      94\n",
            "Name: mall, dtype: int64\n",
            "\n",
            "\n",
            "17:40:00    10\n",
            "16:53:00     9\n",
            "17:20:00     8\n",
            "17:27:00     7\n",
            "16:58:00     6\n",
            "            ..\n",
            "18:02:00     1\n",
            "08:48:00     1\n",
            "22:19:00     1\n",
            "13:06:00     1\n",
            "19:39:00     1\n",
            "Name: time, Length: 684, dtype: int64\n",
            "\n",
            "\n",
            "evening      390\n",
            "afternoon    389\n",
            "morning      334\n",
            "night        299\n",
            "midnight       2\n",
            "Name: time_type, dtype: int64\n",
            "\n",
            "\n",
            "chain     1250\n",
            "small      127\n",
            "median      37\n",
            "Name: type_market, dtype: int64\n",
            "\n",
            "\n",
            "cbd              773\n",
            "ongata rongai    393\n",
            "saika             51\n",
            "umoja             42\n",
            "junction          34\n",
            "donholm           26\n",
            "kilimani          26\n",
            "karen             20\n",
            "Kitengela          8\n",
            "Donholm            8\n",
            "adlife             4\n",
            "gami               4\n",
            "yaya               3\n",
            "prestige           3\n",
            "kangundo road      2\n",
            "kiambu             2\n",
            "langata            2\n",
            "eastlands          2\n",
            "mega               1\n",
            "mwiki              1\n",
            "eldoret            1\n",
            "makadara           1\n",
            "nairobi west       1\n",
            "kericho town       1\n",
            "greenspan          1\n",
            "likoni             1\n",
            "komarock           1\n",
            "karasha            1\n",
            "ruaraka            1\n",
            "Name: location, dtype: int64\n",
            "\n",
            "\n",
            "mid     1346\n",
            "high      67\n",
            "low        1\n",
            "Name: loc_category, dtype: int64\n",
            "\n",
            "\n"
          ],
          "name": "stdout"
        }
      ]
    },
    {
      "cell_type": "code",
      "metadata": {
        "id": "RUNrwwjjD-3G",
        "colab_type": "code",
        "outputId": "2a643ab7-b9b3-4469-ab24-397b639cee96",
        "colab": {
          "base_uri": "https://localhost:8080/",
          "height": 34
        }
      },
      "source": [
        "# Checking the shape of our new dataframe\n",
        "#\n",
        "supermarket_df.shape[0]"
      ],
      "execution_count": 0,
      "outputs": [
        {
          "output_type": "execute_result",
          "data": {
            "text/plain": [
              "1439"
            ]
          },
          "metadata": {
            "tags": []
          },
          "execution_count": 157
        }
      ]
    },
    {
      "cell_type": "code",
      "metadata": {
        "id": "ctyfQybnGYW-",
        "colab_type": "code",
        "colab": {}
      },
      "source": [
        "# dropping null values\n",
        "#\n",
        "supermarket_df.dropna(inplace=True) "
      ],
      "execution_count": 0,
      "outputs": []
    },
    {
      "cell_type": "code",
      "metadata": {
        "id": "qH6v3bzIDM7N",
        "colab_type": "code",
        "colab": {}
      },
      "source": [
        "# Creating a dataframe fr our categorcal variables\n",
        "#\n",
        "n_categorical = categorical[['supermarket', 'type', 'food', 'snack', 'beverage', 'consumables',\\\n",
        "                             'high_end', 'asset', 'fixed_asset', 'mall', 'time_type',\\\n",
        "                             'type_market', 'location', 'loc_category']]"
      ],
      "execution_count": 0,
      "outputs": []
    },
    {
      "cell_type": "code",
      "metadata": {
        "id": "v-n3VBZOEdZ_",
        "colab_type": "code",
        "outputId": "4cf35927-556f-49fc-ba1f-a46f2e9e1762",
        "colab": {
          "base_uri": "https://localhost:8080/",
          "height": 34
        }
      },
      "source": [
        "# Checking for the total number of columns on our categorical dataframe\n",
        "#\n",
        "x = len(n_categorical.columns)\n",
        "print(\" Number of columns is: \", x)"
      ],
      "execution_count": 0,
      "outputs": [
        {
          "output_type": "stream",
          "text": [
            " Number of columns is:  14\n"
          ],
          "name": "stdout"
        }
      ]
    },
    {
      "cell_type": "code",
      "metadata": {
        "id": "Ko6ZVt8PEM3s",
        "colab_type": "code",
        "outputId": "4b25e8c6-91ea-41c7-b3f5-4fff6f96e660",
        "colab": {
          "base_uri": "https://localhost:8080/",
          "height": 1000
        }
      },
      "source": [
        "# Plotting sublots for our categorical variables.\n",
        "#\n",
        "fig, (ax) = plt.subplots(7,2, figsize=(20, 40))\n",
        "fig.suptitle('Frequency Distributions')\n",
        "ax = ax.flatten()\n",
        "\n",
        "#iterating our columns as we plot\n",
        "for i, col in enumerate(n_categorical):\n",
        "    sns.barplot(n_categorical[col].value_counts().keys(), n_categorical[col].value_counts(), ax=ax[i])\n",
        "    ax[i].set_xlabel(col)\n",
        "    ax[i].set_ylabel('Count', fontsize=16)\n",
        "      \n",
        "plt.show()"
      ],
      "execution_count": 0,
      "outputs": [
        {
          "output_type": "display_data",
          "data": {
            "image/png": "[encoded data removed]",
            "text/plain": [
              "<Figure size 1440x2880 with 14 Axes>"
            ]
          },
          "metadata": {
            "tags": []
          }
        }
      ]
    },
    {
      "cell_type": "code",
      "metadata": {
        "id": "hRJH3RpW3vHD",
        "colab_type": "code",
        "outputId": "08313ff1-47c8-4d16-f93c-031219b9f3ec",
        "colab": {
          "base_uri": "https://localhost:8080/",
          "height": 319
        }
      },
      "source": [
        "#plotting our frequencies on pie charts to visualise our percentage distributions\n",
        "#\n",
        "labels = ['Weekdays', 'Weekends']\n",
        "sizes  = [supermarket_df['day_type'].value_counts()]\n",
        "colors = ['green','orange']\n",
        "\n",
        "# Highlights a particular Value in plot\n",
        "explode = (0.1, 0)  \n",
        "\n",
        "# Plotting our pie chart\n",
        "plt.pie(sizes, explode=explode, labels=labels, colors=colors,\n",
        "autopct='%1.1f%%', shadow=True, startangle=140)\n",
        "\n",
        "plt.axis('equal')\n",
        "plt.title('Pie Chart of Day Type')\n",
        "plt.show()"
      ],
      "execution_count": 0,
      "outputs": [
        {
          "output_type": "stream",
          "text": [
            "/usr/local/lib/python3.6/dist-packages/ipykernel_launcher.py:12: MatplotlibDeprecationWarning: Non-1D inputs to pie() are currently squeeze()d, but this behavior is deprecated since 3.1 and will be removed in 3.3; pass a 1D array instead.\n",
            "  if sys.path[0] == '':\n"
          ],
          "name": "stderr"
        },
        {
          "output_type": "display_data",
          "data": {
            "image/png": "[encoded data removed]",
            "text/plain": [
              "<Figure size 432x288 with 1 Axes>"
            ]
          },
          "metadata": {
            "tags": []
          }
        }
      ]
    },
    {
      "cell_type": "code",
      "metadata": {
        "id": "pWPvy2Tw_lKR",
        "colab_type": "code",
        "outputId": "b757bbef-742f-4752-9a25-d795ce81b482",
        "colab": {
          "base_uri": "https://localhost:8080/",
          "height": 319
        }
      },
      "source": [
        "#plotting our frequencies on pie charts to visualise our percentage distributions\n",
        "#\n",
        "labels = ['small', 'chain', 'median']\n",
        "sizes  = [supermarket_df['type_market'].value_counts()]\n",
        "colors = ['green','orange','red']\n",
        "\n",
        "# Highlights a particular Value in plot\n",
        "explode = (0.1, 0.5, 0.6)  \n",
        "\n",
        "# Plotting our pie chart\n",
        "plt.pie(sizes, explode=explode, labels=labels, colors=colors,\n",
        "autopct='%1.1f%%', shadow=True, startangle=140)\n",
        "\n",
        "plt.axis('equal')\n",
        "plt.title('Pie Chart of Type of Market')\n",
        "plt.show()"
      ],
      "execution_count": 0,
      "outputs": [
        {
          "output_type": "stream",
          "text": [
            "/usr/local/lib/python3.6/dist-packages/ipykernel_launcher.py:12: MatplotlibDeprecationWarning: Non-1D inputs to pie() are currently squeeze()d, but this behavior is deprecated since 3.1 and will be removed in 3.3; pass a 1D array instead.\n",
            "  if sys.path[0] == '':\n"
          ],
          "name": "stderr"
        },
        {
          "output_type": "display_data",
          "data": {
            "image/png": "[encoded data removed]",
            "text/plain": [
              "<Figure size 432x288 with 1 Axes>"
            ]
          },
          "metadata": {
            "tags": []
          }
        }
      ]
    },
    {
      "cell_type": "code",
      "metadata": {
        "id": "gwux1nEUJQSV",
        "colab_type": "code",
        "outputId": "61f7de4b-bd69-4fa5-9555-6e8cee1892a5",
        "colab": {
          "base_uri": "https://localhost:8080/",
          "height": 319
        }
      },
      "source": [
        "#plotting our frequencies on pie charts to visualise our percentage distributions\n",
        "#\n",
        "labels = ['mid', 'high', 'low']\n",
        "sizes  = [supermarket_df['loc_category'].value_counts()]\n",
        "colors = ['green','orange','red']\n",
        "\n",
        "# Highlights a particular Value in plot\n",
        "explode = (0.1, 0.5, 0.6)  \n",
        "\n",
        "# Plotting our pie chart\n",
        "plt.pie(sizes, explode=explode, labels=labels, colors=colors,\n",
        "autopct='%1.1f%%', shadow=True, startangle=140)\n",
        "\n",
        "plt.axis('equal')\n",
        "plt.title('Pie Chart of Location Category')\n",
        "plt.show()"
      ],
      "execution_count": 0,
      "outputs": [
        {
          "output_type": "stream",
          "text": [
            "/usr/local/lib/python3.6/dist-packages/ipykernel_launcher.py:12: MatplotlibDeprecationWarning: Non-1D inputs to pie() are currently squeeze()d, but this behavior is deprecated since 3.1 and will be removed in 3.3; pass a 1D array instead.\n",
            "  if sys.path[0] == '':\n"
          ],
          "name": "stderr"
        },
        {
          "output_type": "display_data",
          "data": {
            "image/png": "[encoded data removed]",
            "text/plain": [
              "<Figure size 432x288 with 1 Axes>"
            ]
          },
          "metadata": {
            "tags": []
          }
        }
      ]
    },
    {
      "cell_type": "code",
      "metadata": {
        "id": "rr6xkN_oGGth",
        "colab_type": "code",
        "outputId": "8750a9ca-1b69-4182-ff77-59d617a1cc85",
        "colab": {
          "base_uri": "https://localhost:8080/",
          "height": 537
        }
      },
      "source": [
        "#plotting our frequencies on pie charts to visualise our percentage distributions\n",
        "#\n",
        "\n",
        "labels = ['cash', 'card', 'mpesa', 'redeemed points', 'points',\n",
        "       'voucher', 'credit card']\n",
        "sizes  = [supermarket_df['type'].value_counts()]\n",
        "colors = ['orange','lightcoral', 'green', 'aqua', 'red', 'gold', 'maroon']\n",
        "\n",
        "# Highlights a particular Value in plot\n",
        "explode = (0, 1.2, 2.0, 1.5, 3.0, 0.7, 3.9)  \n",
        "fig = plt.figure(figsize=(10,8))\n",
        "\n",
        "# Plotting our pie chart\n",
        "plt.pie(sizes, explode=explode, labels=labels, colors=colors,\n",
        "autopct='%1.1f%%', shadow=True, startangle=140)\n",
        "\n",
        "plt.axis('equal')\n",
        "plt.title('Pie Chart of Payment Method')\n",
        "plt.show()"
      ],
      "execution_count": 0,
      "outputs": [
        {
          "output_type": "stream",
          "text": [
            "/usr/local/lib/python3.6/dist-packages/ipykernel_launcher.py:15: MatplotlibDeprecationWarning: Non-1D inputs to pie() are currently squeeze()d, but this behavior is deprecated since 3.1 and will be removed in 3.3; pass a 1D array instead.\n",
            "  from ipykernel import kernelapp as app\n"
          ],
          "name": "stderr"
        },
        {
          "output_type": "display_data",
          "data": {
            "image/png": "[encoded data removed]",
            "text/plain": [
              "<Figure size 720x576 with 1 Axes>"
            ]
          },
          "metadata": {
            "tags": []
          }
        }
      ]
    },
    {
      "cell_type": "code",
      "metadata": {
        "id": "QUSxT7DAOMyZ",
        "colab_type": "code",
        "outputId": "adbff9b1-8f84-47e9-f24c-ea5a5b59a7f0",
        "colab": {
          "base_uri": "https://localhost:8080/",
          "height": 297
        }
      },
      "source": [
        "# Describing our numeric variables\n",
        "#\n",
        "numerical_df.describe()"
      ],
      "execution_count": 0,
      "outputs": [
        {
          "output_type": "execute_result",
          "data": {
            "text/html": [
              "<div>\n",
              "<style scoped>\n",
              "    .dataframe tbody tr th:only-of-type {\n",
              "        vertical-align: middle;\n",
              "    }\n",
              "\n",
              "    .dataframe tbody tr th {\n",
              "        vertical-align: top;\n",
              "    }\n",
              "\n",
              "    .dataframe thead th {\n",
              "        text-align: right;\n",
              "    }\n",
              "</style>\n",
              "<table border=\"1\" class=\"dataframe\">\n",
              "  <thead>\n",
              "    <tr style=\"text-align: right;\">\n",
              "      <th></th>\n",
              "      <th>no_of_items</th>\n",
              "      <th>variation</th>\n",
              "      <th>total</th>\n",
              "      <th>paid</th>\n",
              "      <th>change</th>\n",
              "    </tr>\n",
              "  </thead>\n",
              "  <tbody>\n",
              "    <tr>\n",
              "      <th>count</th>\n",
              "      <td>1439.000000</td>\n",
              "      <td>1439.000000</td>\n",
              "      <td>1439.000000</td>\n",
              "      <td>1439.000000</td>\n",
              "      <td>1439.000000</td>\n",
              "    </tr>\n",
              "    <tr>\n",
              "      <th>mean</th>\n",
              "      <td>2.298819</td>\n",
              "      <td>1.394719</td>\n",
              "      <td>309.774260</td>\n",
              "      <td>466.952543</td>\n",
              "      <td>163.810028</td>\n",
              "    </tr>\n",
              "    <tr>\n",
              "      <th>std</th>\n",
              "      <td>2.610760</td>\n",
              "      <td>0.726892</td>\n",
              "      <td>926.393131</td>\n",
              "      <td>953.964841</td>\n",
              "      <td>257.367923</td>\n",
              "    </tr>\n",
              "    <tr>\n",
              "      <th>min</th>\n",
              "      <td>1.000000</td>\n",
              "      <td>1.000000</td>\n",
              "      <td>1.000000</td>\n",
              "      <td>1.000000</td>\n",
              "      <td>0.000000</td>\n",
              "    </tr>\n",
              "    <tr>\n",
              "      <th>25%</th>\n",
              "      <td>1.000000</td>\n",
              "      <td>1.000000</td>\n",
              "      <td>60.000000</td>\n",
              "      <td>100.000000</td>\n",
              "      <td>5.000000</td>\n",
              "    </tr>\n",
              "    <tr>\n",
              "      <th>50%</th>\n",
              "      <td>1.000000</td>\n",
              "      <td>1.000000</td>\n",
              "      <td>110.000000</td>\n",
              "      <td>200.000000</td>\n",
              "      <td>40.000000</td>\n",
              "    </tr>\n",
              "    <tr>\n",
              "      <th>75%</th>\n",
              "      <td>3.000000</td>\n",
              "      <td>2.000000</td>\n",
              "      <td>245.000000</td>\n",
              "      <td>500.000000</td>\n",
              "      <td>182.500000</td>\n",
              "    </tr>\n",
              "    <tr>\n",
              "      <th>max</th>\n",
              "      <td>33.000000</td>\n",
              "      <td>6.000000</td>\n",
              "      <td>17350.000000</td>\n",
              "      <td>17350.000000</td>\n",
              "      <td>1880.000000</td>\n",
              "    </tr>\n",
              "  </tbody>\n",
              "</table>\n",
              "</div>"
            ],
            "text/plain": [
              "       no_of_items    variation         total          paid       change\n",
              "count  1439.000000  1439.000000   1439.000000   1439.000000  1439.000000\n",
              "mean      2.298819     1.394719    309.774260    466.952543   163.810028\n",
              "std       2.610760     0.726892    926.393131    953.964841   257.367923\n",
              "min       1.000000     1.000000      1.000000      1.000000     0.000000\n",
              "25%       1.000000     1.000000     60.000000    100.000000     5.000000\n",
              "50%       1.000000     1.000000    110.000000    200.000000    40.000000\n",
              "75%       3.000000     2.000000    245.000000    500.000000   182.500000\n",
              "max      33.000000     6.000000  17350.000000  17350.000000  1880.000000"
            ]
          },
          "metadata": {
            "tags": []
          },
          "execution_count": 166
        }
      ]
    },
    {
      "cell_type": "code",
      "metadata": {
        "id": "QpR3xtjoOez-",
        "colab_type": "code",
        "outputId": "cef081f7-28e3-4a12-be94-e80925dad45c",
        "colab": {
          "base_uri": "https://localhost:8080/",
          "height": 1000
        }
      },
      "source": [
        "# Frequency distribution for our numeric variables\n",
        "#\n",
        "fig, ax = plt.subplots(len(numerical_df.columns), figsize=(15,35))\n",
        "\n",
        "for i, col_val in enumerate(numerical_df):\n",
        "  sns.distplot(numerical_df[col_val], hist=True, ax=ax[i], color='blue')\n",
        "  ax[i].set_xlabel(col_val, fontsize=16)\n",
        "  ax[i].set_ylabel('Count', fontsize=16)\n",
        "\n",
        "plt.show()"
      ],
      "execution_count": 0,
      "outputs": [
        {
          "output_type": "display_data",
          "data": {
            "image/png": "[encoded data removed]",
            "text/plain": [
              "<Figure size 1080x2520 with 5 Axes>"
            ]
          },
          "metadata": {
            "tags": []
          }
        }
      ]
    },
    {
      "cell_type": "markdown",
      "metadata": {
        "id": "lDV7rMQ-Py_G",
        "colab_type": "text"
      },
      "source": [
        "> #### Conclusion"
      ]
    },
    {
      "cell_type": "markdown",
      "metadata": {
        "id": "jaCgKBq4P77a",
        "colab_type": "text"
      },
      "source": [
        ">> * Our numerical variable columns have data that is normally distributed and the data tends to be skewed toward the right side near the zero mark."
      ]
    },
    {
      "cell_type": "markdown",
      "metadata": {
        "id": "_pkJltkVQJQj",
        "colab_type": "text"
      },
      "source": [
        "> ## ii) Bivariate Analysis"
      ]
    },
    {
      "cell_type": "markdown",
      "metadata": {
        "id": "FjwziIKQQMxq",
        "colab_type": "text"
      },
      "source": [
        "> ## Data Correlation"
      ]
    },
    {
      "cell_type": "markdown",
      "metadata": {
        "id": "PZr0jqTWQQE8",
        "colab_type": "text"
      },
      "source": [
        "> ### a) Numeric and Numeric Variables"
      ]
    },
    {
      "cell_type": "markdown",
      "metadata": {
        "id": "Cd3tbZq1QRVN",
        "colab_type": "text"
      },
      "source": [
        ">  #### Plotting Scatter plots"
      ]
    },
    {
      "cell_type": "code",
      "metadata": {
        "id": "PGdzgZmwzGUn",
        "colab_type": "code",
        "outputId": "7447988a-32c2-4da2-80a8-403dcc6ae489",
        "colab": {
          "base_uri": "https://localhost:8080/",
          "height": 221
        }
      },
      "source": [
        "numerical_df.info()"
      ],
      "execution_count": 0,
      "outputs": [
        {
          "output_type": "stream",
          "text": [
            "<class 'pandas.core.frame.DataFrame'>\n",
            "Int64Index: 1439 entries, 0 to 1463\n",
            "Data columns (total 5 columns):\n",
            " #   Column       Non-Null Count  Dtype  \n",
            "---  ------       --------------  -----  \n",
            " 0   no_of_items  1439 non-null   int64  \n",
            " 1   variation    1439 non-null   int64  \n",
            " 2   total        1439 non-null   float64\n",
            " 3   paid         1439 non-null   float64\n",
            " 4   change       1439 non-null   float64\n",
            "dtypes: float64(3), int64(2)\n",
            "memory usage: 107.5 KB\n"
          ],
          "name": "stdout"
        }
      ]
    },
    {
      "cell_type": "code",
      "metadata": {
        "id": "GKG-3BnyPkdU",
        "colab_type": "code",
        "outputId": "6f474319-4584-4c69-8ec9-4d326a5044c2",
        "colab": {
          "base_uri": "https://localhost:8080/",
          "height": 944
        }
      },
      "source": [
        "# drawing scatter plots on numeric variables to visualize any correlation\n",
        "#\n",
        "sns.pairplot(numerical_df)\n",
        "plt.title(\"Pairplot of Numeric variables.\")"
      ],
      "execution_count": 0,
      "outputs": [
        {
          "output_type": "execute_result",
          "data": {
            "text/plain": [
              "Text(0.5, 1.0, 'Pairplot of Numeric variables.')"
            ]
          },
          "metadata": {
            "tags": []
          },
          "execution_count": 169
        },
        {
          "output_type": "display_data",
          "data": {
            "image/png": "[encoded data removed]",
            "text/plain": [
              "<Figure size 900x900 with 30 Axes>"
            ]
          },
          "metadata": {
            "tags": []
          }
        }
      ]
    },
    {
      "cell_type": "markdown",
      "metadata": {
        "id": "PpXnkhl5MM8Q",
        "colab_type": "text"
      },
      "source": [
        "> #### Plotting a heatmap of our data"
      ]
    },
    {
      "cell_type": "code",
      "metadata": {
        "id": "k1thtoJbQpcu",
        "colab_type": "code",
        "outputId": "d38bdfc5-1d83-4df9-d32a-6738be55b83b",
        "colab": {
          "base_uri": "https://localhost:8080/",
          "height": 280
        }
      },
      "source": [
        "# Plotting heatmap to show how our numeric variables correlate\n",
        "sns.heatmap(numerical_df.corr(),annot=True)\n",
        "plt.title('Correlation Matrix')\n",
        "plt.show()"
      ],
      "execution_count": 0,
      "outputs": [
        {
          "output_type": "display_data",
          "data": {
            "image/png": "[encoded data removed]",
            "text/plain": [
              "<Figure size 432x288 with 2 Axes>"
            ]
          },
          "metadata": {
            "tags": []
          }
        }
      ]
    },
    {
      "cell_type": "markdown",
      "metadata": {
        "id": "hS84bDupNxwH",
        "colab_type": "text"
      },
      "source": [
        ">> Observations\n",
        "> * We observe that the total amount is closely related to the paid amount.\n",
        "> * The Variation is closely related to the toal and paid amount while the change is not related at all to the total."
      ]
    },
    {
      "cell_type": "markdown",
      "metadata": {
        "id": "sPMavL-1MeEb",
        "colab_type": "text"
      },
      "source": [
        "> #### Calculating Correlations of Numeric Variables."
      ]
    },
    {
      "cell_type": "code",
      "metadata": {
        "id": "vRzhfU8bMiNn",
        "colab_type": "code",
        "outputId": "451c6a5e-fed5-4b50-ab3a-34f2cdfaa764",
        "colab": {
          "base_uri": "https://localhost:8080/",
          "height": 34
        }
      },
      "source": [
        "numerical_df.columns"
      ],
      "execution_count": 0,
      "outputs": [
        {
          "output_type": "execute_result",
          "data": {
            "text/plain": [
              "Index(['no_of_items', 'variation', 'total', 'paid', 'change'], dtype='object')"
            ]
          },
          "metadata": {
            "tags": []
          },
          "execution_count": 171
        }
      ]
    },
    {
      "cell_type": "code",
      "metadata": {
        "id": "kc3PyMNAMUIW",
        "colab_type": "code",
        "outputId": "ea9358be-7653-4ebf-cb49-233e2f46ec5c",
        "colab": {
          "base_uri": "https://localhost:8080/",
          "height": 119
        }
      },
      "source": [
        "# Calculating the correlations of the numeric variables \n",
        "pearson_coeff = numerical_df['no_of_items'].corr(numerical_df['variation'], method=\"pearson\")\n",
        "print(f\"Correlation between Number of items and variation is {pearson_coeff}\")\n",
        "\n",
        "pearson_coeff = numerical_df['variation'].corr(numerical_df['total'], method=\"pearson\")\n",
        "print(f\"Correlation between variation and total is {pearson_coeff}\")\n",
        "\n",
        "pearson_coeff = numerical_df['total'].corr(numerical_df['paid'], method=\"pearson\")\n",
        "print(f\"Correlation between total and paid is {pearson_coeff}\")\n",
        "\n",
        "pearson_coeff = numerical_df['paid'].corr(numerical_df['change'], method=\"pearson\")\n",
        "print(f\"Correlation between paid and change is {pearson_coeff}\")\n",
        "\n",
        "pearson_coeff = numerical_df['total'].corr(numerical_df['no_of_items'], method=\"pearson\")\n",
        "print(f\"Correlation between total and number of items is {pearson_coeff}\")\n",
        "\n",
        "pearson_coeff = numerical_df['paid'].corr(numerical_df['variation'], method=\"pearson\")\n",
        "print(f\"Correlation between paid and variation is {pearson_coeff}\")"
      ],
      "execution_count": 0,
      "outputs": [
        {
          "output_type": "stream",
          "text": [
            "Correlation between Number of items and variation is 0.6754498995627983\n",
            "Correlation between variation and total is 0.43758487014723774\n",
            "Correlation between total and paid is 0.9625394600099774\n",
            "Correlation between paid and change is 0.23206015506103378\n",
            "Correlation between total and number of items is 0.6630759105868743\n",
            "Correlation between paid and variation is 0.44818031934110486\n"
          ],
          "name": "stdout"
        }
      ]
    },
    {
      "cell_type": "markdown",
      "metadata": {
        "id": "VatpCPpiXpre",
        "colab_type": "text"
      },
      "source": [
        "> ## ii) Multivariate Analysis"
      ]
    },
    {
      "cell_type": "markdown",
      "metadata": {
        "id": "nIvOhQ3gbe9i",
        "colab_type": "text"
      },
      "source": [
        "#### 1) Discriminant Analysis"
      ]
    },
    {
      "cell_type": "code",
      "metadata": {
        "id": "xnE-OX6Zfyty",
        "colab_type": "code",
        "outputId": "76c8b382-9fcd-4282-ee6a-5c03daf326c5",
        "colab": {
          "base_uri": "https://localhost:8080/",
          "height": 241
        }
      },
      "source": [
        "# Getting the first 5 rows\n",
        "#\n",
        "supermarket_df.head()"
      ],
      "execution_count": 0,
      "outputs": [
        {
          "output_type": "execute_result",
          "data": {
            "text/html": [
              "<div>\n",
              "<style scoped>\n",
              "    .dataframe tbody tr th:only-of-type {\n",
              "        vertical-align: middle;\n",
              "    }\n",
              "\n",
              "    .dataframe tbody tr th {\n",
              "        vertical-align: top;\n",
              "    }\n",
              "\n",
              "    .dataframe thead th {\n",
              "        text-align: right;\n",
              "    }\n",
              "</style>\n",
              "<table border=\"1\" class=\"dataframe\">\n",
              "  <thead>\n",
              "    <tr style=\"text-align: right;\">\n",
              "      <th></th>\n",
              "      <th>Unnamed: 0</th>\n",
              "      <th>no_of_items</th>\n",
              "      <th>variation</th>\n",
              "      <th>total</th>\n",
              "      <th>paid</th>\n",
              "      <th>change</th>\n",
              "      <th>supermarket</th>\n",
              "      <th>type</th>\n",
              "      <th>food</th>\n",
              "      <th>snack</th>\n",
              "      <th>beverage</th>\n",
              "      <th>consumables</th>\n",
              "      <th>high_end</th>\n",
              "      <th>asset</th>\n",
              "      <th>fixed_asset</th>\n",
              "      <th>date</th>\n",
              "      <th>mall</th>\n",
              "      <th>time</th>\n",
              "      <th>time_type</th>\n",
              "      <th>type_market</th>\n",
              "      <th>location</th>\n",
              "      <th>loc_category</th>\n",
              "      <th>day</th>\n",
              "      <th>day_type</th>\n",
              "      <th>24hr</th>\n",
              "      <th>day.1</th>\n",
              "      <th>month</th>\n",
              "      <th>year</th>\n",
              "    </tr>\n",
              "  </thead>\n",
              "  <tbody>\n",
              "    <tr>\n",
              "      <th>0</th>\n",
              "      <td>0</td>\n",
              "      <td>1</td>\n",
              "      <td>1</td>\n",
              "      <td>90.0</td>\n",
              "      <td>100.0</td>\n",
              "      <td>10.0</td>\n",
              "      <td>acacia</td>\n",
              "      <td>cash</td>\n",
              "      <td>yes</td>\n",
              "      <td>no</td>\n",
              "      <td>no</td>\n",
              "      <td>no</td>\n",
              "      <td>no</td>\n",
              "      <td>no</td>\n",
              "      <td>no</td>\n",
              "      <td>20/05/2017</td>\n",
              "      <td>no</td>\n",
              "      <td>19:33:00</td>\n",
              "      <td>night</td>\n",
              "      <td>small</td>\n",
              "      <td>saika</td>\n",
              "      <td>mid</td>\n",
              "      <td>saturday</td>\n",
              "      <td>weekend</td>\n",
              "      <td>no</td>\n",
              "      <td>20</td>\n",
              "      <td>5.0</td>\n",
              "      <td>2017.0</td>\n",
              "    </tr>\n",
              "    <tr>\n",
              "      <th>1</th>\n",
              "      <td>1</td>\n",
              "      <td>1</td>\n",
              "      <td>1</td>\n",
              "      <td>90.0</td>\n",
              "      <td>500.0</td>\n",
              "      <td>410.0</td>\n",
              "      <td>acacia</td>\n",
              "      <td>cash</td>\n",
              "      <td>yes</td>\n",
              "      <td>no</td>\n",
              "      <td>no</td>\n",
              "      <td>no</td>\n",
              "      <td>no</td>\n",
              "      <td>no</td>\n",
              "      <td>no</td>\n",
              "      <td>20/05/2017</td>\n",
              "      <td>no</td>\n",
              "      <td>19:12:00</td>\n",
              "      <td>night</td>\n",
              "      <td>small</td>\n",
              "      <td>saika</td>\n",
              "      <td>mid</td>\n",
              "      <td>saturday</td>\n",
              "      <td>weekend</td>\n",
              "      <td>no</td>\n",
              "      <td>20</td>\n",
              "      <td>5.0</td>\n",
              "      <td>2017.0</td>\n",
              "    </tr>\n",
              "    <tr>\n",
              "      <th>2</th>\n",
              "      <td>2</td>\n",
              "      <td>3</td>\n",
              "      <td>1</td>\n",
              "      <td>270.0</td>\n",
              "      <td>300.0</td>\n",
              "      <td>30.0</td>\n",
              "      <td>acacia</td>\n",
              "      <td>cash</td>\n",
              "      <td>yes</td>\n",
              "      <td>no</td>\n",
              "      <td>no</td>\n",
              "      <td>no</td>\n",
              "      <td>no</td>\n",
              "      <td>no</td>\n",
              "      <td>no</td>\n",
              "      <td>20/05/2017</td>\n",
              "      <td>no</td>\n",
              "      <td>19:16:00</td>\n",
              "      <td>night</td>\n",
              "      <td>small</td>\n",
              "      <td>saika</td>\n",
              "      <td>mid</td>\n",
              "      <td>saturday</td>\n",
              "      <td>weekend</td>\n",
              "      <td>no</td>\n",
              "      <td>20</td>\n",
              "      <td>5.0</td>\n",
              "      <td>2017.0</td>\n",
              "    </tr>\n",
              "    <tr>\n",
              "      <th>3</th>\n",
              "      <td>3</td>\n",
              "      <td>3</td>\n",
              "      <td>1</td>\n",
              "      <td>137.0</td>\n",
              "      <td>200.0</td>\n",
              "      <td>63.0</td>\n",
              "      <td>acacia</td>\n",
              "      <td>cash</td>\n",
              "      <td>yes</td>\n",
              "      <td>no</td>\n",
              "      <td>no</td>\n",
              "      <td>no</td>\n",
              "      <td>no</td>\n",
              "      <td>no</td>\n",
              "      <td>no</td>\n",
              "      <td>20/05/2017</td>\n",
              "      <td>no</td>\n",
              "      <td>19:12:00</td>\n",
              "      <td>night</td>\n",
              "      <td>small</td>\n",
              "      <td>saika</td>\n",
              "      <td>mid</td>\n",
              "      <td>saturday</td>\n",
              "      <td>weekend</td>\n",
              "      <td>no</td>\n",
              "      <td>20</td>\n",
              "      <td>5.0</td>\n",
              "      <td>2017.0</td>\n",
              "    </tr>\n",
              "    <tr>\n",
              "      <th>4</th>\n",
              "      <td>4</td>\n",
              "      <td>1</td>\n",
              "      <td>1</td>\n",
              "      <td>75.0</td>\n",
              "      <td>80.0</td>\n",
              "      <td>5.0</td>\n",
              "      <td>acacia</td>\n",
              "      <td>cash</td>\n",
              "      <td>yes</td>\n",
              "      <td>no</td>\n",
              "      <td>no</td>\n",
              "      <td>no</td>\n",
              "      <td>no</td>\n",
              "      <td>no</td>\n",
              "      <td>no</td>\n",
              "      <td>20/05/2017</td>\n",
              "      <td>no</td>\n",
              "      <td>18:31:00</td>\n",
              "      <td>afternoon</td>\n",
              "      <td>small</td>\n",
              "      <td>saika</td>\n",
              "      <td>mid</td>\n",
              "      <td>saturday</td>\n",
              "      <td>weekend</td>\n",
              "      <td>no</td>\n",
              "      <td>20</td>\n",
              "      <td>5.0</td>\n",
              "      <td>2017.0</td>\n",
              "    </tr>\n",
              "  </tbody>\n",
              "</table>\n",
              "</div>"
            ],
            "text/plain": [
              "   Unnamed: 0  no_of_items  variation  total  ...  24hr  day.1 month    year\n",
              "0           0            1          1   90.0  ...    no     20   5.0  2017.0\n",
              "1           1            1          1   90.0  ...    no     20   5.0  2017.0\n",
              "2           2            3          1  270.0  ...    no     20   5.0  2017.0\n",
              "3           3            3          1  137.0  ...    no     20   5.0  2017.0\n",
              "4           4            1          1   75.0  ...    no     20   5.0  2017.0\n",
              "\n",
              "[5 rows x 28 columns]"
            ]
          },
          "metadata": {
            "tags": []
          },
          "execution_count": 173
        }
      ]
    },
    {
      "cell_type": "code",
      "metadata": {
        "id": "oBxUDQSNhqlI",
        "colab_type": "code",
        "outputId": "38f7a06a-e68d-47c2-d32c-bc56a702d007",
        "colab": {
          "base_uri": "https://localhost:8080/",
          "height": 612
        }
      },
      "source": [
        "# getting information from our suprmarket dataframe\n",
        "#\n",
        "supermarket_df.info()"
      ],
      "execution_count": 0,
      "outputs": [
        {
          "output_type": "stream",
          "text": [
            "<class 'pandas.core.frame.DataFrame'>\n",
            "Int64Index: 1414 entries, 0 to 1438\n",
            "Data columns (total 28 columns):\n",
            " #   Column        Non-Null Count  Dtype  \n",
            "---  ------        --------------  -----  \n",
            " 0   Unnamed: 0    1414 non-null   int64  \n",
            " 1   no_of_items   1414 non-null   int64  \n",
            " 2   variation     1414 non-null   int64  \n",
            " 3   total         1414 non-null   float64\n",
            " 4   paid          1414 non-null   float64\n",
            " 5   change        1414 non-null   float64\n",
            " 6   supermarket   1414 non-null   object \n",
            " 7   type          1414 non-null   object \n",
            " 8   food          1414 non-null   object \n",
            " 9   snack         1414 non-null   object \n",
            " 10  beverage      1414 non-null   object \n",
            " 11  consumables   1414 non-null   object \n",
            " 12  high_end      1414 non-null   object \n",
            " 13  asset         1414 non-null   object \n",
            " 14  fixed_asset   1414 non-null   object \n",
            " 15  date          1414 non-null   object \n",
            " 16  mall          1414 non-null   object \n",
            " 17  time          1414 non-null   object \n",
            " 18  time_type     1414 non-null   object \n",
            " 19  type_market   1414 non-null   object \n",
            " 20  location      1414 non-null   object \n",
            " 21  loc_category  1414 non-null   object \n",
            " 22  day           1414 non-null   object \n",
            " 23  day_type      1414 non-null   object \n",
            " 24  24hr          1414 non-null   object \n",
            " 25  day.1         1414 non-null   object \n",
            " 26  month         1414 non-null   float64\n",
            " 27  year          1414 non-null   float64\n",
            "dtypes: float64(5), int64(3), object(20)\n",
            "memory usage: 320.4+ KB\n"
          ],
          "name": "stdout"
        }
      ]
    },
    {
      "cell_type": "code",
      "metadata": {
        "id": "jZwXutKBf4Nv",
        "colab_type": "code",
        "outputId": "95745a32-8754-40fd-a769-5b67721e7d07",
        "colab": {
          "base_uri": "https://localhost:8080/",
          "height": 241
        }
      },
      "source": [
        "# Converting the object columns to int columns\n",
        "#\n",
        "converted = {'food':{'yes':1,\"no\":0},'snack':{'yes':1,'no':0},'beverage':{'yes':1,'no':0},'consumables':{'yes':1,'no':0},'high_end':{'yes':1,'no':0},'asset':{'yes':1,'no':0},'fixed_asset':{'yes':1,'no':0}}\n",
        "supermarket_df.replace(converted, inplace=True)\n",
        "supermarket_df.head()"
      ],
      "execution_count": 0,
      "outputs": [
        {
          "output_type": "execute_result",
          "data": {
            "text/html": [
              "<div>\n",
              "<style scoped>\n",
              "    .dataframe tbody tr th:only-of-type {\n",
              "        vertical-align: middle;\n",
              "    }\n",
              "\n",
              "    .dataframe tbody tr th {\n",
              "        vertical-align: top;\n",
              "    }\n",
              "\n",
              "    .dataframe thead th {\n",
              "        text-align: right;\n",
              "    }\n",
              "</style>\n",
              "<table border=\"1\" class=\"dataframe\">\n",
              "  <thead>\n",
              "    <tr style=\"text-align: right;\">\n",
              "      <th></th>\n",
              "      <th>Unnamed: 0</th>\n",
              "      <th>no_of_items</th>\n",
              "      <th>variation</th>\n",
              "      <th>total</th>\n",
              "      <th>paid</th>\n",
              "      <th>change</th>\n",
              "      <th>supermarket</th>\n",
              "      <th>type</th>\n",
              "      <th>food</th>\n",
              "      <th>snack</th>\n",
              "      <th>beverage</th>\n",
              "      <th>consumables</th>\n",
              "      <th>high_end</th>\n",
              "      <th>asset</th>\n",
              "      <th>fixed_asset</th>\n",
              "      <th>date</th>\n",
              "      <th>mall</th>\n",
              "      <th>time</th>\n",
              "      <th>time_type</th>\n",
              "      <th>type_market</th>\n",
              "      <th>location</th>\n",
              "      <th>loc_category</th>\n",
              "      <th>day</th>\n",
              "      <th>day_type</th>\n",
              "      <th>24hr</th>\n",
              "      <th>day.1</th>\n",
              "      <th>month</th>\n",
              "      <th>year</th>\n",
              "    </tr>\n",
              "  </thead>\n",
              "  <tbody>\n",
              "    <tr>\n",
              "      <th>0</th>\n",
              "      <td>0</td>\n",
              "      <td>1</td>\n",
              "      <td>1</td>\n",
              "      <td>90.0</td>\n",
              "      <td>100.0</td>\n",
              "      <td>10.0</td>\n",
              "      <td>acacia</td>\n",
              "      <td>cash</td>\n",
              "      <td>1</td>\n",
              "      <td>0</td>\n",
              "      <td>0</td>\n",
              "      <td>0</td>\n",
              "      <td>0</td>\n",
              "      <td>0</td>\n",
              "      <td>0</td>\n",
              "      <td>20/05/2017</td>\n",
              "      <td>no</td>\n",
              "      <td>19:33:00</td>\n",
              "      <td>night</td>\n",
              "      <td>small</td>\n",
              "      <td>saika</td>\n",
              "      <td>mid</td>\n",
              "      <td>saturday</td>\n",
              "      <td>weekend</td>\n",
              "      <td>no</td>\n",
              "      <td>20</td>\n",
              "      <td>5.0</td>\n",
              "      <td>2017.0</td>\n",
              "    </tr>\n",
              "    <tr>\n",
              "      <th>1</th>\n",
              "      <td>1</td>\n",
              "      <td>1</td>\n",
              "      <td>1</td>\n",
              "      <td>90.0</td>\n",
              "      <td>500.0</td>\n",
              "      <td>410.0</td>\n",
              "      <td>acacia</td>\n",
              "      <td>cash</td>\n",
              "      <td>1</td>\n",
              "      <td>0</td>\n",
              "      <td>0</td>\n",
              "      <td>0</td>\n",
              "      <td>0</td>\n",
              "      <td>0</td>\n",
              "      <td>0</td>\n",
              "      <td>20/05/2017</td>\n",
              "      <td>no</td>\n",
              "      <td>19:12:00</td>\n",
              "      <td>night</td>\n",
              "      <td>small</td>\n",
              "      <td>saika</td>\n",
              "      <td>mid</td>\n",
              "      <td>saturday</td>\n",
              "      <td>weekend</td>\n",
              "      <td>no</td>\n",
              "      <td>20</td>\n",
              "      <td>5.0</td>\n",
              "      <td>2017.0</td>\n",
              "    </tr>\n",
              "    <tr>\n",
              "      <th>2</th>\n",
              "      <td>2</td>\n",
              "      <td>3</td>\n",
              "      <td>1</td>\n",
              "      <td>270.0</td>\n",
              "      <td>300.0</td>\n",
              "      <td>30.0</td>\n",
              "      <td>acacia</td>\n",
              "      <td>cash</td>\n",
              "      <td>1</td>\n",
              "      <td>0</td>\n",
              "      <td>0</td>\n",
              "      <td>0</td>\n",
              "      <td>0</td>\n",
              "      <td>0</td>\n",
              "      <td>0</td>\n",
              "      <td>20/05/2017</td>\n",
              "      <td>no</td>\n",
              "      <td>19:16:00</td>\n",
              "      <td>night</td>\n",
              "      <td>small</td>\n",
              "      <td>saika</td>\n",
              "      <td>mid</td>\n",
              "      <td>saturday</td>\n",
              "      <td>weekend</td>\n",
              "      <td>no</td>\n",
              "      <td>20</td>\n",
              "      <td>5.0</td>\n",
              "      <td>2017.0</td>\n",
              "    </tr>\n",
              "    <tr>\n",
              "      <th>3</th>\n",
              "      <td>3</td>\n",
              "      <td>3</td>\n",
              "      <td>1</td>\n",
              "      <td>137.0</td>\n",
              "      <td>200.0</td>\n",
              "      <td>63.0</td>\n",
              "      <td>acacia</td>\n",
              "      <td>cash</td>\n",
              "      <td>1</td>\n",
              "      <td>0</td>\n",
              "      <td>0</td>\n",
              "      <td>0</td>\n",
              "      <td>0</td>\n",
              "      <td>0</td>\n",
              "      <td>0</td>\n",
              "      <td>20/05/2017</td>\n",
              "      <td>no</td>\n",
              "      <td>19:12:00</td>\n",
              "      <td>night</td>\n",
              "      <td>small</td>\n",
              "      <td>saika</td>\n",
              "      <td>mid</td>\n",
              "      <td>saturday</td>\n",
              "      <td>weekend</td>\n",
              "      <td>no</td>\n",
              "      <td>20</td>\n",
              "      <td>5.0</td>\n",
              "      <td>2017.0</td>\n",
              "    </tr>\n",
              "    <tr>\n",
              "      <th>4</th>\n",
              "      <td>4</td>\n",
              "      <td>1</td>\n",
              "      <td>1</td>\n",
              "      <td>75.0</td>\n",
              "      <td>80.0</td>\n",
              "      <td>5.0</td>\n",
              "      <td>acacia</td>\n",
              "      <td>cash</td>\n",
              "      <td>1</td>\n",
              "      <td>0</td>\n",
              "      <td>0</td>\n",
              "      <td>0</td>\n",
              "      <td>0</td>\n",
              "      <td>0</td>\n",
              "      <td>0</td>\n",
              "      <td>20/05/2017</td>\n",
              "      <td>no</td>\n",
              "      <td>18:31:00</td>\n",
              "      <td>afternoon</td>\n",
              "      <td>small</td>\n",
              "      <td>saika</td>\n",
              "      <td>mid</td>\n",
              "      <td>saturday</td>\n",
              "      <td>weekend</td>\n",
              "      <td>no</td>\n",
              "      <td>20</td>\n",
              "      <td>5.0</td>\n",
              "      <td>2017.0</td>\n",
              "    </tr>\n",
              "  </tbody>\n",
              "</table>\n",
              "</div>"
            ],
            "text/plain": [
              "   Unnamed: 0  no_of_items  variation  total  ...  24hr  day.1 month    year\n",
              "0           0            1          1   90.0  ...    no     20   5.0  2017.0\n",
              "1           1            1          1   90.0  ...    no     20   5.0  2017.0\n",
              "2           2            3          1  270.0  ...    no     20   5.0  2017.0\n",
              "3           3            3          1  137.0  ...    no     20   5.0  2017.0\n",
              "4           4            1          1   75.0  ...    no     20   5.0  2017.0\n",
              "\n",
              "[5 rows x 28 columns]"
            ]
          },
          "metadata": {
            "tags": []
          },
          "execution_count": 175
        }
      ]
    },
    {
      "cell_type": "code",
      "metadata": {
        "id": "aKAdlGEBQH7J",
        "colab_type": "code",
        "outputId": "4ce7dd8f-927b-41f3-fa6f-e37eafe37d92",
        "colab": {
          "base_uri": "https://localhost:8080/",
          "height": 306
        }
      },
      "source": [
        "# Loading our dataset with the features and the label column\n",
        "#\n",
        "super_df = supermarket_df[['no_of_items',\t'variation',\t'total',\t'paid',\t'change',\t'food',\t'snack',\t'beverage',\t'consumables',\t'high_end',\t'asset',\t'fixed_asset']]\n",
        "\n",
        "super_df['day_type'] = supermarket_df['day_type']\n",
        "\n",
        "super_df.head()"
      ],
      "execution_count": 0,
      "outputs": [
        {
          "output_type": "stream",
          "text": [
            "/usr/local/lib/python3.6/dist-packages/ipykernel_launcher.py:5: SettingWithCopyWarning: \n",
            "A value is trying to be set on a copy of a slice from a DataFrame.\n",
            "Try using .loc[row_indexer,col_indexer] = value instead\n",
            "\n",
            "See the caveats in the documentation: https://pandas.pydata.org/pandas-docs/stable/user_guide/indexing.html#returning-a-view-versus-a-copy\n",
            "  \"\"\"\n"
          ],
          "name": "stderr"
        },
        {
          "output_type": "execute_result",
          "data": {
            "text/html": [
              "<div>\n",
              "<style scoped>\n",
              "    .dataframe tbody tr th:only-of-type {\n",
              "        vertical-align: middle;\n",
              "    }\n",
              "\n",
              "    .dataframe tbody tr th {\n",
              "        vertical-align: top;\n",
              "    }\n",
              "\n",
              "    .dataframe thead th {\n",
              "        text-align: right;\n",
              "    }\n",
              "</style>\n",
              "<table border=\"1\" class=\"dataframe\">\n",
              "  <thead>\n",
              "    <tr style=\"text-align: right;\">\n",
              "      <th></th>\n",
              "      <th>no_of_items</th>\n",
              "      <th>variation</th>\n",
              "      <th>total</th>\n",
              "      <th>paid</th>\n",
              "      <th>change</th>\n",
              "      <th>food</th>\n",
              "      <th>snack</th>\n",
              "      <th>beverage</th>\n",
              "      <th>consumables</th>\n",
              "      <th>high_end</th>\n",
              "      <th>asset</th>\n",
              "      <th>fixed_asset</th>\n",
              "      <th>day_type</th>\n",
              "    </tr>\n",
              "  </thead>\n",
              "  <tbody>\n",
              "    <tr>\n",
              "      <th>0</th>\n",
              "      <td>1</td>\n",
              "      <td>1</td>\n",
              "      <td>90.0</td>\n",
              "      <td>100.0</td>\n",
              "      <td>10.0</td>\n",
              "      <td>1</td>\n",
              "      <td>0</td>\n",
              "      <td>0</td>\n",
              "      <td>0</td>\n",
              "      <td>0</td>\n",
              "      <td>0</td>\n",
              "      <td>0</td>\n",
              "      <td>weekend</td>\n",
              "    </tr>\n",
              "    <tr>\n",
              "      <th>1</th>\n",
              "      <td>1</td>\n",
              "      <td>1</td>\n",
              "      <td>90.0</td>\n",
              "      <td>500.0</td>\n",
              "      <td>410.0</td>\n",
              "      <td>1</td>\n",
              "      <td>0</td>\n",
              "      <td>0</td>\n",
              "      <td>0</td>\n",
              "      <td>0</td>\n",
              "      <td>0</td>\n",
              "      <td>0</td>\n",
              "      <td>weekend</td>\n",
              "    </tr>\n",
              "    <tr>\n",
              "      <th>2</th>\n",
              "      <td>3</td>\n",
              "      <td>1</td>\n",
              "      <td>270.0</td>\n",
              "      <td>300.0</td>\n",
              "      <td>30.0</td>\n",
              "      <td>1</td>\n",
              "      <td>0</td>\n",
              "      <td>0</td>\n",
              "      <td>0</td>\n",
              "      <td>0</td>\n",
              "      <td>0</td>\n",
              "      <td>0</td>\n",
              "      <td>weekend</td>\n",
              "    </tr>\n",
              "    <tr>\n",
              "      <th>3</th>\n",
              "      <td>3</td>\n",
              "      <td>1</td>\n",
              "      <td>137.0</td>\n",
              "      <td>200.0</td>\n",
              "      <td>63.0</td>\n",
              "      <td>1</td>\n",
              "      <td>0</td>\n",
              "      <td>0</td>\n",
              "      <td>0</td>\n",
              "      <td>0</td>\n",
              "      <td>0</td>\n",
              "      <td>0</td>\n",
              "      <td>weekend</td>\n",
              "    </tr>\n",
              "    <tr>\n",
              "      <th>4</th>\n",
              "      <td>1</td>\n",
              "      <td>1</td>\n",
              "      <td>75.0</td>\n",
              "      <td>80.0</td>\n",
              "      <td>5.0</td>\n",
              "      <td>1</td>\n",
              "      <td>0</td>\n",
              "      <td>0</td>\n",
              "      <td>0</td>\n",
              "      <td>0</td>\n",
              "      <td>0</td>\n",
              "      <td>0</td>\n",
              "      <td>weekend</td>\n",
              "    </tr>\n",
              "  </tbody>\n",
              "</table>\n",
              "</div>"
            ],
            "text/plain": [
              "   no_of_items  variation  total   paid  ...  high_end  asset  fixed_asset  day_type\n",
              "0            1          1   90.0  100.0  ...         0      0            0   weekend\n",
              "1            1          1   90.0  500.0  ...         0      0            0   weekend\n",
              "2            3          1  270.0  300.0  ...         0      0            0   weekend\n",
              "3            3          1  137.0  200.0  ...         0      0            0   weekend\n",
              "4            1          1   75.0   80.0  ...         0      0            0   weekend\n",
              "\n",
              "[5 rows x 13 columns]"
            ]
          },
          "metadata": {
            "tags": []
          },
          "execution_count": 176
        }
      ]
    },
    {
      "cell_type": "code",
      "metadata": {
        "id": "TWEdmcPgaYj0",
        "colab_type": "code",
        "outputId": "e58b90e0-5365-43e6-9922-a45490d815ab",
        "colab": {
          "base_uri": "https://localhost:8080/",
          "height": 102
        }
      },
      "source": [
        "super_df.dropna(inplace=True)"
      ],
      "execution_count": 0,
      "outputs": [
        {
          "output_type": "stream",
          "text": [
            "/usr/local/lib/python3.6/dist-packages/ipykernel_launcher.py:1: SettingWithCopyWarning: \n",
            "A value is trying to be set on a copy of a slice from a DataFrame\n",
            "\n",
            "See the caveats in the documentation: https://pandas.pydata.org/pandas-docs/stable/user_guide/indexing.html#returning-a-view-versus-a-copy\n",
            "  \"\"\"Entry point for launching an IPython kernel.\n"
          ],
          "name": "stderr"
        }
      ]
    },
    {
      "cell_type": "code",
      "metadata": {
        "id": "VwTWJ-4BZgf1",
        "colab_type": "code",
        "colab": {}
      },
      "source": [
        "# The following code divides data into labels and feature set. \n",
        "#\n",
        "\n",
        "X = super_df.iloc[:, 0:12].values\n",
        "y = super_df.iloc[:, 12].values"
      ],
      "execution_count": 0,
      "outputs": []
    },
    {
      "cell_type": "code",
      "metadata": {
        "id": "Udy2infVaIuM",
        "colab_type": "code",
        "colab": {}
      },
      "source": [
        "# The following code divides data into training and test sets\n",
        "#\n",
        "from sklearn.model_selection import train_test_split\n",
        "X_train, X_test, y_train, y_test = train_test_split(X, y, test_size=0.2, random_state=0)"
      ],
      "execution_count": 0,
      "outputs": []
    },
    {
      "cell_type": "code",
      "metadata": {
        "id": "kjovCIVWZtzS",
        "colab_type": "code",
        "colab": {}
      },
      "source": [
        "# Feature scaling\n",
        "# We now need to perform feature scaling. We execute the following code to do so:\n",
        "# \n",
        "from sklearn.preprocessing import StandardScaler\n",
        "sc = StandardScaler()\n",
        "X_train = sc.fit_transform(X_train)\n",
        "X_test = sc.transform(X_test)"
      ],
      "execution_count": 0,
      "outputs": []
    },
    {
      "cell_type": "code",
      "metadata": {
        "id": "vdxXZwepaMic",
        "colab_type": "code",
        "colab": {}
      },
      "source": [
        "# Peforming LDA\n",
        "# -----\n",
        "#\n",
        "from sklearn.discriminant_analysis import LinearDiscriminantAnalysis as LDA\n",
        "lda = LDA(n_components=1)\n",
        "X_train = lda.fit_transform(X_train, y_train)\n",
        "X_test = lda.transform(X_test)"
      ],
      "execution_count": 0,
      "outputs": []
    },
    {
      "cell_type": "code",
      "metadata": {
        "id": "SmIbIAw3aVcH",
        "colab_type": "code",
        "outputId": "64c0ed77-77d1-4dce-8616-1df49e457782",
        "colab": {
          "base_uri": "https://localhost:8080/",
          "height": 714
        }
      },
      "source": [
        "# Training and Making Predictions\n",
        "# We will use the random forest classifier to evaluate the performance of a PCA-reduced algorithms as shown\n",
        "# \n",
        "\n",
        "from sklearn.ensemble import RandomForestClassifier\n",
        "\n",
        "classifier = RandomForestClassifier(max_depth=2, random_state=0)\n",
        "classifier.fit(X_train, y_train)\n",
        "y_pred = classifier.predict(X_test)\n",
        "print(f\"Predicted values are: {y_pred}\")"
      ],
      "execution_count": 0,
      "outputs": [
        {
          "output_type": "stream",
          "text": [
            "Predicted values are: ['weekday' 'weekday' 'weekday' 'weekday' 'weekday' 'weekday' 'weekday'\n",
            " 'weekday' 'weekday' 'weekday' 'weekday' 'weekday' 'weekday' 'weekday'\n",
            " 'weekday' 'weekday' 'weekday' 'weekday' 'weekday' 'weekday' 'weekday'\n",
            " 'weekday' 'weekday' 'weekday' 'weekday' 'weekday' 'weekday' 'weekday'\n",
            " 'weekday' 'weekday' 'weekday' 'weekday' 'weekday' 'weekday' 'weekday'\n",
            " 'weekday' 'weekday' 'weekday' 'weekday' 'weekday' 'weekday' 'weekday'\n",
            " 'weekday' 'weekday' 'weekday' 'weekday' 'weekday' 'weekday' 'weekday'\n",
            " 'weekday' 'weekday' 'weekday' 'weekday' 'weekday' 'weekday' 'weekday'\n",
            " 'weekday' 'weekday' 'weekday' 'weekday' 'weekday' 'weekday' 'weekday'\n",
            " 'weekday' 'weekday' 'weekday' 'weekday' 'weekday' 'weekday' 'weekday'\n",
            " 'weekday' 'weekday' 'weekday' 'weekday' 'weekday' 'weekday' 'weekday'\n",
            " 'weekday' 'weekday' 'weekday' 'weekday' 'weekday' 'weekday' 'weekday'\n",
            " 'weekday' 'weekday' 'weekday' 'weekday' 'weekday' 'weekday' 'weekday'\n",
            " 'weekday' 'weekday' 'weekday' 'weekday' 'weekday' 'weekday' 'weekday'\n",
            " 'weekday' 'weekday' 'weekday' 'weekday' 'weekday' 'weekday' 'weekday'\n",
            " 'weekday' 'weekday' 'weekday' 'weekday' 'weekday' 'weekday' 'weekday'\n",
            " 'weekday' 'weekday' 'weekday' 'weekday' 'weekday' 'weekday' 'weekday'\n",
            " 'weekday' 'weekday' 'weekday' 'weekday' 'weekday' 'weekday' 'weekday'\n",
            " 'weekday' 'weekday' 'weekday' 'weekday' 'weekday' 'weekday' 'weekday'\n",
            " 'weekday' 'weekday' 'weekday' 'weekday' 'weekday' 'weekday' 'weekday'\n",
            " 'weekday' 'weekday' 'weekday' 'weekday' 'weekday' 'weekday' 'weekday'\n",
            " 'weekday' 'weekday' 'weekday' 'weekday' 'weekday' 'weekday' 'weekday'\n",
            " 'weekday' 'weekday' 'weekday' 'weekday' 'weekday' 'weekday' 'weekday'\n",
            " 'weekday' 'weekday' 'weekday' 'weekday' 'weekday' 'weekday' 'weekday'\n",
            " 'weekday' 'weekday' 'weekday' 'weekday' 'weekday' 'weekday' 'weekday'\n",
            " 'weekday' 'weekday' 'weekday' 'weekday' 'weekday' 'weekday' 'weekday'\n",
            " 'weekday' 'weekday' 'weekday' 'weekday' 'weekday' 'weekday' 'weekday'\n",
            " 'weekday' 'weekday' 'weekday' 'weekday' 'weekday' 'weekday' 'weekday'\n",
            " 'weekday' 'weekday' 'weekday' 'weekday' 'weekday' 'weekday' 'weekday'\n",
            " 'weekday' 'weekday' 'weekday' 'weekday' 'weekday' 'weekday' 'weekday'\n",
            " 'weekday' 'weekday' 'weekday' 'weekday' 'weekday' 'weekday' 'weekday'\n",
            " 'weekday' 'weekday' 'weekday' 'weekday' 'weekday' 'weekday' 'weekday'\n",
            " 'weekday' 'weekday' 'weekday' 'weekday' 'weekday' 'weekday' 'weekday'\n",
            " 'weekday' 'weekday' 'weekday' 'weekday' 'weekday' 'weekday' 'weekday'\n",
            " 'weekday' 'weekday' 'weekday' 'weekday' 'weekday' 'weekday' 'weekday'\n",
            " 'weekday' 'weekday' 'weekday' 'weekday' 'weekday' 'weekday' 'weekday'\n",
            " 'weekday' 'weekday' 'weekday' 'weekday' 'weekday' 'weekday' 'weekday'\n",
            " 'weekday' 'weekday' 'weekday' 'weekday' 'weekday' 'weekday' 'weekday'\n",
            " 'weekday' 'weekday' 'weekday' 'weekday' 'weekday' 'weekday' 'weekday'\n",
            " 'weekday' 'weekday' 'weekday' 'weekday' 'weekday' 'weekday' 'weekday'\n",
            " 'weekday' 'weekday' 'weekday']\n"
          ],
          "name": "stdout"
        }
      ]
    },
    {
      "cell_type": "code",
      "metadata": {
        "id": "WkHDcOmNapmx",
        "colab_type": "code",
        "outputId": "a1ee01f6-96f3-4ecb-c729-bd9f81331b1d",
        "colab": {
          "base_uri": "https://localhost:8080/",
          "height": 85
        }
      },
      "source": [
        "# Evaluating the Performance\n",
        "# As always, the last step is to evaluate performance of the algorithm \n",
        "# with the help of a confusion matrix and find the accuracy of the prediction.\n",
        "# \n",
        "\n",
        "from sklearn.metrics import confusion_matrix\n",
        "from sklearn.metrics import accuracy_score\n",
        "\n",
        "cm = confusion_matrix(y_test, y_pred)\n",
        "print(f\"Confusion matrix is \\n {cm}\")\n",
        "print('Accuracy score is: ' + str(accuracy_score(y_test, y_pred)))"
      ],
      "execution_count": 0,
      "outputs": [
        {
          "output_type": "stream",
          "text": [
            "Confusion matrix is \n",
            " [[221   0]\n",
            " [ 62   0]]\n",
            "Accuracy score is: 0.7809187279151943\n"
          ],
          "name": "stdout"
        }
      ]
    },
    {
      "cell_type": "markdown",
      "metadata": {
        "id": "pR4SOjfwbPqZ",
        "colab_type": "text"
      },
      "source": [
        "# 5). Hypothesis Testing"
      ]
    },
    {
      "cell_type": "markdown",
      "metadata": {
        "id": "P5JxE-27TxP2",
        "colab_type": "text"
      },
      "source": [
        ">> ### Define our Hypothesis\n",
        "> * Ho : Total mean on Weekdays > Total mean on Weekends\n",
        "> * Ha : Total mean on weekdays <= Total mean on Weekends\n",
        "> * Level of Significance = 0.05\n"
      ]
    },
    {
      "cell_type": "code",
      "metadata": {
        "id": "tGL9sGPnKA5J",
        "colab_type": "code",
        "outputId": "6ec3497c-7f00-4960-fa15-4f9067391c92",
        "colab": {
          "base_uri": "https://localhost:8080/",
          "height": 170
        }
      },
      "source": [
        "pip install researchpy"
      ],
      "execution_count": 0,
      "outputs": [
        {
          "output_type": "stream",
          "text": [
            "Requirement already satisfied: researchpy in /usr/local/lib/python3.6/dist-packages (0.1.9)\n",
            "Requirement already satisfied: pandas in /usr/local/lib/python3.6/dist-packages (from researchpy) (1.0.3)\n",
            "Requirement already satisfied: statsmodels in /usr/local/lib/python3.6/dist-packages (from researchpy) (0.10.2)\n",
            "Requirement already satisfied: numpy in /usr/local/lib/python3.6/dist-packages (from researchpy) (1.18.4)\n",
            "Requirement already satisfied: scipy in /usr/local/lib/python3.6/dist-packages (from researchpy) (1.4.1)\n",
            "Requirement already satisfied: pytz>=2017.2 in /usr/local/lib/python3.6/dist-packages (from pandas->researchpy) (2018.9)\n",
            "Requirement already satisfied: python-dateutil>=2.6.1 in /usr/local/lib/python3.6/dist-packages (from pandas->researchpy) (2.8.1)\n",
            "Requirement already satisfied: patsy>=0.4.0 in /usr/local/lib/python3.6/dist-packages (from statsmodels->researchpy) (0.5.1)\n",
            "Requirement already satisfied: six>=1.5 in /usr/local/lib/python3.6/dist-packages (from python-dateutil>=2.6.1->pandas->researchpy) (1.12.0)\n"
          ],
          "name": "stdout"
        }
      ]
    },
    {
      "cell_type": "code",
      "metadata": {
        "id": "ltVVX3tTKI2a",
        "colab_type": "code",
        "colab": {}
      },
      "source": [
        "import statsmodels.api as sm\n",
        "from sklearn.preprocessing import scale\n",
        "from scipy import stats"
      ],
      "execution_count": 0,
      "outputs": []
    },
    {
      "cell_type": "code",
      "metadata": {
        "id": "CaGRJvWmDUcp",
        "colab_type": "code",
        "outputId": "7f18f492-498f-499c-ae8e-ae948ae2de4a",
        "colab": {
          "base_uri": "https://localhost:8080/",
          "height": 204
        }
      },
      "source": [
        "\n",
        "# Viewing the first five rows of our dataframe.\n",
        "#\n",
        "super_df.head()"
      ],
      "execution_count": 0,
      "outputs": [
        {
          "output_type": "execute_result",
          "data": {
            "text/html": [
              "<div>\n",
              "<style scoped>\n",
              "    .dataframe tbody tr th:only-of-type {\n",
              "        vertical-align: middle;\n",
              "    }\n",
              "\n",
              "    .dataframe tbody tr th {\n",
              "        vertical-align: top;\n",
              "    }\n",
              "\n",
              "    .dataframe thead th {\n",
              "        text-align: right;\n",
              "    }\n",
              "</style>\n",
              "<table border=\"1\" class=\"dataframe\">\n",
              "  <thead>\n",
              "    <tr style=\"text-align: right;\">\n",
              "      <th></th>\n",
              "      <th>no_of_items</th>\n",
              "      <th>variation</th>\n",
              "      <th>total</th>\n",
              "      <th>paid</th>\n",
              "      <th>change</th>\n",
              "      <th>food</th>\n",
              "      <th>snack</th>\n",
              "      <th>beverage</th>\n",
              "      <th>consumables</th>\n",
              "      <th>high_end</th>\n",
              "      <th>asset</th>\n",
              "      <th>fixed_asset</th>\n",
              "      <th>day_type</th>\n",
              "    </tr>\n",
              "  </thead>\n",
              "  <tbody>\n",
              "    <tr>\n",
              "      <th>0</th>\n",
              "      <td>1</td>\n",
              "      <td>1</td>\n",
              "      <td>90.0</td>\n",
              "      <td>100.0</td>\n",
              "      <td>10.0</td>\n",
              "      <td>1</td>\n",
              "      <td>0</td>\n",
              "      <td>0</td>\n",
              "      <td>0</td>\n",
              "      <td>0</td>\n",
              "      <td>0</td>\n",
              "      <td>0</td>\n",
              "      <td>weekend</td>\n",
              "    </tr>\n",
              "    <tr>\n",
              "      <th>1</th>\n",
              "      <td>1</td>\n",
              "      <td>1</td>\n",
              "      <td>90.0</td>\n",
              "      <td>500.0</td>\n",
              "      <td>410.0</td>\n",
              "      <td>1</td>\n",
              "      <td>0</td>\n",
              "      <td>0</td>\n",
              "      <td>0</td>\n",
              "      <td>0</td>\n",
              "      <td>0</td>\n",
              "      <td>0</td>\n",
              "      <td>weekend</td>\n",
              "    </tr>\n",
              "    <tr>\n",
              "      <th>2</th>\n",
              "      <td>3</td>\n",
              "      <td>1</td>\n",
              "      <td>270.0</td>\n",
              "      <td>300.0</td>\n",
              "      <td>30.0</td>\n",
              "      <td>1</td>\n",
              "      <td>0</td>\n",
              "      <td>0</td>\n",
              "      <td>0</td>\n",
              "      <td>0</td>\n",
              "      <td>0</td>\n",
              "      <td>0</td>\n",
              "      <td>weekend</td>\n",
              "    </tr>\n",
              "    <tr>\n",
              "      <th>3</th>\n",
              "      <td>3</td>\n",
              "      <td>1</td>\n",
              "      <td>137.0</td>\n",
              "      <td>200.0</td>\n",
              "      <td>63.0</td>\n",
              "      <td>1</td>\n",
              "      <td>0</td>\n",
              "      <td>0</td>\n",
              "      <td>0</td>\n",
              "      <td>0</td>\n",
              "      <td>0</td>\n",
              "      <td>0</td>\n",
              "      <td>weekend</td>\n",
              "    </tr>\n",
              "    <tr>\n",
              "      <th>4</th>\n",
              "      <td>1</td>\n",
              "      <td>1</td>\n",
              "      <td>75.0</td>\n",
              "      <td>80.0</td>\n",
              "      <td>5.0</td>\n",
              "      <td>1</td>\n",
              "      <td>0</td>\n",
              "      <td>0</td>\n",
              "      <td>0</td>\n",
              "      <td>0</td>\n",
              "      <td>0</td>\n",
              "      <td>0</td>\n",
              "      <td>weekend</td>\n",
              "    </tr>\n",
              "  </tbody>\n",
              "</table>\n",
              "</div>"
            ],
            "text/plain": [
              "   no_of_items  variation  total   paid  ...  high_end  asset  fixed_asset  day_type\n",
              "0            1          1   90.0  100.0  ...         0      0            0   weekend\n",
              "1            1          1   90.0  500.0  ...         0      0            0   weekend\n",
              "2            3          1  270.0  300.0  ...         0      0            0   weekend\n",
              "3            3          1  137.0  200.0  ...         0      0            0   weekend\n",
              "4            1          1   75.0   80.0  ...         0      0            0   weekend\n",
              "\n",
              "[5 rows x 13 columns]"
            ]
          },
          "metadata": {
            "tags": []
          },
          "execution_count": 186
        }
      ]
    },
    {
      "cell_type": "code",
      "metadata": {
        "id": "ju9aAnoblvrn",
        "colab_type": "code",
        "outputId": "6ea60d0b-f552-47cd-d444-e46a97464f42",
        "colab": {
          "base_uri": "https://localhost:8080/",
          "height": 85
        }
      },
      "source": [
        "# Calculate the sum of the weekday total and weekend total\n",
        "#\n",
        "super_df.groupby(['day_type'])['total'].sum().sort_values(ascending=False)\n"
      ],
      "execution_count": 0,
      "outputs": [
        {
          "output_type": "execute_result",
          "data": {
            "text/plain": [
              "day_type\n",
              "weekday    360771.11\n",
              "weekend     82204.05\n",
              "Name: total, dtype: float64"
            ]
          },
          "metadata": {
            "tags": []
          },
          "execution_count": 187
        }
      ]
    },
    {
      "cell_type": "code",
      "metadata": {
        "id": "3PPL7e7L548n",
        "colab_type": "code",
        "outputId": "869503c7-4543-4f32-c07a-59252d41523a",
        "colab": {
          "base_uri": "https://localhost:8080/",
          "height": 51
        }
      },
      "source": [
        "# Creating two dataframes one for Weekdays and the other for Weekends\n",
        "#\n",
        "weekdays = super_df[super_df['day_type'] == 'weekday']\n",
        "weekends = super_df[super_df['day_type'] == 'weekend']\n",
        "\n",
        "# Getting the total for both the weekend and weekdays day types\n",
        "total_weekdays = weekdays['total']\n",
        "total_weekends = weekends['total']\n",
        "\n",
        "# Getting the length of our two day types\n",
        "print(f\"total_weekdays: {len(total_weekdays)}\")\n",
        "print(f\"total_weekends: {len(total_weekends)}\")"
      ],
      "execution_count": 0,
      "outputs": [
        {
          "output_type": "stream",
          "text": [
            "total_weekdays: 1149\n",
            "total_weekends: 265\n"
          ],
          "name": "stdout"
        }
      ]
    },
    {
      "cell_type": "code",
      "metadata": {
        "id": "ZOnWPN4SKePy",
        "colab_type": "code",
        "outputId": "3fc161be-463e-4a1d-b8b8-4f9010c45c03",
        "colab": {
          "base_uri": "https://localhost:8080/",
          "height": 255
        }
      },
      "source": [
        "# check for null values\n",
        "#\n",
        "super_df.isnull().sum()"
      ],
      "execution_count": 0,
      "outputs": [
        {
          "output_type": "execute_result",
          "data": {
            "text/plain": [
              "no_of_items    0\n",
              "variation      0\n",
              "total          0\n",
              "paid           0\n",
              "change         0\n",
              "food           0\n",
              "snack          0\n",
              "beverage       0\n",
              "consumables    0\n",
              "high_end       0\n",
              "asset          0\n",
              "fixed_asset    0\n",
              "day_type       0\n",
              "dtype: int64"
            ]
          },
          "metadata": {
            "tags": []
          },
          "execution_count": 189
        }
      ]
    },
    {
      "cell_type": "code",
      "metadata": {
        "id": "lusfB4hsKmpU",
        "colab_type": "code",
        "outputId": "b76591ad-ae8c-49d1-9f46-eba8479f4f24",
        "colab": {
          "base_uri": "https://localhost:8080/",
          "height": 142
        }
      },
      "source": [
        "# Grouping by day type then getting the description of the data\n",
        "#\n",
        "super_df.groupby(['day_type'])['total'].describe()"
      ],
      "execution_count": 0,
      "outputs": [
        {
          "output_type": "execute_result",
          "data": {
            "text/html": [
              "<div>\n",
              "<style scoped>\n",
              "    .dataframe tbody tr th:only-of-type {\n",
              "        vertical-align: middle;\n",
              "    }\n",
              "\n",
              "    .dataframe tbody tr th {\n",
              "        vertical-align: top;\n",
              "    }\n",
              "\n",
              "    .dataframe thead th {\n",
              "        text-align: right;\n",
              "    }\n",
              "</style>\n",
              "<table border=\"1\" class=\"dataframe\">\n",
              "  <thead>\n",
              "    <tr style=\"text-align: right;\">\n",
              "      <th></th>\n",
              "      <th>count</th>\n",
              "      <th>mean</th>\n",
              "      <th>std</th>\n",
              "      <th>min</th>\n",
              "      <th>25%</th>\n",
              "      <th>50%</th>\n",
              "      <th>75%</th>\n",
              "      <th>max</th>\n",
              "    </tr>\n",
              "    <tr>\n",
              "      <th>day_type</th>\n",
              "      <th></th>\n",
              "      <th></th>\n",
              "      <th></th>\n",
              "      <th></th>\n",
              "      <th></th>\n",
              "      <th></th>\n",
              "      <th></th>\n",
              "      <th></th>\n",
              "    </tr>\n",
              "  </thead>\n",
              "  <tbody>\n",
              "    <tr>\n",
              "      <th>weekday</th>\n",
              "      <td>1149.0</td>\n",
              "      <td>313.987041</td>\n",
              "      <td>1016.788604</td>\n",
              "      <td>1.0</td>\n",
              "      <td>60.0</td>\n",
              "      <td>100.0</td>\n",
              "      <td>220.0</td>\n",
              "      <td>17350.0</td>\n",
              "    </tr>\n",
              "    <tr>\n",
              "      <th>weekend</th>\n",
              "      <td>265.0</td>\n",
              "      <td>310.203962</td>\n",
              "      <td>417.573077</td>\n",
              "      <td>5.0</td>\n",
              "      <td>90.0</td>\n",
              "      <td>170.0</td>\n",
              "      <td>347.0</td>\n",
              "      <td>2903.0</td>\n",
              "    </tr>\n",
              "  </tbody>\n",
              "</table>\n",
              "</div>"
            ],
            "text/plain": [
              "           count        mean          std  min   25%    50%    75%      max\n",
              "day_type                                                                   \n",
              "weekday   1149.0  313.987041  1016.788604  1.0  60.0  100.0  220.0  17350.0\n",
              "weekend    265.0  310.203962   417.573077  5.0  90.0  170.0  347.0   2903.0"
            ]
          },
          "metadata": {
            "tags": []
          },
          "execution_count": 190
        }
      ]
    },
    {
      "cell_type": "markdown",
      "metadata": {
        "id": "BddzhgwuoDnH",
        "colab_type": "text"
      },
      "source": [
        "> * The null hypothesis is: H0: μ 1 = μ 2\n",
        "> * The alternative Hypothesis is: Ha: μ 1 ≠ μ 2\n"
      ]
    },
    {
      "cell_type": "code",
      "metadata": {
        "id": "Xkf2lQcYUl19",
        "colab_type": "code",
        "outputId": "151b5ab3-b723-4952-ef3c-8c769f9f16c0",
        "colab": {
          "base_uri": "https://localhost:8080/",
          "height": 34
        }
      },
      "source": [
        "# Cretating 2 samples one for Weekdays and the other for weekends.\n",
        "#\n",
        "sample_1 = super_df[super_df['day_type'] == 'weekday']\n",
        "sample_2 = super_df[super_df['day_type'] == 'weekend']\n",
        "\n",
        "# Checking for the shape of the files \n",
        "#\n",
        "print(sample_1.shape, sample_2.shape)"
      ],
      "execution_count": 0,
      "outputs": [
        {
          "output_type": "stream",
          "text": [
            "(1149, 13) (265, 13)\n"
          ],
          "name": "stdout"
        }
      ]
    },
    {
      "cell_type": "code",
      "metadata": {
        "id": "EY2v-TPrVp51",
        "colab_type": "code",
        "outputId": "e332779e-7ed1-4e42-8abb-1778cce9ab5d",
        "colab": {
          "base_uri": "https://localhost:8080/",
          "height": 34
        }
      },
      "source": [
        "# Make equal number of records in each sample\n",
        "#\n",
        "s1 = int(265*0.1)\n",
        "\n",
        "sample_1 = sample_1.sample(s1, replace=True)\n",
        "sample_2 = sample_2.sample(s1, replace=True)\n",
        "\n",
        "print(sample_1.shape, sample_2.shape)"
      ],
      "execution_count": 0,
      "outputs": [
        {
          "output_type": "stream",
          "text": [
            "(26, 13) (26, 13)\n"
          ],
          "name": "stdout"
        }
      ]
    },
    {
      "cell_type": "code",
      "metadata": {
        "id": "X-NLAF64WGYU",
        "colab_type": "code",
        "outputId": "fb33bda5-7cc6-4283-9ae9-ac61be1da2a6",
        "colab": {
          "base_uri": "https://localhost:8080/",
          "height": 170
        }
      },
      "source": [
        "#Levene's test to check whether the variances of the two group are same. \n",
        "#H0 : Variances are same. \n",
        "#H1 : Variances are not same. \n",
        "#Alpha = 0.05% \n",
        "#if p-value > alpha (Cannot reject H0) \n",
        "#if p-value < alpha (Accept null hypothesis)\n",
        "#\n",
        "\n",
        "alpha = 0.05\n",
        "\n",
        "stats, p_value = stats.levene(sample_1['total'], sample_2['total'])\n",
        "print(f\" Test statistics: {stats}\\n Alpha: {alpha}\\n P-value: {p_value}\\n ---- ----\")\n",
        "print(\"\\n -------------------------------------\\n\")\n",
        "if p_value > alpha:\n",
        "  print(\" Variances are the same.\\n We accept Null Hypothesis.\")\n",
        "else: \n",
        "  print(\" Variances are not the same.\\n We reject the Null Hypothesis\")"
      ],
      "execution_count": 0,
      "outputs": [
        {
          "output_type": "stream",
          "text": [
            " Test statistics: 2.1434767623116846\n",
            " Alpha: 0.05\n",
            " P-value: 0.14943631057545964\n",
            " ---- ----\n",
            "\n",
            " -------------------------------------\n",
            "\n",
            " Variances are the same.\n",
            " We accept Null Hypothesis.\n"
          ],
          "name": "stdout"
        }
      ]
    },
    {
      "cell_type": "code",
      "metadata": {
        "id": "U_Wp_pmhz7Dy",
        "colab_type": "code",
        "colab": {}
      },
      "source": [
        "from scipy.stats import norm"
      ],
      "execution_count": 0,
      "outputs": []
    },
    {
      "cell_type": "code",
      "metadata": {
        "id": "8NEdwVhAaLeO",
        "colab_type": "code",
        "outputId": "f58fdae8-b9c9-4453-a0b3-b4cd6a1a0e59",
        "colab": {
          "base_uri": "https://localhost:8080/",
          "height": 51
        }
      },
      "source": [
        "# Confidence level for Weekdays\n",
        "\n",
        "#standard error\n",
        "std_error = sample_1['total'].std()/np.sqrt(265)\n",
        "print(f\"the std_error is: {std_error}\")\n",
        "\n",
        "# Calculating the confidence interval\n",
        "#\n",
        "norm.interval(0.95, loc=sample_1['total'].mean(), scale=std_error)\n",
        "\n",
        "# We can be cetain that the population mean data is between 250.597 and 445.18"
      ],
      "execution_count": 0,
      "outputs": [
        {
          "output_type": "stream",
          "text": [
            "the std_error is: 16.004917241495242\n"
          ],
          "name": "stdout"
        },
        {
          "output_type": "execute_result",
          "data": {
            "text/plain": [
              "(181.8617078618944, 244.59983059964406)"
            ]
          },
          "metadata": {
            "tags": []
          },
          "execution_count": 196
        }
      ]
    },
    {
      "cell_type": "code",
      "metadata": {
        "id": "BgfTlZDr2SUM",
        "colab_type": "code",
        "outputId": "40efbf2e-08c3-428a-ac13-a654346e593e",
        "colab": {
          "base_uri": "https://localhost:8080/",
          "height": 371
        }
      },
      "source": [
        "#we will take the difference b/w sample_01 and sample_02 and plot a histogram to check for normality \n",
        "#we will scale the difference \n",
        "diff = scale((np.array(sample_1['total']) - np.array(sample_2['total']))) \n",
        "plt.figure(figsize=(12,6)) \n",
        "plt.hist(diff) \n",
        "plt.show()"
      ],
      "execution_count": 0,
      "outputs": [
        {
          "output_type": "display_data",
          "data": {
            "image/png": "[encoded data removed]",
            "text/plain": [
              "<Figure size 864x432 with 1 Axes>"
            ]
          },
          "metadata": {
            "tags": []
          }
        }
      ]
    },
    {
      "cell_type": "code",
      "metadata": {
        "id": "uqGJhgqXY-3p",
        "colab_type": "code",
        "outputId": "249fd175-142c-4e69-d0fb-c9eb9fc89c8a",
        "colab": {
          "base_uri": "https://localhost:8080/",
          "height": 405
        }
      },
      "source": [
        "# Plotting a q-q plot to check the normality of our data.\n",
        "#\n",
        "import numpy as np \n",
        "import pylab \n",
        "import scipy.stats as stats\n",
        "\n",
        "plt.figure(figsize=(12,6))\n",
        "stats.probplot(diff, dist=\"norm\", plot=pylab)\n",
        "plt.show()"
      ],
      "execution_count": 0,
      "outputs": [
        {
          "output_type": "display_data",
          "data": {
            "image/png": "[encoded data removed]",
            "text/plain": [
              "<Figure size 864x432 with 1 Axes>"
            ]
          },
          "metadata": {
            "tags": []
          }
        }
      ]
    },
    {
      "cell_type": "markdown",
      "metadata": {
        "id": "2Rhz9ZJwZZVv",
        "colab_type": "text"
      },
      "source": [
        "> * We can see that our data is normally distributed."
      ]
    },
    {
      "cell_type": "markdown",
      "metadata": {
        "id": "M88cOqygcP6x",
        "colab_type": "text"
      },
      "source": [
        "# 6). Bayes theorem"
      ]
    },
    {
      "cell_type": "code",
      "metadata": {
        "id": "YFWoBZcbc-ce",
        "colab_type": "code",
        "outputId": "7d01a90d-3b14-490b-d397-8f2171dcd045",
        "colab": {
          "base_uri": "https://localhost:8080/",
          "height": 204
        }
      },
      "source": [
        "# Viewing our dataset.\n",
        "#\n",
        "super_df.head()"
      ],
      "execution_count": 0,
      "outputs": [
        {
          "output_type": "execute_result",
          "data": {
            "text/html": [
              "<div>\n",
              "<style scoped>\n",
              "    .dataframe tbody tr th:only-of-type {\n",
              "        vertical-align: middle;\n",
              "    }\n",
              "\n",
              "    .dataframe tbody tr th {\n",
              "        vertical-align: top;\n",
              "    }\n",
              "\n",
              "    .dataframe thead th {\n",
              "        text-align: right;\n",
              "    }\n",
              "</style>\n",
              "<table border=\"1\" class=\"dataframe\">\n",
              "  <thead>\n",
              "    <tr style=\"text-align: right;\">\n",
              "      <th></th>\n",
              "      <th>no_of_items</th>\n",
              "      <th>variation</th>\n",
              "      <th>total</th>\n",
              "      <th>paid</th>\n",
              "      <th>change</th>\n",
              "      <th>food</th>\n",
              "      <th>snack</th>\n",
              "      <th>beverage</th>\n",
              "      <th>consumables</th>\n",
              "      <th>high_end</th>\n",
              "      <th>asset</th>\n",
              "      <th>fixed_asset</th>\n",
              "      <th>day_type</th>\n",
              "    </tr>\n",
              "  </thead>\n",
              "  <tbody>\n",
              "    <tr>\n",
              "      <th>0</th>\n",
              "      <td>1</td>\n",
              "      <td>1</td>\n",
              "      <td>90.0</td>\n",
              "      <td>100.0</td>\n",
              "      <td>10.0</td>\n",
              "      <td>1</td>\n",
              "      <td>0</td>\n",
              "      <td>0</td>\n",
              "      <td>0</td>\n",
              "      <td>0</td>\n",
              "      <td>0</td>\n",
              "      <td>0</td>\n",
              "      <td>weekend</td>\n",
              "    </tr>\n",
              "    <tr>\n",
              "      <th>1</th>\n",
              "      <td>1</td>\n",
              "      <td>1</td>\n",
              "      <td>90.0</td>\n",
              "      <td>500.0</td>\n",
              "      <td>410.0</td>\n",
              "      <td>1</td>\n",
              "      <td>0</td>\n",
              "      <td>0</td>\n",
              "      <td>0</td>\n",
              "      <td>0</td>\n",
              "      <td>0</td>\n",
              "      <td>0</td>\n",
              "      <td>weekend</td>\n",
              "    </tr>\n",
              "    <tr>\n",
              "      <th>2</th>\n",
              "      <td>3</td>\n",
              "      <td>1</td>\n",
              "      <td>270.0</td>\n",
              "      <td>300.0</td>\n",
              "      <td>30.0</td>\n",
              "      <td>1</td>\n",
              "      <td>0</td>\n",
              "      <td>0</td>\n",
              "      <td>0</td>\n",
              "      <td>0</td>\n",
              "      <td>0</td>\n",
              "      <td>0</td>\n",
              "      <td>weekend</td>\n",
              "    </tr>\n",
              "    <tr>\n",
              "      <th>3</th>\n",
              "      <td>3</td>\n",
              "      <td>1</td>\n",
              "      <td>137.0</td>\n",
              "      <td>200.0</td>\n",
              "      <td>63.0</td>\n",
              "      <td>1</td>\n",
              "      <td>0</td>\n",
              "      <td>0</td>\n",
              "      <td>0</td>\n",
              "      <td>0</td>\n",
              "      <td>0</td>\n",
              "      <td>0</td>\n",
              "      <td>weekend</td>\n",
              "    </tr>\n",
              "    <tr>\n",
              "      <th>4</th>\n",
              "      <td>1</td>\n",
              "      <td>1</td>\n",
              "      <td>75.0</td>\n",
              "      <td>80.0</td>\n",
              "      <td>5.0</td>\n",
              "      <td>1</td>\n",
              "      <td>0</td>\n",
              "      <td>0</td>\n",
              "      <td>0</td>\n",
              "      <td>0</td>\n",
              "      <td>0</td>\n",
              "      <td>0</td>\n",
              "      <td>weekend</td>\n",
              "    </tr>\n",
              "  </tbody>\n",
              "</table>\n",
              "</div>"
            ],
            "text/plain": [
              "   no_of_items  variation  total   paid  ...  high_end  asset  fixed_asset  day_type\n",
              "0            1          1   90.0  100.0  ...         0      0            0   weekend\n",
              "1            1          1   90.0  500.0  ...         0      0            0   weekend\n",
              "2            3          1  270.0  300.0  ...         0      0            0   weekend\n",
              "3            3          1  137.0  200.0  ...         0      0            0   weekend\n",
              "4            1          1   75.0   80.0  ...         0      0            0   weekend\n",
              "\n",
              "[5 rows x 13 columns]"
            ]
          },
          "metadata": {
            "tags": []
          },
          "execution_count": 198
        }
      ]
    },
    {
      "cell_type": "code",
      "metadata": {
        "id": "HdftJ6sxdu2t",
        "colab_type": "code",
        "outputId": "ae266f54-007f-4e6f-fc9d-0da27b92c6f8",
        "colab": {
          "base_uri": "https://localhost:8080/",
          "height": 85
        }
      },
      "source": [
        "super_df.columns"
      ],
      "execution_count": 0,
      "outputs": [
        {
          "output_type": "execute_result",
          "data": {
            "text/plain": [
              "Index(['no_of_items', 'variation', 'total', 'paid', 'change', 'food', 'snack',\n",
              "       'beverage', 'consumables', 'high_end', 'asset', 'fixed_asset',\n",
              "       'day_type'],\n",
              "      dtype='object')"
            ]
          },
          "metadata": {
            "tags": []
          },
          "execution_count": 199
        }
      ]
    },
    {
      "cell_type": "code",
      "metadata": {
        "id": "AaEXtf52ddWT",
        "colab_type": "code",
        "outputId": "634c6a8a-1a06-47bb-d2e5-ea910664275c",
        "colab": {
          "base_uri": "https://localhost:8080/",
          "height": 34
        }
      },
      "source": [
        "# Feature extraction .\n",
        "#\n",
        "numeric_df = super_df[['no_of_items', 'variation', 'total', 'paid', 'change', 'food', 'snack',\\\n",
        "                       'beverage', 'consumables', 'high_end', 'asset', 'fixed_asset']]\n",
        "\n",
        "X = numeric_df\n",
        "y = super_df['day_type']\n",
        "y.shape[0]"
      ],
      "execution_count": 0,
      "outputs": [
        {
          "output_type": "execute_result",
          "data": {
            "text/plain": [
              "1414"
            ]
          },
          "metadata": {
            "tags": []
          },
          "execution_count": 200
        }
      ]
    },
    {
      "cell_type": "code",
      "metadata": {
        "id": "JMchIINRepPu",
        "colab_type": "code",
        "colab": {}
      },
      "source": [
        "# Splitting our data into training and test sets:\n",
        "#\n",
        "from sklearn.model_selection import train_test_split\n",
        "\n",
        "X_train, X_test, y_train, y_test = train_test_split(X, y, test_size=0.25, random_state=60)\n"
      ],
      "execution_count": 0,
      "outputs": []
    },
    {
      "cell_type": "code",
      "metadata": {
        "id": "rCqImc49cUha",
        "colab_type": "code",
        "outputId": "702b03d7-f2b7-4d2f-b1fe-92a8dde25907",
        "colab": {
          "base_uri": "https://localhost:8080/",
          "height": 884
        }
      },
      "source": [
        "# Using the GaussianNB classifier (i.e. from sklearn.naive_bayes import GaussianNB) \n",
        "# Training the model\n",
        "#\n",
        "from sklearn.naive_bayes import GaussianNB\n",
        "model = GaussianNB()\n",
        "\n",
        "model.fit(X_train, y_train)\n",
        "\n",
        "# Making the prediction:\n",
        "#\n",
        "y_pred = model.predict(X_test)\n",
        "print(f\"Predicted Day type is: {y_pred}\")"
      ],
      "execution_count": 0,
      "outputs": [
        {
          "output_type": "stream",
          "text": [
            "Predicted Day type is: ['weekday' 'weekday' 'weekday' 'weekday' 'weekday' 'weekday' 'weekday'\n",
            " 'weekday' 'weekday' 'weekday' 'weekday' 'weekday' 'weekday' 'weekday'\n",
            " 'weekday' 'weekday' 'weekday' 'weekday' 'weekday' 'weekday' 'weekday'\n",
            " 'weekday' 'weekend' 'weekday' 'weekday' 'weekday' 'weekday' 'weekday'\n",
            " 'weekday' 'weekend' 'weekday' 'weekday' 'weekday' 'weekday' 'weekday'\n",
            " 'weekday' 'weekend' 'weekday' 'weekday' 'weekday' 'weekday' 'weekday'\n",
            " 'weekday' 'weekday' 'weekday' 'weekday' 'weekday' 'weekday' 'weekday'\n",
            " 'weekday' 'weekday' 'weekday' 'weekday' 'weekday' 'weekday' 'weekday'\n",
            " 'weekday' 'weekday' 'weekday' 'weekday' 'weekday' 'weekday' 'weekday'\n",
            " 'weekday' 'weekday' 'weekday' 'weekday' 'weekday' 'weekday' 'weekday'\n",
            " 'weekday' 'weekday' 'weekday' 'weekend' 'weekday' 'weekday' 'weekday'\n",
            " 'weekday' 'weekend' 'weekday' 'weekday' 'weekday' 'weekday' 'weekday'\n",
            " 'weekday' 'weekday' 'weekday' 'weekend' 'weekday' 'weekday' 'weekday'\n",
            " 'weekday' 'weekday' 'weekday' 'weekday' 'weekday' 'weekday' 'weekday'\n",
            " 'weekend' 'weekday' 'weekday' 'weekday' 'weekend' 'weekday' 'weekday'\n",
            " 'weekend' 'weekday' 'weekday' 'weekday' 'weekday' 'weekday' 'weekday'\n",
            " 'weekday' 'weekday' 'weekday' 'weekday' 'weekday' 'weekday' 'weekday'\n",
            " 'weekday' 'weekday' 'weekday' 'weekend' 'weekday' 'weekend' 'weekday'\n",
            " 'weekday' 'weekday' 'weekday' 'weekday' 'weekday' 'weekday' 'weekend'\n",
            " 'weekday' 'weekday' 'weekday' 'weekday' 'weekend' 'weekday' 'weekend'\n",
            " 'weekday' 'weekday' 'weekday' 'weekday' 'weekday' 'weekday' 'weekend'\n",
            " 'weekday' 'weekday' 'weekday' 'weekend' 'weekday' 'weekday' 'weekday'\n",
            " 'weekday' 'weekend' 'weekend' 'weekday' 'weekday' 'weekday' 'weekday'\n",
            " 'weekday' 'weekday' 'weekday' 'weekday' 'weekday' 'weekday' 'weekday'\n",
            " 'weekday' 'weekday' 'weekday' 'weekend' 'weekday' 'weekday' 'weekday'\n",
            " 'weekday' 'weekend' 'weekday' 'weekday' 'weekday' 'weekday' 'weekday'\n",
            " 'weekday' 'weekday' 'weekday' 'weekday' 'weekday' 'weekday' 'weekday'\n",
            " 'weekday' 'weekday' 'weekday' 'weekday' 'weekday' 'weekday' 'weekday'\n",
            " 'weekday' 'weekday' 'weekday' 'weekday' 'weekday' 'weekday' 'weekday'\n",
            " 'weekday' 'weekday' 'weekday' 'weekday' 'weekday' 'weekday' 'weekday'\n",
            " 'weekend' 'weekday' 'weekday' 'weekday' 'weekday' 'weekday' 'weekday'\n",
            " 'weekday' 'weekday' 'weekday' 'weekday' 'weekend' 'weekend' 'weekday'\n",
            " 'weekend' 'weekday' 'weekday' 'weekday' 'weekday' 'weekday' 'weekday'\n",
            " 'weekday' 'weekend' 'weekday' 'weekday' 'weekend' 'weekday' 'weekday'\n",
            " 'weekday' 'weekday' 'weekday' 'weekday' 'weekday' 'weekday' 'weekday'\n",
            " 'weekend' 'weekend' 'weekday' 'weekday' 'weekday' 'weekday' 'weekday'\n",
            " 'weekday' 'weekday' 'weekday' 'weekday' 'weekday' 'weekend' 'weekday'\n",
            " 'weekday' 'weekday' 'weekday' 'weekday' 'weekend' 'weekday' 'weekday'\n",
            " 'weekend' 'weekday' 'weekday' 'weekday' 'weekday' 'weekday' 'weekday'\n",
            " 'weekday' 'weekday' 'weekday' 'weekday' 'weekday' 'weekday' 'weekday'\n",
            " 'weekday' 'weekday' 'weekday' 'weekday' 'weekday' 'weekday' 'weekday'\n",
            " 'weekday' 'weekday' 'weekday' 'weekday' 'weekday' 'weekday' 'weekday'\n",
            " 'weekday' 'weekday' 'weekday' 'weekday' 'weekday' 'weekday' 'weekday'\n",
            " 'weekday' 'weekday' 'weekday' 'weekday' 'weekday' 'weekday' 'weekday'\n",
            " 'weekday' 'weekday' 'weekday' 'weekday' 'weekday' 'weekday' 'weekday'\n",
            " 'weekday' 'weekday' 'weekday' 'weekday' 'weekday' 'weekday' 'weekday'\n",
            " 'weekday' 'weekday' 'weekday' 'weekday' 'weekday' 'weekday' 'weekend'\n",
            " 'weekday' 'weekend' 'weekday' 'weekday' 'weekday' 'weekday' 'weekday'\n",
            " 'weekday' 'weekday' 'weekday' 'weekday' 'weekday' 'weekday' 'weekend'\n",
            " 'weekday' 'weekday' 'weekday' 'weekday' 'weekday' 'weekday' 'weekday'\n",
            " 'weekday' 'weekday' 'weekday' 'weekday']\n"
          ],
          "name": "stdout"
        }
      ]
    },
    {
      "cell_type": "code",
      "metadata": {
        "id": "L_2olwDOfrYF",
        "colab_type": "code",
        "outputId": "ca39148c-4ef3-404e-fb76-687328a6df46",
        "colab": {
          "base_uri": "https://localhost:8080/",
          "height": 34
        }
      },
      "source": [
        "# calculating the Acurracy of our model.\n",
        "#\n",
        "from sklearn import metrics\n",
        "\n",
        "# Model Accuracy implies how often is the classifier correct?\n",
        "print(\" Accuracy: \", metrics.accuracy_score(y_test, y_pred))"
      ],
      "execution_count": 0,
      "outputs": [
        {
          "output_type": "stream",
          "text": [
            " Accuracy:  0.7994350282485876\n"
          ],
          "name": "stdout"
        }
      ]
    }
  ]
}